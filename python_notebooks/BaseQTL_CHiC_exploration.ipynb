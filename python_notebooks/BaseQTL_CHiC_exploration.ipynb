{
 "cells": [
  {
   "cell_type": "code",
   "execution_count": 1,
   "metadata": {},
   "outputs": [
    {
     "name": "stderr",
     "output_type": "stream",
     "text": [
      "\n",
      "Attaching package: ‘dplyr’\n",
      "\n",
      "\n",
      "The following objects are masked from ‘package:data.table’:\n",
      "\n",
      "    between, first, last\n",
      "\n",
      "\n",
      "The following objects are masked from ‘package:stats’:\n",
      "\n",
      "    filter, lag\n",
      "\n",
      "\n",
      "The following objects are masked from ‘package:base’:\n",
      "\n",
      "    intersect, setdiff, setequal, union\n",
      "\n",
      "\n"
     ]
    },
    {
     "data": {
      "text/html": [
       "11624"
      ],
      "text/latex": [
       "11624"
      ],
      "text/markdown": [
       "11624"
      ],
      "text/plain": [
       "[1] 11624"
      ]
     },
     "metadata": {},
     "output_type": "display_data"
    },
    {
     "data": {
      "text/html": [
       "11624"
      ],
      "text/latex": [
       "11624"
      ],
      "text/markdown": [
       "11624"
      ],
      "text/plain": [
       "[1] 11624"
      ]
     },
     "metadata": {},
     "output_type": "display_data"
    },
    {
     "data": {
      "text/html": [
       "11624"
      ],
      "text/latex": [
       "11624"
      ],
      "text/markdown": [
       "11624"
      ],
      "text/plain": [
       "[1] 11624"
      ]
     },
     "metadata": {},
     "output_type": "display_data"
    },
    {
     "data": {
      "text/html": [
       "11381"
      ],
      "text/latex": [
       "11381"
      ],
      "text/markdown": [
       "11381"
      ],
      "text/plain": [
       "[1] 11381"
      ]
     },
     "metadata": {},
     "output_type": "display_data"
    },
    {
     "data": {
      "text/html": [
       "9668"
      ],
      "text/latex": [
       "9668"
      ],
      "text/markdown": [
       "9668"
      ],
      "text/plain": [
       "[1] 9668"
      ]
     },
     "metadata": {},
     "output_type": "display_data"
    },
    {
     "data": {
      "text/html": [
       "9668"
      ],
      "text/latex": [
       "9668"
      ],
      "text/markdown": [
       "9668"
      ],
      "text/plain": [
       "[1] 9668"
      ]
     },
     "metadata": {},
     "output_type": "display_data"
    }
   ],
   "source": [
    "####### Analyse the BaseQTL results, with the following settings:\n",
    "### Rhat and AI filtering as recommended\n",
    "### Remove DpnII effects for SNPs and other SNPs in LD\n",
    "### Restrict to only those SNP-gene pairs that are \"truly distal\" i.e. all proxy SNPs >= 10kb from gene promoter\n",
    "#######\n",
    "\n",
    "setwd(\"~/HRJ_monocytes/BaseQTL/findings_round2_dpnIICorrection/\")\n",
    "library(data.table)\n",
    "library(dplyr)\n",
    "library(stringr)\n",
    "library(ggplot2)\n",
    "library(tidyr)\n",
    "\n",
    "#######\n",
    "### To do:\n",
    "### 1. Make a table of significant SNPs with gene targets and distances\n",
    "### 2. Make an intersection with ATAC\n",
    "### 3. Make a heatmap for CHiC, ATAC, expression and Blueprint, accounting for LD\n",
    "### 4. Prepare for coloc.\n",
    "#######\n",
    "\n",
    "res <- fread(\"../elena_results/CHi-C/round2_refBias/all_stan.summary.txt\")\n",
    "doubleCheck <- fread(\"../../findmotifs/find_new_dpnII/snps_went_into_loopingQTL_analysis.DpnII.marked.REFALTseqs.PURGED.DISTAL.txt\")\n",
    "DpnII_purge <- fread(\"../../findmotifs/find_new_dpnII/SNPs_and_LD_proxies_Jan2020.DpnII.marked.REFALTseqs.txt\")\n",
    "trueDistal <- fread(\"~/eCHiC/design/final_design/V02_final_filtered_eqtls_illumina_july19_hg38_Jan20.txt\")\n",
    "all_info <- fread(\"../../eqtls/snps_went_into_loopingQTL_analysis_with_gene_targets.txt\")\n",
    "\n",
    "# Now reading in matrixeQTL resuls from Alex\n",
    "resAlex <- readRDS(\"~/HRJ_monocytes/eqtls/eQTL_analysis/results/from_alex/RNA_cis_MatrixEQTLout.rds\")\n",
    "\n",
    "###### Process the stan summary to get SNPs and genes\n",
    "res <- res[!int_id %like% \"gwas\"]\n",
    "res[`2.5%` > 0 & `97.5%` > 0, Signif.95 := \"yes\"]\n",
    "res[`2.5%` < 0 & `97.5%` < 0, Signif.95 := \"yes\"]\n",
    "res[`2.5%` < 0 & `97.5%` > 0, Signif.95 := \"no\"]\n",
    "res[, c(\"BaseQTL_SNP_hg19\", \"ENSG_ID\", \"GeneTemp\") := tstrsplit(int_id, split = \"_\", keep = c(1:3))]\n",
    "res[, Gene := sub(\"-[^-]+$\", \"\", GeneTemp)]\n",
    "#res <- res[, .(BaseQTL_SNP_hg19, ENSG_ID, Gene, log_mean_aFC, se_mean, sd, PEP, AI_estimate, Rhat, model, Signif.95, Signif.99)] # Keep all columns\n",
    "res_info <- res[all_info, on = c(BaseQTL_SNP_hg19 = \"hg19Proxy_ID\", ENSG_ID = \"ENSG_ID\", Gene = \"Gene\"), nomatch = NULL]\n",
    "length(unique(res_info$BaseQTL_SNP_hg19))\n",
    "length(unique(res$BaseQTL_SNP_hg19)) # perfect!\n",
    "\n",
    "#######\n",
    "\n",
    "###### Perform filtering \n",
    "\n",
    "### filtering to remove DpnII effects \n",
    "DpnII_purge_remove <- DpnII_purge[all_dpn_ALT %like% \"TRUE\" | all_dpn_REF %like% \"TRUE\" | dpn_REF_in_baitRight == TRUE] # these are the SNPs to remove.\n",
    "res_info_noDpn <- res_info[!BaseQTL_SNP_hg19 %in% DpnII_purge_remove$id]\n",
    "length(unique(res_info$BaseQTL_SNP_hg19)) # 11624\n",
    "length(unique(res_info_noDpn$BaseQTL_SNP_hg19)) # 11381\n",
    "\n",
    "### filtering to remove proximal effects\n",
    "res_info_noDpn_distal <- res_info_noDpn[hg19SNP_ID %in% trueDistal$hg19SNP_ID]\n",
    "length(unique(res_info_noDpn_distal$BaseQTL_SNP_hg19)) # 9668\n",
    "\n",
    "# double check against this file\n",
    "#doubleCheck\n",
    "DC <- res[doubleCheck, on = c(BaseQTL_SNP_hg19 = \"hg19Proxy_ID\", ENSG_ID = \"ENSG_ID\", Gene = \"Gene\"), \n",
    "            nomatch = NULL]\n",
    "length(unique(DC$BaseQTL_SNP_hg19)) # yes, 9668!\n",
    "\n",
    "## continue with res_info_noDpn_distal\n",
    "#######\n",
    "\n",
    "###### Get distances between SNPs and genes. Make Signif table\n",
    "distances <- as.data.table(res_info_noDpn_distal %>% distinct(hg38Proxy_pos, ENSG_ID, Gene, TSS) %>% \n",
    "                          group_by(ENSG_ID, Gene) %>% mutate(meanTSS := mean(TSS)) %>% distinct(ENSG_ID, Gene, hg38Proxy_pos, meanTSS))\n",
    "# join back together\n",
    "res_dist <- res_info_noDpn_distal[distances, on = c(\"hg38Proxy_pos\", \"ENSG_ID\", \"Gene\"), nomatch = NULL]\n",
    "\n",
    "res_dist[, TSS := NULL]\n",
    "res_dist[, meanTSS := as.numeric(meanTSS)]\n",
    "res_dist[, hg38Proxy_pos := as.numeric(hg38Proxy_pos)]\n",
    "\n",
    "res_dist[, SNP_promoter_dist := abs(hg38Proxy_pos - meanTSS)]\n",
    "#quantile(res_dist$SNP_promoter_dist)\n",
    "######\n",
    "\n",
    "sig1 <- res_dist[Rhat < 1.01]\n",
    "sig2 <- sig1[AI_estimate >= 0.4 | is.na(AI_estimate) & model == \"NB\"]\n",
    "sig <- unique(sig2[Signif.95 == \"yes\"])\n",
    "sig[, Chr := tstrsplit(BaseQTL_SNP_hg19, split = \":\", keep =1, type.convert = T)]\n",
    "setorder(sig, Chr)\n",
    "nameorder <- moveme(names(sig), \"Chr first\")\n",
    "sig2 <- sig[, ..nameorder]\n",
    "\n",
    "fwrite(sig2, file = \"./BaseQTL_CHiC_Filt_on_Dpn_Distal_Rhat_AI_allCols.txt\", sep = \"\\t\", quote = F, \n",
    "      row.names = F, col.names = T)\n",
    "\n",
    "##### Also save a version of all results\n",
    "res_dist[, Chr := tstrsplit(BaseQTL_SNP_hg19, split = \":\", keep =1, type.convert = T)]\n",
    "setorder(res_dist, Chr)\n",
    "nameorder <- moveme(names(res_dist), \"Chr first\")\n",
    "res_dist2 <- res_dist[, ..nameorder]\n",
    "fwrite(res_dist2, file = \"./BaseQTL_CHiC_Filt_on_Dpn_Distal_Rhat_AI_allCols_allResults.txt\", sep = \"\\t\", quote = F, \n",
    "      row.names = F, col.names = T)"
   ]
  },
  {
   "cell_type": "code",
   "execution_count": 4,
   "metadata": {},
   "outputs": [],
   "source": [
    "length(unique(res_dist$hg19SNP_ID))\n",
    "length(unique(res_dist$hg38Proxy_ID))\n",
    "res_dist[, is_eQTL := hg38Proxy_ID == hg38SNP_ID]\n",
    "same <- res_dist[is_eQTL == T]\n",
    "length(unique(same$hg38Proxy_ID))\n",
    "dif <- res_dist[is_eQTL == F]\n",
    "length(unique(dif$hg38Proxy_ID))"
   ]
  },
  {
   "cell_type": "code",
   "execution_count": 4,
   "metadata": {},
   "outputs": [
    {
     "name": "stderr",
     "output_type": "stream",
     "text": [
      "Warning message in fread(\"~/HRJ_monocytes/leo_triplets/input/alex_inputs/CHiC_gene_locations.csv\"):\n",
      "“Detected 4 column names but the data has 5 columns (i.e. invalid file). Added 1 extra default column name for the first column which is guessed to be row names or an index. Use setnames() afterwards if this guess is not correct, or fix the file write command that created the file to create a valid file.”\n"
     ]
    },
    {
     "data": {
      "text/html": [
       "11152"
      ],
      "text/latex": [
       "11152"
      ],
      "text/markdown": [
       "11152"
      ],
      "text/plain": [
       "[1] 11152"
      ]
     },
     "metadata": {},
     "output_type": "display_data"
    },
    {
     "data": {
      "text/html": [
       "<table class=\"dataframe\">\n",
       "<caption>A data.table: 11152 × 5</caption>\n",
       "<thead>\n",
       "\t<tr><th scope=col>V1</th><th scope=col>geneid</th><th scope=col>chr</th><th scope=col>left</th><th scope=col>right</th></tr>\n",
       "\t<tr><th scope=col>&lt;int&gt;</th><th scope=col>&lt;chr&gt;</th><th scope=col>&lt;chr&gt;</th><th scope=col>&lt;int&gt;</th><th scope=col>&lt;int&gt;</th></tr>\n",
       "</thead>\n",
       "<tbody>\n",
       "\t<tr><td> 1</td><td>1000319_ENSG00000026508_CD44 </td><td>chr11</td><td>35146970</td><td>35147680</td></tr>\n",
       "\t<tr><td> 2</td><td>1000358_ENSG00000026508_CD44 </td><td>chr11</td><td>35162449</td><td>35163957</td></tr>\n",
       "\t<tr><td> 3</td><td>1020975_ENSG00000151348_EXT2 </td><td>chr11</td><td>44066424</td><td>44067717</td></tr>\n",
       "\t<tr><td> 4</td><td>1021057_ENSG00000110455_ACCS </td><td>chr11</td><td>44091905</td><td>44092020</td></tr>\n",
       "\t<tr><td> 5</td><td>1021060_ENSG00000110455_ACCS </td><td>chr11</td><td>44092384</td><td>44092731</td></tr>\n",
       "\t<tr><td> 6</td><td>1022131_ENSG00000085117_CD82 </td><td>chr11</td><td>44525526</td><td>44525667</td></tr>\n",
       "\t<tr><td> 7</td><td>1022135_ENSG00000085117_CD82 </td><td>chr11</td><td>44526194</td><td>44526445</td></tr>\n",
       "\t<tr><td> 8</td><td>1029652_ENSG00000110514_MADD </td><td>chr11</td><td>47234031</td><td>47234335</td></tr>\n",
       "\t<tr><td> 9</td><td>1029808_ENSG00000066336_SPI1 </td><td>chr11</td><td>47276553</td><td>47276793</td></tr>\n",
       "\t<tr><td>10</td><td>1029826_ENSG00000066336_SPI1 </td><td>chr11</td><td>47281643</td><td>47282072</td></tr>\n",
       "\t<tr><td>11</td><td>1047820_ENSG00000156603_MED19</td><td>chr11</td><td>57921608</td><td>57921783</td></tr>\n",
       "\t<tr><td>12</td><td>1047824_ENSG00000156603_MED19</td><td>chr11</td><td>57923492</td><td>57924169</td></tr>\n",
       "\t<tr><td>13</td><td>1047835_ENSG00000156603_MED19</td><td>chr11</td><td>57928640</td><td>57929247</td></tr>\n",
       "\t<tr><td>14</td><td>1047839_ENSG00000156603_MED19</td><td>chr11</td><td>57930679</td><td>57931266</td></tr>\n",
       "\t<tr><td>15</td><td>1047841_ENSG00000156603_MED19</td><td>chr11</td><td>57931571</td><td>57932046</td></tr>\n",
       "\t<tr><td>16</td><td>1047845_ENSG00000156603_MED19</td><td>chr11</td><td>57932675</td><td>57933371</td></tr>\n",
       "\t<tr><td>17</td><td>1047846_ENSG00000156603_MED19</td><td>chr11</td><td>57933372</td><td>57933483</td></tr>\n",
       "\t<tr><td>18</td><td>1047854_ENSG00000156603_MED19</td><td>chr11</td><td>57935603</td><td>57936730</td></tr>\n",
       "\t<tr><td>19</td><td>1047861_ENSG00000156603_MED19</td><td>chr11</td><td>57939152</td><td>57939405</td></tr>\n",
       "\t<tr><td>20</td><td>1047866_ENSG00000156603_MED19</td><td>chr11</td><td>57940810</td><td>57940949</td></tr>\n",
       "\t<tr><td>21</td><td>1047896_ENSG00000156603_MED19</td><td>chr11</td><td>57947530</td><td>57948102</td></tr>\n",
       "\t<tr><td>22</td><td>1047901_ENSG00000156603_MED19</td><td>chr11</td><td>57949890</td><td>57950368</td></tr>\n",
       "\t<tr><td>23</td><td>1047946_ENSG00000156603_MED19</td><td>chr11</td><td>57963453</td><td>57963710</td></tr>\n",
       "\t<tr><td>24</td><td>1047968_ENSG00000156603_MED19</td><td>chr11</td><td>57970675</td><td>57971533</td></tr>\n",
       "\t<tr><td>25</td><td>1047980_ENSG00000156603_MED19</td><td>chr11</td><td>57975720</td><td>57976176</td></tr>\n",
       "\t<tr><td>26</td><td>1047981_ENSG00000156603_MED19</td><td>chr11</td><td>57976177</td><td>57976903</td></tr>\n",
       "\t<tr><td>27</td><td>1048001_ENSG00000156603_MED19</td><td>chr11</td><td>57983779</td><td>57984733</td></tr>\n",
       "\t<tr><td>28</td><td>1048025_ENSG00000156603_MED19</td><td>chr11</td><td>57992230</td><td>57993726</td></tr>\n",
       "\t<tr><td>29</td><td>1049408_ENSG00000186660_ZFP91</td><td>chr11</td><td>58555872</td><td>58556001</td></tr>\n",
       "\t<tr><td>30</td><td>1049577_ENSG00000186660_ZFP91</td><td>chr11</td><td>58627869</td><td>58628454</td></tr>\n",
       "\t<tr><td>⋮</td><td>⋮</td><td>⋮</td><td>⋮</td><td>⋮</td></tr>\n",
       "\t<tr><td>11123</td><td>989451_ENSG00000152219_ARL14EP</td><td>chr11</td><td>30891719</td><td>30892668</td></tr>\n",
       "\t<tr><td>11124</td><td>989457_ENSG00000152219_ARL14EP</td><td>chr11</td><td>30895593</td><td>30896258</td></tr>\n",
       "\t<tr><td>11125</td><td>989460_ENSG00000152219_ARL14EP</td><td>chr11</td><td>30896652</td><td>30897211</td></tr>\n",
       "\t<tr><td>11126</td><td>989461_ENSG00000152219_ARL14EP</td><td>chr11</td><td>30897212</td><td>30897364</td></tr>\n",
       "\t<tr><td>11127</td><td>989464_ENSG00000152219_ARL14EP</td><td>chr11</td><td>30897534</td><td>30898428</td></tr>\n",
       "\t<tr><td>11128</td><td>989465_ENSG00000152219_ARL14EP</td><td>chr11</td><td>30898429</td><td>30899006</td></tr>\n",
       "\t<tr><td>11129</td><td>989468_ENSG00000152219_ARL14EP</td><td>chr11</td><td>30900085</td><td>30901169</td></tr>\n",
       "\t<tr><td>11130</td><td>989469_ENSG00000152219_ARL14EP</td><td>chr11</td><td>30901170</td><td>30902020</td></tr>\n",
       "\t<tr><td>11131</td><td>989480_ENSG00000152219_ARL14EP</td><td>chr11</td><td>30905329</td><td>30905874</td></tr>\n",
       "\t<tr><td>11132</td><td>989483_ENSG00000152219_ARL14EP</td><td>chr11</td><td>30907422</td><td>30908950</td></tr>\n",
       "\t<tr><td>11133</td><td>989484_ENSG00000152219_ARL14EP</td><td>chr11</td><td>30908951</td><td>30910733</td></tr>\n",
       "\t<tr><td>11134</td><td>989489_ENSG00000152219_ARL14EP</td><td>chr11</td><td>30911995</td><td>30912346</td></tr>\n",
       "\t<tr><td>11135</td><td>989492_ENSG00000152219_ARL14EP</td><td>chr11</td><td>30912521</td><td>30913197</td></tr>\n",
       "\t<tr><td>11136</td><td>989502_ENSG00000152219_ARL14EP</td><td>chr11</td><td>30915761</td><td>30917105</td></tr>\n",
       "\t<tr><td>11137</td><td>989513_ENSG00000152219_ARL14EP</td><td>chr11</td><td>30919470</td><td>30920398</td></tr>\n",
       "\t<tr><td>11138</td><td>989523_ENSG00000152219_ARL14EP</td><td>chr11</td><td>30921820</td><td>30922108</td></tr>\n",
       "\t<tr><td>11139</td><td>989527_ENSG00000152219_ARL14EP</td><td>chr11</td><td>30923539</td><td>30923854</td></tr>\n",
       "\t<tr><td>11140</td><td>989531_ENSG00000152219_ARL14EP</td><td>chr11</td><td>30924849</td><td>30926896</td></tr>\n",
       "\t<tr><td>11141</td><td>989545_ENSG00000152219_ARL14EP</td><td>chr11</td><td>30929857</td><td>30931138</td></tr>\n",
       "\t<tr><td>11142</td><td>989571_ENSG00000152219_ARL14EP</td><td>chr11</td><td>30941373</td><td>30941515</td></tr>\n",
       "\t<tr><td>11143</td><td>989574_ENSG00000152219_ARL14EP</td><td>chr11</td><td>30942383</td><td>30943179</td></tr>\n",
       "\t<tr><td>11144</td><td>989576_ENSG00000152219_ARL14EP</td><td>chr11</td><td>30944099</td><td>30945204</td></tr>\n",
       "\t<tr><td>11145</td><td>989584_ENSG00000152219_ARL14EP</td><td>chr11</td><td>30947717</td><td>30948717</td></tr>\n",
       "\t<tr><td>11146</td><td>989615_ENSG00000152219_ARL14EP</td><td>chr11</td><td>30959687</td><td>30960067</td></tr>\n",
       "\t<tr><td>11147</td><td>999669_ENSG00000110435_PDHX   </td><td>chr11</td><td>34865185</td><td>34865355</td></tr>\n",
       "\t<tr><td>11148</td><td>999685_ENSG00000110435_PDHX   </td><td>chr11</td><td>34868244</td><td>34868532</td></tr>\n",
       "\t<tr><td>11149</td><td>999698_ENSG00000110435_PDHX   </td><td>chr11</td><td>34873247</td><td>34875045</td></tr>\n",
       "\t<tr><td>11150</td><td>999701_ENSG00000110435_PDHX   </td><td>chr11</td><td>34875835</td><td>34876612</td></tr>\n",
       "\t<tr><td>11151</td><td>999708_ENSG00000110435_PDHX   </td><td>chr11</td><td>34879157</td><td>34879614</td></tr>\n",
       "\t<tr><td>11152</td><td>999856_ENSG00000110435_PDHX   </td><td>chr11</td><td>34945414</td><td>34945822</td></tr>\n",
       "</tbody>\n",
       "</table>\n"
      ],
      "text/latex": [
       "A data.table: 11152 × 5\n",
       "\\begin{tabular}{lllll}\n",
       " V1 & geneid & chr & left & right\\\\\n",
       " <int> & <chr> & <chr> & <int> & <int>\\\\\n",
       "\\hline\n",
       "\t  1 & 1000319\\_ENSG00000026508\\_CD44  & chr11 & 35146970 & 35147680\\\\\n",
       "\t  2 & 1000358\\_ENSG00000026508\\_CD44  & chr11 & 35162449 & 35163957\\\\\n",
       "\t  3 & 1020975\\_ENSG00000151348\\_EXT2  & chr11 & 44066424 & 44067717\\\\\n",
       "\t  4 & 1021057\\_ENSG00000110455\\_ACCS  & chr11 & 44091905 & 44092020\\\\\n",
       "\t  5 & 1021060\\_ENSG00000110455\\_ACCS  & chr11 & 44092384 & 44092731\\\\\n",
       "\t  6 & 1022131\\_ENSG00000085117\\_CD82  & chr11 & 44525526 & 44525667\\\\\n",
       "\t  7 & 1022135\\_ENSG00000085117\\_CD82  & chr11 & 44526194 & 44526445\\\\\n",
       "\t  8 & 1029652\\_ENSG00000110514\\_MADD  & chr11 & 47234031 & 47234335\\\\\n",
       "\t  9 & 1029808\\_ENSG00000066336\\_SPI1  & chr11 & 47276553 & 47276793\\\\\n",
       "\t 10 & 1029826\\_ENSG00000066336\\_SPI1  & chr11 & 47281643 & 47282072\\\\\n",
       "\t 11 & 1047820\\_ENSG00000156603\\_MED19 & chr11 & 57921608 & 57921783\\\\\n",
       "\t 12 & 1047824\\_ENSG00000156603\\_MED19 & chr11 & 57923492 & 57924169\\\\\n",
       "\t 13 & 1047835\\_ENSG00000156603\\_MED19 & chr11 & 57928640 & 57929247\\\\\n",
       "\t 14 & 1047839\\_ENSG00000156603\\_MED19 & chr11 & 57930679 & 57931266\\\\\n",
       "\t 15 & 1047841\\_ENSG00000156603\\_MED19 & chr11 & 57931571 & 57932046\\\\\n",
       "\t 16 & 1047845\\_ENSG00000156603\\_MED19 & chr11 & 57932675 & 57933371\\\\\n",
       "\t 17 & 1047846\\_ENSG00000156603\\_MED19 & chr11 & 57933372 & 57933483\\\\\n",
       "\t 18 & 1047854\\_ENSG00000156603\\_MED19 & chr11 & 57935603 & 57936730\\\\\n",
       "\t 19 & 1047861\\_ENSG00000156603\\_MED19 & chr11 & 57939152 & 57939405\\\\\n",
       "\t 20 & 1047866\\_ENSG00000156603\\_MED19 & chr11 & 57940810 & 57940949\\\\\n",
       "\t 21 & 1047896\\_ENSG00000156603\\_MED19 & chr11 & 57947530 & 57948102\\\\\n",
       "\t 22 & 1047901\\_ENSG00000156603\\_MED19 & chr11 & 57949890 & 57950368\\\\\n",
       "\t 23 & 1047946\\_ENSG00000156603\\_MED19 & chr11 & 57963453 & 57963710\\\\\n",
       "\t 24 & 1047968\\_ENSG00000156603\\_MED19 & chr11 & 57970675 & 57971533\\\\\n",
       "\t 25 & 1047980\\_ENSG00000156603\\_MED19 & chr11 & 57975720 & 57976176\\\\\n",
       "\t 26 & 1047981\\_ENSG00000156603\\_MED19 & chr11 & 57976177 & 57976903\\\\\n",
       "\t 27 & 1048001\\_ENSG00000156603\\_MED19 & chr11 & 57983779 & 57984733\\\\\n",
       "\t 28 & 1048025\\_ENSG00000156603\\_MED19 & chr11 & 57992230 & 57993726\\\\\n",
       "\t 29 & 1049408\\_ENSG00000186660\\_ZFP91 & chr11 & 58555872 & 58556001\\\\\n",
       "\t 30 & 1049577\\_ENSG00000186660\\_ZFP91 & chr11 & 58627869 & 58628454\\\\\n",
       "\t ⋮ & ⋮ & ⋮ & ⋮ & ⋮\\\\\n",
       "\t 11123 & 989451\\_ENSG00000152219\\_ARL14EP & chr11 & 30891719 & 30892668\\\\\n",
       "\t 11124 & 989457\\_ENSG00000152219\\_ARL14EP & chr11 & 30895593 & 30896258\\\\\n",
       "\t 11125 & 989460\\_ENSG00000152219\\_ARL14EP & chr11 & 30896652 & 30897211\\\\\n",
       "\t 11126 & 989461\\_ENSG00000152219\\_ARL14EP & chr11 & 30897212 & 30897364\\\\\n",
       "\t 11127 & 989464\\_ENSG00000152219\\_ARL14EP & chr11 & 30897534 & 30898428\\\\\n",
       "\t 11128 & 989465\\_ENSG00000152219\\_ARL14EP & chr11 & 30898429 & 30899006\\\\\n",
       "\t 11129 & 989468\\_ENSG00000152219\\_ARL14EP & chr11 & 30900085 & 30901169\\\\\n",
       "\t 11130 & 989469\\_ENSG00000152219\\_ARL14EP & chr11 & 30901170 & 30902020\\\\\n",
       "\t 11131 & 989480\\_ENSG00000152219\\_ARL14EP & chr11 & 30905329 & 30905874\\\\\n",
       "\t 11132 & 989483\\_ENSG00000152219\\_ARL14EP & chr11 & 30907422 & 30908950\\\\\n",
       "\t 11133 & 989484\\_ENSG00000152219\\_ARL14EP & chr11 & 30908951 & 30910733\\\\\n",
       "\t 11134 & 989489\\_ENSG00000152219\\_ARL14EP & chr11 & 30911995 & 30912346\\\\\n",
       "\t 11135 & 989492\\_ENSG00000152219\\_ARL14EP & chr11 & 30912521 & 30913197\\\\\n",
       "\t 11136 & 989502\\_ENSG00000152219\\_ARL14EP & chr11 & 30915761 & 30917105\\\\\n",
       "\t 11137 & 989513\\_ENSG00000152219\\_ARL14EP & chr11 & 30919470 & 30920398\\\\\n",
       "\t 11138 & 989523\\_ENSG00000152219\\_ARL14EP & chr11 & 30921820 & 30922108\\\\\n",
       "\t 11139 & 989527\\_ENSG00000152219\\_ARL14EP & chr11 & 30923539 & 30923854\\\\\n",
       "\t 11140 & 989531\\_ENSG00000152219\\_ARL14EP & chr11 & 30924849 & 30926896\\\\\n",
       "\t 11141 & 989545\\_ENSG00000152219\\_ARL14EP & chr11 & 30929857 & 30931138\\\\\n",
       "\t 11142 & 989571\\_ENSG00000152219\\_ARL14EP & chr11 & 30941373 & 30941515\\\\\n",
       "\t 11143 & 989574\\_ENSG00000152219\\_ARL14EP & chr11 & 30942383 & 30943179\\\\\n",
       "\t 11144 & 989576\\_ENSG00000152219\\_ARL14EP & chr11 & 30944099 & 30945204\\\\\n",
       "\t 11145 & 989584\\_ENSG00000152219\\_ARL14EP & chr11 & 30947717 & 30948717\\\\\n",
       "\t 11146 & 989615\\_ENSG00000152219\\_ARL14EP & chr11 & 30959687 & 30960067\\\\\n",
       "\t 11147 & 999669\\_ENSG00000110435\\_PDHX    & chr11 & 34865185 & 34865355\\\\\n",
       "\t 11148 & 999685\\_ENSG00000110435\\_PDHX    & chr11 & 34868244 & 34868532\\\\\n",
       "\t 11149 & 999698\\_ENSG00000110435\\_PDHX    & chr11 & 34873247 & 34875045\\\\\n",
       "\t 11150 & 999701\\_ENSG00000110435\\_PDHX    & chr11 & 34875835 & 34876612\\\\\n",
       "\t 11151 & 999708\\_ENSG00000110435\\_PDHX    & chr11 & 34879157 & 34879614\\\\\n",
       "\t 11152 & 999856\\_ENSG00000110435\\_PDHX    & chr11 & 34945414 & 34945822\\\\\n",
       "\\end{tabular}\n"
      ],
      "text/markdown": [
       "\n",
       "A data.table: 11152 × 5\n",
       "\n",
       "| V1 &lt;int&gt; | geneid &lt;chr&gt; | chr &lt;chr&gt; | left &lt;int&gt; | right &lt;int&gt; |\n",
       "|---|---|---|---|---|\n",
       "|  1 | 1000319_ENSG00000026508_CD44  | chr11 | 35146970 | 35147680 |\n",
       "|  2 | 1000358_ENSG00000026508_CD44  | chr11 | 35162449 | 35163957 |\n",
       "|  3 | 1020975_ENSG00000151348_EXT2  | chr11 | 44066424 | 44067717 |\n",
       "|  4 | 1021057_ENSG00000110455_ACCS  | chr11 | 44091905 | 44092020 |\n",
       "|  5 | 1021060_ENSG00000110455_ACCS  | chr11 | 44092384 | 44092731 |\n",
       "|  6 | 1022131_ENSG00000085117_CD82  | chr11 | 44525526 | 44525667 |\n",
       "|  7 | 1022135_ENSG00000085117_CD82  | chr11 | 44526194 | 44526445 |\n",
       "|  8 | 1029652_ENSG00000110514_MADD  | chr11 | 47234031 | 47234335 |\n",
       "|  9 | 1029808_ENSG00000066336_SPI1  | chr11 | 47276553 | 47276793 |\n",
       "| 10 | 1029826_ENSG00000066336_SPI1  | chr11 | 47281643 | 47282072 |\n",
       "| 11 | 1047820_ENSG00000156603_MED19 | chr11 | 57921608 | 57921783 |\n",
       "| 12 | 1047824_ENSG00000156603_MED19 | chr11 | 57923492 | 57924169 |\n",
       "| 13 | 1047835_ENSG00000156603_MED19 | chr11 | 57928640 | 57929247 |\n",
       "| 14 | 1047839_ENSG00000156603_MED19 | chr11 | 57930679 | 57931266 |\n",
       "| 15 | 1047841_ENSG00000156603_MED19 | chr11 | 57931571 | 57932046 |\n",
       "| 16 | 1047845_ENSG00000156603_MED19 | chr11 | 57932675 | 57933371 |\n",
       "| 17 | 1047846_ENSG00000156603_MED19 | chr11 | 57933372 | 57933483 |\n",
       "| 18 | 1047854_ENSG00000156603_MED19 | chr11 | 57935603 | 57936730 |\n",
       "| 19 | 1047861_ENSG00000156603_MED19 | chr11 | 57939152 | 57939405 |\n",
       "| 20 | 1047866_ENSG00000156603_MED19 | chr11 | 57940810 | 57940949 |\n",
       "| 21 | 1047896_ENSG00000156603_MED19 | chr11 | 57947530 | 57948102 |\n",
       "| 22 | 1047901_ENSG00000156603_MED19 | chr11 | 57949890 | 57950368 |\n",
       "| 23 | 1047946_ENSG00000156603_MED19 | chr11 | 57963453 | 57963710 |\n",
       "| 24 | 1047968_ENSG00000156603_MED19 | chr11 | 57970675 | 57971533 |\n",
       "| 25 | 1047980_ENSG00000156603_MED19 | chr11 | 57975720 | 57976176 |\n",
       "| 26 | 1047981_ENSG00000156603_MED19 | chr11 | 57976177 | 57976903 |\n",
       "| 27 | 1048001_ENSG00000156603_MED19 | chr11 | 57983779 | 57984733 |\n",
       "| 28 | 1048025_ENSG00000156603_MED19 | chr11 | 57992230 | 57993726 |\n",
       "| 29 | 1049408_ENSG00000186660_ZFP91 | chr11 | 58555872 | 58556001 |\n",
       "| 30 | 1049577_ENSG00000186660_ZFP91 | chr11 | 58627869 | 58628454 |\n",
       "| ⋮ | ⋮ | ⋮ | ⋮ | ⋮ |\n",
       "| 11123 | 989451_ENSG00000152219_ARL14EP | chr11 | 30891719 | 30892668 |\n",
       "| 11124 | 989457_ENSG00000152219_ARL14EP | chr11 | 30895593 | 30896258 |\n",
       "| 11125 | 989460_ENSG00000152219_ARL14EP | chr11 | 30896652 | 30897211 |\n",
       "| 11126 | 989461_ENSG00000152219_ARL14EP | chr11 | 30897212 | 30897364 |\n",
       "| 11127 | 989464_ENSG00000152219_ARL14EP | chr11 | 30897534 | 30898428 |\n",
       "| 11128 | 989465_ENSG00000152219_ARL14EP | chr11 | 30898429 | 30899006 |\n",
       "| 11129 | 989468_ENSG00000152219_ARL14EP | chr11 | 30900085 | 30901169 |\n",
       "| 11130 | 989469_ENSG00000152219_ARL14EP | chr11 | 30901170 | 30902020 |\n",
       "| 11131 | 989480_ENSG00000152219_ARL14EP | chr11 | 30905329 | 30905874 |\n",
       "| 11132 | 989483_ENSG00000152219_ARL14EP | chr11 | 30907422 | 30908950 |\n",
       "| 11133 | 989484_ENSG00000152219_ARL14EP | chr11 | 30908951 | 30910733 |\n",
       "| 11134 | 989489_ENSG00000152219_ARL14EP | chr11 | 30911995 | 30912346 |\n",
       "| 11135 | 989492_ENSG00000152219_ARL14EP | chr11 | 30912521 | 30913197 |\n",
       "| 11136 | 989502_ENSG00000152219_ARL14EP | chr11 | 30915761 | 30917105 |\n",
       "| 11137 | 989513_ENSG00000152219_ARL14EP | chr11 | 30919470 | 30920398 |\n",
       "| 11138 | 989523_ENSG00000152219_ARL14EP | chr11 | 30921820 | 30922108 |\n",
       "| 11139 | 989527_ENSG00000152219_ARL14EP | chr11 | 30923539 | 30923854 |\n",
       "| 11140 | 989531_ENSG00000152219_ARL14EP | chr11 | 30924849 | 30926896 |\n",
       "| 11141 | 989545_ENSG00000152219_ARL14EP | chr11 | 30929857 | 30931138 |\n",
       "| 11142 | 989571_ENSG00000152219_ARL14EP | chr11 | 30941373 | 30941515 |\n",
       "| 11143 | 989574_ENSG00000152219_ARL14EP | chr11 | 30942383 | 30943179 |\n",
       "| 11144 | 989576_ENSG00000152219_ARL14EP | chr11 | 30944099 | 30945204 |\n",
       "| 11145 | 989584_ENSG00000152219_ARL14EP | chr11 | 30947717 | 30948717 |\n",
       "| 11146 | 989615_ENSG00000152219_ARL14EP | chr11 | 30959687 | 30960067 |\n",
       "| 11147 | 999669_ENSG00000110435_PDHX    | chr11 | 34865185 | 34865355 |\n",
       "| 11148 | 999685_ENSG00000110435_PDHX    | chr11 | 34868244 | 34868532 |\n",
       "| 11149 | 999698_ENSG00000110435_PDHX    | chr11 | 34873247 | 34875045 |\n",
       "| 11150 | 999701_ENSG00000110435_PDHX    | chr11 | 34875835 | 34876612 |\n",
       "| 11151 | 999708_ENSG00000110435_PDHX    | chr11 | 34879157 | 34879614 |\n",
       "| 11152 | 999856_ENSG00000110435_PDHX    | chr11 | 34945414 | 34945822 |\n",
       "\n"
      ],
      "text/plain": [
       "      V1    geneid                         chr   left     right   \n",
       "1      1    1000319_ENSG00000026508_CD44   chr11 35146970 35147680\n",
       "2      2    1000358_ENSG00000026508_CD44   chr11 35162449 35163957\n",
       "3      3    1020975_ENSG00000151348_EXT2   chr11 44066424 44067717\n",
       "4      4    1021057_ENSG00000110455_ACCS   chr11 44091905 44092020\n",
       "5      5    1021060_ENSG00000110455_ACCS   chr11 44092384 44092731\n",
       "6      6    1022131_ENSG00000085117_CD82   chr11 44525526 44525667\n",
       "7      7    1022135_ENSG00000085117_CD82   chr11 44526194 44526445\n",
       "8      8    1029652_ENSG00000110514_MADD   chr11 47234031 47234335\n",
       "9      9    1029808_ENSG00000066336_SPI1   chr11 47276553 47276793\n",
       "10    10    1029826_ENSG00000066336_SPI1   chr11 47281643 47282072\n",
       "11    11    1047820_ENSG00000156603_MED19  chr11 57921608 57921783\n",
       "12    12    1047824_ENSG00000156603_MED19  chr11 57923492 57924169\n",
       "13    13    1047835_ENSG00000156603_MED19  chr11 57928640 57929247\n",
       "14    14    1047839_ENSG00000156603_MED19  chr11 57930679 57931266\n",
       "15    15    1047841_ENSG00000156603_MED19  chr11 57931571 57932046\n",
       "16    16    1047845_ENSG00000156603_MED19  chr11 57932675 57933371\n",
       "17    17    1047846_ENSG00000156603_MED19  chr11 57933372 57933483\n",
       "18    18    1047854_ENSG00000156603_MED19  chr11 57935603 57936730\n",
       "19    19    1047861_ENSG00000156603_MED19  chr11 57939152 57939405\n",
       "20    20    1047866_ENSG00000156603_MED19  chr11 57940810 57940949\n",
       "21    21    1047896_ENSG00000156603_MED19  chr11 57947530 57948102\n",
       "22    22    1047901_ENSG00000156603_MED19  chr11 57949890 57950368\n",
       "23    23    1047946_ENSG00000156603_MED19  chr11 57963453 57963710\n",
       "24    24    1047968_ENSG00000156603_MED19  chr11 57970675 57971533\n",
       "25    25    1047980_ENSG00000156603_MED19  chr11 57975720 57976176\n",
       "26    26    1047981_ENSG00000156603_MED19  chr11 57976177 57976903\n",
       "27    27    1048001_ENSG00000156603_MED19  chr11 57983779 57984733\n",
       "28    28    1048025_ENSG00000156603_MED19  chr11 57992230 57993726\n",
       "29    29    1049408_ENSG00000186660_ZFP91  chr11 58555872 58556001\n",
       "30    30    1049577_ENSG00000186660_ZFP91  chr11 58627869 58628454\n",
       "⋮     ⋮     ⋮                              ⋮     ⋮        ⋮       \n",
       "11123 11123 989451_ENSG00000152219_ARL14EP chr11 30891719 30892668\n",
       "11124 11124 989457_ENSG00000152219_ARL14EP chr11 30895593 30896258\n",
       "11125 11125 989460_ENSG00000152219_ARL14EP chr11 30896652 30897211\n",
       "11126 11126 989461_ENSG00000152219_ARL14EP chr11 30897212 30897364\n",
       "11127 11127 989464_ENSG00000152219_ARL14EP chr11 30897534 30898428\n",
       "11128 11128 989465_ENSG00000152219_ARL14EP chr11 30898429 30899006\n",
       "11129 11129 989468_ENSG00000152219_ARL14EP chr11 30900085 30901169\n",
       "11130 11130 989469_ENSG00000152219_ARL14EP chr11 30901170 30902020\n",
       "11131 11131 989480_ENSG00000152219_ARL14EP chr11 30905329 30905874\n",
       "11132 11132 989483_ENSG00000152219_ARL14EP chr11 30907422 30908950\n",
       "11133 11133 989484_ENSG00000152219_ARL14EP chr11 30908951 30910733\n",
       "11134 11134 989489_ENSG00000152219_ARL14EP chr11 30911995 30912346\n",
       "11135 11135 989492_ENSG00000152219_ARL14EP chr11 30912521 30913197\n",
       "11136 11136 989502_ENSG00000152219_ARL14EP chr11 30915761 30917105\n",
       "11137 11137 989513_ENSG00000152219_ARL14EP chr11 30919470 30920398\n",
       "11138 11138 989523_ENSG00000152219_ARL14EP chr11 30921820 30922108\n",
       "11139 11139 989527_ENSG00000152219_ARL14EP chr11 30923539 30923854\n",
       "11140 11140 989531_ENSG00000152219_ARL14EP chr11 30924849 30926896\n",
       "11141 11141 989545_ENSG00000152219_ARL14EP chr11 30929857 30931138\n",
       "11142 11142 989571_ENSG00000152219_ARL14EP chr11 30941373 30941515\n",
       "11143 11143 989574_ENSG00000152219_ARL14EP chr11 30942383 30943179\n",
       "11144 11144 989576_ENSG00000152219_ARL14EP chr11 30944099 30945204\n",
       "11145 11145 989584_ENSG00000152219_ARL14EP chr11 30947717 30948717\n",
       "11146 11146 989615_ENSG00000152219_ARL14EP chr11 30959687 30960067\n",
       "11147 11147 999669_ENSG00000110435_PDHX    chr11 34865185 34865355\n",
       "11148 11148 999685_ENSG00000110435_PDHX    chr11 34868244 34868532\n",
       "11149 11149 999698_ENSG00000110435_PDHX    chr11 34873247 34875045\n",
       "11150 11150 999701_ENSG00000110435_PDHX    chr11 34875835 34876612\n",
       "11151 11151 999708_ENSG00000110435_PDHX    chr11 34879157 34879614\n",
       "11152 11152 999856_ENSG00000110435_PDHX    chr11 34945414 34945822"
      ]
     },
     "metadata": {},
     "output_type": "display_data"
    }
   ],
   "source": [
    "library(data.table)\n",
    "gues_in <- fread(\"~/HRJ_monocytes/leo_triplets/input/alex_inputs/CHiC_gene_locations.csv\")\n",
    "length(unique(gues_in$geneid))\n",
    "gues_in"
   ]
  },
  {
   "cell_type": "code",
   "execution_count": 2,
   "metadata": {},
   "outputs": [],
   "source": [
    "##### Get table of significant results\n",
    "##### ADDING RSIDS IN THIS CHUNK TAKES SOME TIME!!!\n",
    "\n",
    "### Add rsids\n",
    "## Using file snps.dms, which is hg19 SNPs\n",
    "snps <- fread(\"~/HRJ_monocytes/external_data/dbSNP/snp151Common_hg19.txt\")\n",
    "setnames(snps, c(\"V2\", \"V3\", \"V4\"), c(\"chrom\", \"chromStart\", \"chromEnd\"))\n",
    "setkey(snps, chrom, chromStart, chromEnd)\n",
    "\n",
    "# do an intersect on the sig contact QLTs themselves\n",
    "sig2[, hg19Proxy_pos := tstrsplit(BaseQTL_SNP_hg19, split = \":\", keep = 2, type.convert = T)]\n",
    "sig2[, hg19Proxy_pos0 := hg19Proxy_pos-1]\n",
    "sig2[, chrom := paste0(\"chr\", Chr)]\n",
    "\n",
    "rsids <- snps[sig2, on = c(chrom = \"chrom\", chromStart = \"hg19Proxy_pos0\"), nomatch = NULL]\n",
    "rsids[, c(\"V1\", \"chromStart\", \"chromEnd\", \"V6\", \"V7\", \"V8\", \"V9\", \"V10\", \"V11\", \"V12\", \"V13\", \n",
    "         \"V14\", \"V15\", \"V16\", \"V17\", \"V18\", \"V19\", \"V20\", \"V21\", \"V22\", \"V23\", \"V24\", \"V25\", \"V26\") := NULL]\n",
    "setnames(rsids, \"V5\", \"rsid\")\n",
    "fwrite(rsids, file = \"./BaseQTL_CHiC_Filt_on_Dpn_Distal_Rhat_AI_rsids_allCols.txt\", sep = \"\\t\",\n",
    "       quote = F, row.names = F, col.names= T)\n"
   ]
  },
  {
   "cell_type": "code",
   "execution_count": 2,
   "metadata": {},
   "outputs": [
    {
     "data": {
      "text/html": [
       "29"
      ],
      "text/latex": [
       "29"
      ],
      "text/markdown": [
       "29"
      ],
      "text/plain": [
       "[1] 29"
      ]
     },
     "metadata": {},
     "output_type": "display_data"
    },
    {
     "data": {
      "text/html": [
       "29"
      ],
      "text/latex": [
       "29"
      ],
      "text/markdown": [
       "29"
      ],
      "text/plain": [
       "[1] 29"
      ]
     },
     "metadata": {},
     "output_type": "display_data"
    },
    {
     "data": {
      "text/html": [
       "15"
      ],
      "text/latex": [
       "15"
      ],
      "text/markdown": [
       "15"
      ],
      "text/plain": [
       "[1] 15"
      ]
     },
     "metadata": {},
     "output_type": "display_data"
    },
    {
     "data": {
      "text/html": [
       "16"
      ],
      "text/latex": [
       "16"
      ],
      "text/markdown": [
       "16"
      ],
      "text/plain": [
       "[1] 16"
      ]
     },
     "metadata": {},
     "output_type": "display_data"
    },
    {
     "data": {
      "text/html": [
       "19"
      ],
      "text/latex": [
       "19"
      ],
      "text/markdown": [
       "19"
      ],
      "text/plain": [
       "[1] 19"
      ]
     },
     "metadata": {},
     "output_type": "display_data"
    },
    {
     "data": {
      "text/html": [
       "0.657927262514504"
      ],
      "text/latex": [
       "0.657927262514504"
      ],
      "text/markdown": [
       "0.657927262514504"
      ],
      "text/plain": [
       "[1] 0.6579273"
      ]
     },
     "metadata": {},
     "output_type": "display_data"
    },
    {
     "data": {
      "text/html": [
       "34900"
      ],
      "text/latex": [
       "34900"
      ],
      "text/markdown": [
       "34900"
      ],
      "text/plain": [
       "[1] 34900"
      ]
     },
     "metadata": {},
     "output_type": "display_data"
    },
    {
     "name": "stdout",
     "output_type": "stream",
     "text": [
      "[1] \"The number of ATAC QTLs that were also lead eQTLs is 104\"\n",
      "[1] \"The number of ATAC QTLs in total that were at eQTLs accounting for LD is 994\"\n",
      "[1] \"The number of eQTLs that were also ATAC QTLs, accounting for LD, is 223\"\n",
      "[1] \"The number of eGenes associated with ATAC QTLs was  216\"\n",
      "[1] \"And the tested numbers of A) proxies, B) eQTLs and C) Genes in the BAseQTL CHiC modality were:\"\n"
     ]
    },
    {
     "data": {
      "text/html": [
       "12295"
      ],
      "text/latex": [
       "12295"
      ],
      "text/markdown": [
       "12295"
      ],
      "text/plain": [
       "[1] 12295"
      ]
     },
     "metadata": {},
     "output_type": "display_data"
    },
    {
     "data": {
      "text/html": [
       "1197"
      ],
      "text/latex": [
       "1197"
      ],
      "text/markdown": [
       "1197"
      ],
      "text/plain": [
       "[1] 1197"
      ]
     },
     "metadata": {},
     "output_type": "display_data"
    },
    {
     "data": {
      "text/html": [
       "1074"
      ],
      "text/latex": [
       "1074"
      ],
      "text/markdown": [
       "1074"
      ],
      "text/plain": [
       "[1] 1074"
      ]
     },
     "metadata": {},
     "output_type": "display_data"
    },
    {
     "data": {
      "text/html": [
       "10"
      ],
      "text/latex": [
       "10"
      ],
      "text/markdown": [
       "10"
      ],
      "text/plain": [
       "[1] 10"
      ]
     },
     "metadata": {},
     "output_type": "display_data"
    },
    {
     "data": {
      "text/html": [
       "7"
      ],
      "text/latex": [
       "7"
      ],
      "text/markdown": [
       "7"
      ],
      "text/plain": [
       "[1] 7"
      ]
     },
     "metadata": {},
     "output_type": "display_data"
    },
    {
     "data": {
      "text/html": [
       "6"
      ],
      "text/latex": [
       "6"
      ],
      "text/markdown": [
       "6"
      ],
      "text/plain": [
       "[1] 6"
      ]
     },
     "metadata": {},
     "output_type": "display_data"
    },
    {
     "data": {
      "text/html": [
       "19"
      ],
      "text/latex": [
       "19"
      ],
      "text/markdown": [
       "19"
      ],
      "text/plain": [
       "[1] 19"
      ]
     },
     "metadata": {},
     "output_type": "display_data"
    },
    {
     "data": {
      "text/html": [
       "9"
      ],
      "text/latex": [
       "9"
      ],
      "text/markdown": [
       "9"
      ],
      "text/plain": [
       "[1] 9"
      ]
     },
     "metadata": {},
     "output_type": "display_data"
    },
    {
     "data": {
      "text/html": [
       "10"
      ],
      "text/latex": [
       "10"
      ],
      "text/markdown": [
       "10"
      ],
      "text/plain": [
       "[1] 10"
      ]
     },
     "metadata": {},
     "output_type": "display_data"
    }
   ],
   "source": [
    "## Look at numbers for the paper\n",
    "setwd(\"~/HRJ_monocytes/BaseQTL/findings_round2_dpnIICorrection/\")\n",
    "\n",
    "library(data.table)\n",
    "sig2 <- fread(\"./BaseQTL_CHiC_Filt_on_Dpn_Distal_Rhat_AI.txt\")\n",
    "rsids <- fread(\"./BaseQTL_CHiC_Filt_on_Dpn_Distal_Rhat_AI_rsids.txt\")\n",
    "#str(rsids)\n",
    "length(unique(rsids$BaseQTL_SNP_hg19))\n",
    "length(unique(sig2$BaseQTL_SNP_hg19))\n",
    "length(unique(sig2$Gene))\n",
    "length(unique(sig2$hg19SNP_ID))\n",
    "sig99 <- sig2[Signif.99 == \"yes\"]\n",
    "length(unique(sig99$BaseQTL_SNP_hg19))\n",
    "\n",
    "rsids[, inverse_norm_approx := 1-(1-pnorm(0,abs(log_mean_aFC), sd, lower.tail=FALSE))]\n",
    "\n",
    "## For THBS1, did we test the lead eQTL?\n",
    "#sig2[Gene == \"THBS1\"]\n",
    "#res[BaseQTL_SNP_hg19 == \"15:39604835:C:T\"]\n",
    "res <- fread(\"../elena_results/CHi-C/round2_refBias/all_stan.summary.txt\")\n",
    "#res[int_id %like% \"15:39604835:C:T\"]\n",
    "#res[int_id %like% \"7:26135404:C:T\"] # chr7:25,998,806-26,231,173 # for this one we also wanted to test CBX3 and it was only sig at 50% (maybe 90% though??) - check it. log mean aFC -0.32. We found sig for NFE2L3, log mean aFC -0.399.\n",
    "#res[int_id %like% \"19:54551115:G:T\"] # chr19:54,036,654-54,121,092 # for this one we also wanted to test OSCAR and it was close! - OSCAR and TFPT. log mean aFC OSCAR -0.343 and log mean aFC TFPT -0.604. Might be nice to illustrate.\n",
    "\n",
    "2^(-0.604)\n",
    "# get original dataset to ask if there were any other genes (proximal) in the first place\n",
    "orig <- fread(\"~/eCHiC/design/source/cd14_eqtls_no_freq.txt\")\n",
    "orig_small <- orig[, .(hgnc, snp_pos, snp_id, ensembl_gid)]\n",
    "\n",
    "sig2_small <- unique(sig2[, .(ENSG_ID, Gene, hg19SNP_ID)])\n",
    "sorig <- orig_small[sig2_small, on = c(snp_id = \"hg19SNP_ID\")]\n",
    "#sorig\n",
    "\n",
    "\n",
    "# Adding the ATAC BaseQTL data, combine with CHiC\n",
    "### To begin with, just take exactly the same SNPs (not looking in LD)\n",
    "### How many of the SNPs intersected the CHi-C loci where we looked for looping effects?\n",
    "at <- fread(\"~/HRJ_monocytes/BaseQTL/elena_results/ATAC//round2_refBias/atac_stan.summary.txt\")\n",
    "atSig <- at[Signif.99 == \"yes\" & Rhat < 1.01 & AI_estimate >= 0.4 | Signif.99 == \"yes\" & Rhat < 1.01 & is.na(AI_estimate) & model == \"NB\"]\n",
    "atSig[, c(\"featStart\", \"featEnd\", \"hg19Proxy_ID\") := tstrsplit(int_id, split = \"-\")]\n",
    "atSig[, c(\"Chr\", \"featStart\") := tstrsplit(featStart, split = \":\")]\n",
    "atSig[, c(\"hg19Proxy_pos\", \"REF\", \"ALT\") := tstrsplit(hg19Proxy_ID, split = \":\", keep = c(2,3,4), type.convert = T)]\n",
    "atSig[, chrom := paste0(\"chr\", Chr)]\n",
    "atSig[, hg19Proxy_pos0 := hg19Proxy_pos-1]\n",
    "length(unique(atSig$hg19Proxy_ID))\n",
    "doubleCheck <- fread(\"../../findmotifs/find_new_dpnII/snps_went_into_loopingQTL_analysis.DpnII.marked.REFALTseqs.PURGED.DISTAL.txt\")\n",
    "setkey(atSig, hg19Proxy_ID)\n",
    "\n",
    "### NUMBERS FOR THE PAPER: combining with the eQTLs that we tried to capture. This is accounting for LD, because we combine based on a SNP in LD with the eQTL in each case.\n",
    "atSig_allinfo <- doubleCheck[atSig, on = c(\"hg19Proxy_ID\"), nomatch = NULL]\n",
    "\n",
    "# How many of the ATAC QTLs were the lead eQTL???\n",
    "lead <- atSig_allinfo[hg19SNP_ID == hg19Proxy_ID]\n",
    "no_ATAC_eQTLs <- length(unique(lead$hg19Proxy_ID))\n",
    "print(paste0(\"The number of ATAC QTLs that were also lead eQTLs is \", no_ATAC_eQTLs))\n",
    "\n",
    "# How many of the ATAC QTLs were in LD with the lead eQTL?\n",
    "no_ATAC_proxies <- length(unique(atSig_allinfo$hg19Proxy_ID))\n",
    "print(paste0(\"The number of ATAC QTLs in total that were at eQTLs accounting for LD is \", no_ATAC_proxies))\n",
    "\n",
    "# How many of the eQTLs were tagged by an ATAC QTL, accounting for LD?\n",
    "no_eQTL_ATAC <- length(unique(atSig_allinfo$hg19SNP_ID))\n",
    "print(paste0(\"The number of eQTLs that were also ATAC QTLs, accounting for LD, is \", no_eQTL_ATAC))\n",
    "\n",
    "# How many genes were involved?\n",
    "no_genes <- length(unique(atSig_allinfo$ENSG_ID))\n",
    "print(paste(\"The number of eGenes associated with ATAC QTLs was \", no_genes))\n",
    "\n",
    "print(\"And the tested numbers of A) proxies, B) eQTLs and C) Genes in the BAseQTL CHiC modality were:\")\n",
    "length(unique(doubleCheck$hg19Proxy_ID))\n",
    "length(unique(doubleCheck$hg19SNP_ID))\n",
    "length(unique(doubleCheck$ENSG_ID))\n",
    "\n",
    "### How many sig looping QTLs were also ATAC QTLs? \n",
    "#str(atSig_allinfo)\n",
    "#str(sig2)\n",
    "atSig_allinfoSmall <- unique(atSig_allinfo[, .(hg19Proxy_ID, Signif.99, hg19SNP_ID, log_mean_aFC, featStart, featEnd)])\n",
    "setnames(atSig_allinfoSmall, c(\"Signif.99\", \"log_mean_aFC\", \"hg19SNP_ID\", \"featStart\", \"featEnd\"), \n",
    "         c(\"at_Signif.99\", \"at_log_mean_aFC\", \"at_hg19SNP_ID\", \"at_featStart\", \"at_featEnd\"))\n",
    "#atSig_allinfoSmall\n",
    "sig99 <- rsids[Signif.99 == \"yes\"]\n",
    "chic_at <- sig99[atSig_allinfoSmall, on = c(BaseQTL_SNP_hg19 = \"hg19Proxy_ID\"), nomatch = NULL] # Here joining on exactly the same SNP\n",
    "\n",
    "length(unique(chic_at$BaseQTL_SNP_hg19))\n",
    "length(unique(chic_at$hg19SNP_ID))\n",
    "length(unique(chic_at$Gene))\n",
    "setnames(chic_at, \"log_mean_aFC\", \"chic_log_mean_aFC\")\n",
    "length(unique(sig99$BaseQTL_SNP_hg19))\n",
    "length(unique(sig99$Gene))\n",
    "length(unique(sig99$hg19SNP_ID))\n",
    "#length(unique(sig2$BaseQTL_SNP_hg19))\n",
    "#length(unique(sig2$Gene))\n",
    "#length(unique(sig2$hg19SNP_ID))"
   ]
  },
  {
   "cell_type": "code",
   "execution_count": 4,
   "metadata": {},
   "outputs": [
    {
     "data": {
      "text/html": [
       "19"
      ],
      "text/latex": [
       "19"
      ],
      "text/markdown": [
       "19"
      ],
      "text/plain": [
       "[1] 19"
      ]
     },
     "metadata": {},
     "output_type": "display_data"
    },
    {
     "data": {
      "text/html": [
       "224"
      ],
      "text/latex": [
       "224"
      ],
      "text/markdown": [
       "224"
      ],
      "text/plain": [
       "[1] 224"
      ]
     },
     "metadata": {},
     "output_type": "display_data"
    },
    {
     "data": {
      "text/html": [
       "17"
      ],
      "text/latex": [
       "17"
      ],
      "text/markdown": [
       "17"
      ],
      "text/plain": [
       "[1] 17"
      ]
     },
     "metadata": {},
     "output_type": "display_data"
    },
    {
     "data": {
      "text/html": [
       "8"
      ],
      "text/latex": [
       "8"
      ],
      "text/markdown": [
       "8"
      ],
      "text/plain": [
       "[1] 8"
      ]
     },
     "metadata": {},
     "output_type": "display_data"
    },
    {
     "data": {
      "text/html": [
       "7"
      ],
      "text/latex": [
       "7"
      ],
      "text/markdown": [
       "7"
      ],
      "text/plain": [
       "[1] 7"
      ]
     },
     "metadata": {},
     "output_type": "display_data"
    },
    {
     "name": "stdout",
     "output_type": "stream",
     "text": [
      "Classes ‘data.table’ and 'data.frame':\t733 obs. of  14 variables:\n",
      " $ BaseQTL_SNP_hg19 : chr  \"4:76816143:G:A\" \"4:76817412:G:A\" \"4:76816143:G:A\" \"4:76817412:G:A\" ...\n",
      " $ hg19Proxy_ID     : chr  \"4:76805267:G:C\" \"4:76805267:G:C\" \"4:76809074:T:C\" \"4:76809074:T:C\" ...\n",
      " $ hg19SNP_ID       : chr  \"4:76819033:A:G\" \"4:76819033:A:G\" \"4:76819033:A:G\" \"4:76819033:A:G\" ...\n",
      " $ rsid             : chr  \"rs13150842\" \"rs11731367\" \"rs13150842\" \"rs11731367\" ...\n",
      " $ ENSG_ID          : chr  \"ENSG00000138744\" \"ENSG00000138744\" \"ENSG00000138744\" \"ENSG00000138744\" ...\n",
      " $ Gene             : chr  \"NAAA\" \"NAAA\" \"NAAA\" \"NAAA\" ...\n",
      " $ chic_log_mean_aFC: num  0.371 0.27 0.371 0.27 0.371 ...\n",
      " $ at_log_mean_aFC  : num  NA NA NA NA NA ...\n",
      " $ hrc_hg38Proxy_ID : chr  \"4:75894990:G:A\" \"4:75896259:G:A\" \"4:75894990:G:A\" \"4:75896259:G:A\" ...\n",
      " $ at_featStart     : chr  NA NA NA NA ...\n",
      " $ at_featEnd       : chr  NA NA NA NA ...\n",
      " $ Beta             : num  0.243 0.243 0.243 0.243 0.243 ...\n",
      " $ hg38Dpn_start    : int  75894747 75896038 75894747 75896038 75894747 75896038 75894747 75896038 75894747 75896038 ...\n",
      " $ hg38Dpn_end      : int  75895017 75896358 75895017 75896358 75895017 75896358 75895017 75896358 75895017 75896358 ...\n",
      " - attr(*, \".internal.selfref\")=<externalptr> \n"
     ]
    }
   ],
   "source": [
    "\n",
    "######### Now, join with the ATAC data accounting for LD. For this, combine based on all SNPs in LD with each looping QTL (not just the eQTL or the contact QTL itself.)\n",
    "prox <- fread(\"~/eCHiC/design/LD/SNPs_and_LD_proxies_Jan2020.txt\")\n",
    "prox_small <- as.data.table(prox[, .(hg19SNP_ID, hg19Proxy_ID, ENSG_ID, Beta)] %>% distinct())\n",
    "resprox <- sig99[prox_small, on = c(\"hg19SNP_ID\", \"ENSG_ID\"), nomatch = NULL] # gets the eQTL for each of the baseQTL contact QTLs.\n",
    "length(unique(resprox$BaseQTL_SNP_hg19))\n",
    "length(unique(resprox$hg19Proxy_ID))\n",
    "\n",
    "# now connect with ATAC data based on the hg19Proxy_ID, to get all LD effects\n",
    "chic_at_LD <- resprox[atSig_allinfoSmall, on = \"hg19Proxy_ID\", nomatch = NULL]\n",
    "length(unique(chic_at_LD$BaseQTL_SNP_hg19))\n",
    "length(unique(chic_at_LD$hg19SNP_ID))\n",
    "length(unique(chic_at_LD$Gene))\n",
    "setnames(chic_at_LD, \"log_mean_aFC\", \"chic_log_mean_aFC\")\n",
    "\n",
    "chic_at_LD_tab <- atSig_allinfoSmall[resprox, on = c(hg19Proxy_ID = \"hg19Proxy_ID\"), allow.cartesian = T]\n",
    "setnames(chic_at_LD_tab, c(\"log_mean_aFC\"), c(\"chic_log_mean_aFC\"))\n",
    "\n",
    "chic_at_LD_tab_small <- unique(chic_at_LD_tab[, .(BaseQTL_SNP_hg19, hg19Proxy_ID, hg19SNP_ID, rsid, ENSG_ID, Gene, chic_log_mean_aFC, at_log_mean_aFC, hrc_hg38Proxy_ID, at_featStart, at_featEnd, Beta, hg38Dpn_start, hg38Dpn_end)])\n",
    "\n",
    "str(chic_at_LD_tab_small) # check that we retainined information on the DpnII location."
   ]
  },
  {
   "cell_type": "code",
   "execution_count": 5,
   "metadata": {},
   "outputs": [
    {
     "data": {
      "text/html": [
       "<table class=\"dataframe\">\n",
       "<caption>A data.table: 0 × 15</caption>\n",
       "<thead>\n",
       "\t<tr><th scope=col>BaseQTL_SNP_hg19</th><th scope=col>hg19Proxy_ID</th><th scope=col>hg19SNP_ID</th><th scope=col>rsid</th><th scope=col>ENSG_ID</th><th scope=col>Gene</th><th scope=col>chic_log_mean_aFC</th><th scope=col>at_log_mean_aFC</th><th scope=col>hrc_hg38Proxy_ID</th><th scope=col>at_featStart</th><th scope=col>at_featEnd</th><th scope=col>Beta</th><th scope=col>hg38Dpn_start</th><th scope=col>hg38Dpn_end</th><th scope=col>at_chic_dir</th></tr>\n",
       "\t<tr><th scope=col>&lt;chr&gt;</th><th scope=col>&lt;chr&gt;</th><th scope=col>&lt;chr&gt;</th><th scope=col>&lt;chr&gt;</th><th scope=col>&lt;chr&gt;</th><th scope=col>&lt;chr&gt;</th><th scope=col>&lt;dbl&gt;</th><th scope=col>&lt;dbl&gt;</th><th scope=col>&lt;chr&gt;</th><th scope=col>&lt;chr&gt;</th><th scope=col>&lt;chr&gt;</th><th scope=col>&lt;dbl&gt;</th><th scope=col>&lt;int&gt;</th><th scope=col>&lt;int&gt;</th><th scope=col>&lt;chr&gt;</th></tr>\n",
       "</thead>\n",
       "<tbody>\n",
       "</tbody>\n",
       "</table>\n"
      ],
      "text/latex": [
       "A data.table: 0 × 15\n",
       "\\begin{tabular}{lllllllllllllll}\n",
       " BaseQTL\\_SNP\\_hg19 & hg19Proxy\\_ID & hg19SNP\\_ID & rsid & ENSG\\_ID & Gene & chic\\_log\\_mean\\_aFC & at\\_log\\_mean\\_aFC & hrc\\_hg38Proxy\\_ID & at\\_featStart & at\\_featEnd & Beta & hg38Dpn\\_start & hg38Dpn\\_end & at\\_chic\\_dir\\\\\n",
       " <chr> & <chr> & <chr> & <chr> & <chr> & <chr> & <dbl> & <dbl> & <chr> & <chr> & <chr> & <dbl> & <int> & <int> & <chr>\\\\\n",
       "\\hline\n",
       "\\end{tabular}\n"
      ],
      "text/markdown": [
       "\n",
       "A data.table: 0 × 15\n",
       "\n",
       "| BaseQTL_SNP_hg19 &lt;chr&gt; | hg19Proxy_ID &lt;chr&gt; | hg19SNP_ID &lt;chr&gt; | rsid &lt;chr&gt; | ENSG_ID &lt;chr&gt; | Gene &lt;chr&gt; | chic_log_mean_aFC &lt;dbl&gt; | at_log_mean_aFC &lt;dbl&gt; | hrc_hg38Proxy_ID &lt;chr&gt; | at_featStart &lt;chr&gt; | at_featEnd &lt;chr&gt; | Beta &lt;dbl&gt; | hg38Dpn_start &lt;int&gt; | hg38Dpn_end &lt;int&gt; | at_chic_dir &lt;chr&gt; |\n",
       "|---|---|---|---|---|---|---|---|---|---|---|---|---|---|---|\n",
       "\n"
      ],
      "text/plain": [
       "     BaseQTL_SNP_hg19 hg19Proxy_ID hg19SNP_ID rsid ENSG_ID Gene\n",
       "     chic_log_mean_aFC at_log_mean_aFC hrc_hg38Proxy_ID at_featStart at_featEnd\n",
       "     Beta hg38Dpn_start hg38Dpn_end at_chic_dir"
      ]
     },
     "metadata": {},
     "output_type": "display_data"
    },
    {
     "name": "stderr",
     "output_type": "stream",
     "text": [
      "\u001b[1m\u001b[22m`summarise()` has grouped output by 'BaseQTL_SNP_hg19', 'hg19SNP_ID', 'rsid',\n",
      "'ENSG_ID', 'Gene', 'chic_log_mean_aFC', 'hrc_hg38Proxy_ID', 'Beta',\n",
      "'hg38Dpn_start'. You can override using the `.groups` argument.\n"
     ]
    }
   ],
   "source": [
    "### Now we should filter to look at the directionality based on the closest ATAC-seq peak, and only if it is within 5kb of the contact QTL.\n",
    "\n",
    "### aside:\n",
    "#chic_at_LD_tab_small[Gene == \"KCNK13\"]\n",
    "# really interestingly, there is an opposing direction on ATAC for a SNP closer to the eQTL. i.e., the lead eQTL has an opposing effect not only on gene expression but also on ATAC.\n",
    "# did we not profile the lead eQTL for ATAC?\n",
    "#at[int_id %like% \"14:90572484:T:C\"] # no we did not\n",
    "\n",
    "# OK, make a table to show the mean effect.\n",
    "# remove the line where we have opposing direction in same LD block and double check that the rest are same dir.\n",
    "chic_at_LD_tab_small2 <- chic_at_LD_tab_small[hg19Proxy_ID != \"14:90565182:G:A\"] # this makes sense because for the contact QTL there there was a direct overlap with an ATAC QTL with the same direction of effect on that peak.\n",
    "\n",
    "chic_at_LD_tab_small2[chic_log_mean_aFC >0 & at_log_mean_aFC >0 | chic_log_mean_aFC <0 & at_log_mean_aFC <0, at_chic_dir := \"same\"]\n",
    "chic_at_LD_tab_small2[chic_log_mean_aFC >0 & at_log_mean_aFC <0 | chic_log_mean_aFC <0 & at_log_mean_aFC >0, at_chic_dir := \"opposing\"]\n",
    "#chic_at_LD_tab_small2[at_chic_dir == \"opposing\"] # none.\n",
    "#chic_at_LD_tab_small2[Gene == \"C7orf50\"]\n",
    "chic_at_LD_tab_small2[hg19Proxy_ID %like% \"GATC\"] \n",
    "\n",
    "\n",
    "chic_at_LD_tab_small3 <- as.data.table(chic_at_LD_tab_small2 %>% group_by(BaseQTL_SNP_hg19, hg19SNP_ID, rsid, ENSG_ID, Gene, chic_log_mean_aFC, hrc_hg38Proxy_ID, Beta, hg38Dpn_start, hg38Dpn_end) %>%\n",
    "                                      summarize(average_at_log_aFC = mean(at_log_mean_aFC, na.rm = T)))\n",
    "\n",
    "## save this table!\n",
    "## note will need to average the ATAC effect and fix KCNK13 again.\n",
    "fwrite(chic_at_LD_tab_small2, file = \"./AT_CHiC_with_LD_SNPs_and_MikBetas_Signif99.txt\", sep = \"\\t\", quote = F, row.names = F, col.names = T)\n",
    "       \n",
    "#unique(chic_at_LD_tab_small3[, .(rsid, Gene, chic_log_mean_aFC, average_at_log_aFC, Beta)])\n",
    "\n",
    "## Making table for Zak: sort out KCNK13\n",
    "\n",
    "###################################################################\n",
    "chic_at_LD_tab_small3[Gene == \"KCNK13\", Beta := 0.41]\n",
    "###################################################################\n",
    "\n",
    "\n",
    "setnames(chic_at_LD_tab_small3, c(\"BaseQTL_SNP_hg19\", \"Beta\"), c(\"BaseQTL_hg19Proxy_ID\", \"Gene_Expression_Beta\"))\n",
    "chic_at_LD_tab_small3[, BaseQTL_feature := paste(BaseQTL_hg19Proxy_ID, ENSG_ID, Gene, sep = \"_\")]\n",
    "chic_at_LD_tab_small3[, c(\"hg19SNP_ID\", \"Gene\", \"ENSG_ID\") := NULL]\n",
    "chic_at_LD_tab_small3[chic_log_mean_aFC >0 & average_at_log_aFC >0 | chic_log_mean_aFC <0 & average_at_log_aFC <0, ATAC_CHiC_direction := \"same\"]\n",
    "chic_at_LD_tab_small3[chic_log_mean_aFC >0 & average_at_log_aFC <0 | chic_log_mean_aFC <0 & average_at_log_aFC >0, ATAC_CHiC_direction := \"opposing\"]\n",
    "chic_at_LD_tab_small3[chic_log_mean_aFC >0 & Gene_Expression_Beta >0 | chic_log_mean_aFC <0 & Gene_Expression_Beta <0, Gene_CHiC_direction := \"same\"]\n",
    "chic_at_LD_tab_small3[chic_log_mean_aFC >0 & Gene_Expression_Beta <0 | chic_log_mean_aFC <0 & Gene_Expression_Beta >0, Gene_CHiC_direction := \"opposing\"]\n",
    "\n",
    "\n",
    "#chic_at_LD_tab_small3\n",
    "\n",
    "\n",
    "chic_at_LD_tab_small3[, abs_chic_log_mean_aFC := abs(chic_log_mean_aFC)]\n",
    "chic_at_LD_tab_small3[chic_log_mean_aFC > 0, relative_abs_ATAC_mean_aFC := average_at_log_aFC]\n",
    "chic_at_LD_tab_small3[chic_log_mean_aFC < 0, relative_abs_ATAC_mean_aFC := 0-average_at_log_aFC]\n",
    "chic_at_LD_tab_small3[chic_log_mean_aFC > 0, relative_Gene_Expression_Beta := Gene_Expression_Beta]\n",
    "chic_at_LD_tab_small3[chic_log_mean_aFC < 0, relative_Gene_Expression_Beta := 0-Gene_Expression_Beta]\n",
    "\n",
    "chic_at_LD_tab_small4 <- unique(chic_at_LD_tab_small3[, .(BaseQTL_hg19Proxy_ID, rsid, hrc_hg38Proxy_ID, abs_chic_log_mean_aFC, \n",
    "                                                         relative_abs_ATAC_mean_aFC, relative_Gene_Expression_Beta, \n",
    "                                                         ATAC_CHiC_direction, Gene_CHiC_direction, BaseQTL_feature)])\n",
    "\n",
    "#chic_at_LD_tab_small4\n",
    "fwrite(chic_at_LD_tab_small4, file = \"./CHiC_BaseQTL_Signif99_ATAC_Gene_directions.txt\", \n",
    "      sep = \"\\t\", quote = F, row.names =F, col.names = T)\n",
    "\n"
   ]
  },
  {
   "cell_type": "code",
   "execution_count": 7,
   "metadata": {},
   "outputs": [
    {
     "name": "stdout",
     "output_type": "stream",
     "text": [
      "          rsid   Gene chic_log_mean_aFC at_log_mean_aFC\n",
      " 1:  rs3006562   SVIL         0.9863521       1.2773598\n",
      " 2:  rs1152443 KCNK13         0.5761226       1.7878565\n",
      " 3:   rs998005  THBS1         0.6081494       0.5844153\n",
      " 4:  rs1354596  THBS1         0.4556128       0.3724707\n",
      " 5:   rs894043  THBS1         0.7490782       0.4070000\n",
      " 6:   rs894042  THBS1         0.7070719       0.4428045\n",
      " 7: rs10415777   TFPT        -0.6040825      -0.9411305\n",
      " 8: rs13150842   NAAA         0.3708849       0.4036246\n",
      " 9: rs11731367   NAAA         0.2695567       0.3901208\n",
      "10: rs35257100 NFE2L3        -0.3993956      -1.1185851\n"
     ]
    },
    {
     "data": {
      "image/png": "[encoded data removed]",
      "text/plain": [
       "plot without title"
      ]
     },
     "metadata": {
      "image/png": {
       "height": 420,
       "width": 420
      }
     },
     "output_type": "display_data"
    }
   ],
   "source": [
    "### Make a plot of effect correlations (this one does not account for LD)\n",
    "library(ggrepel)\n",
    "\n",
    "make_corPlot <- function(dt) {\n",
    "  ggplot(dt, aes(x = at_log_mean_aFC, y = chic_log_mean_aFC, col = \"red\")) + \n",
    "  geom_point(size = 3) + \n",
    "  xlab(\"ATAC log mean aFC\") +\n",
    "  ylab(\"CHi-C log mean aFC\") +\n",
    "  #xlim(-0.2, 0.2) +\n",
    "  #ylim(-0.4, 0.4) +\n",
    "  geom_hline(yintercept = 0, linetype = \"dashed\") +\n",
    "  geom_vline(xintercept = 0, linetype = \"dashed\") +\n",
    "    geom_text_repel(aes(label= as.character(ID)),\n",
    "                  angle = 0, size = 4, max.time = 120.0, color = \"black\", force = 0.5, force_pull = 0.1,\n",
    "                  segment.alpha = 0.5, box.padding = 0.5, max.overlaps = Inf) +\n",
    "    theme_bw() +\n",
    "  theme(\n",
    "    legend.position=\"none\",\n",
    "    text = element_text(size = 14)) \n",
    "}\n",
    "chic_at[, ID := paste(rsid, Gene, sep = \"_\")]\n",
    "toplot <- unique(chic_at[, .(at_log_mean_aFC, chic_log_mean_aFC, ID)])\n",
    "\n",
    "#pdf(file = \"chic_vs_ATAC_99_corplot_rsids.pdf\", width = 6.5, height = 6.5)\n",
    "make_corPlot(toplot)\n",
    "#dev.off()\n",
    "\n",
    "## all go in the same direction.\n",
    "\n",
    "## Save the source data.\n",
    "source_dat <- unique(chic_at[, .(rsid, Gene, chic_log_mean_aFC, at_log_mean_aFC)])\n",
    "print(source_dat)\n",
    "fwrite(source_dat, file = \"~/HRJ_monocytes/paper/source_data/Figure3B_CHiC_AT_corr.txt\", \n",
    "      sep = \"\\t\", quote = F, row.names = F, col.names = T)\n"
   ]
  },
  {
   "cell_type": "code",
   "execution_count": 61,
   "metadata": {},
   "outputs": [
    {
     "name": "stderr",
     "output_type": "stream",
     "text": [
      "Warning message in `[.data.table`(orig, counts_homREF < counts_homALT, `:=`(minor_allele_Vosa, :\n",
      "“Invalid .internal.selfref detected and fixed by taking a (shallow) copy of the data.table so that := can add this new column by reference. At an earlier point, this data.table has been copied by R (or was created manually using structure() or similar). Avoid names<- and attr<- which in R currently (and oddly) may copy the whole data.table. Use set* syntax instead to avoid copying: ?set, ?setnames and ?setattr. If this message doesn't help, please report your use case to the data.table issue tracker so the root cause can be fixed or this message improved.”\n"
     ]
    },
    {
     "data": {
      "text/html": [
       "<table class=\"dataframe\">\n",
       "<caption>A data.table: 1 × 23</caption>\n",
       "<thead>\n",
       "\t<tr><th scope=col>probe_id</th><th scope=col>hgnc</th><th scope=col>chrom</th><th scope=col>snp_pos</th><th scope=col>snp_id</th><th scope=col>Chr</th><th scope=col>hg19SNP_pos</th><th scope=col>origREF</th><th scope=col>origALT</th><th scope=col>beta</th><th scope=col>⋯</th><th scope=col>indep_signal_i</th><th scope=col>ensembl_gid</th><th scope=col>n_samples</th><th scope=col>maf</th><th scope=col>hwe_pvalue</th><th scope=col>imputation_score</th><th scope=col>counts_homREF</th><th scope=col>counts_HET</th><th scope=col>counts_homALT</th><th scope=col>minor_allele_Vosa</th></tr>\n",
       "\t<tr><th scope=col>&lt;int&gt;</th><th scope=col>&lt;chr&gt;</th><th scope=col>&lt;int&gt;</th><th scope=col>&lt;int&gt;</th><th scope=col>&lt;chr&gt;</th><th scope=col>&lt;chr&gt;</th><th scope=col>&lt;chr&gt;</th><th scope=col>&lt;chr&gt;</th><th scope=col>&lt;chr&gt;</th><th scope=col>&lt;dbl&gt;</th><th scope=col>⋯</th><th scope=col>&lt;int&gt;</th><th scope=col>&lt;chr&gt;</th><th scope=col>&lt;int&gt;</th><th scope=col>&lt;dbl&gt;</th><th scope=col>&lt;dbl&gt;</th><th scope=col>&lt;dbl&gt;</th><th scope=col>&lt;chr&gt;</th><th scope=col>&lt;chr&gt;</th><th scope=col>&lt;chr&gt;</th><th scope=col>&lt;chr&gt;</th></tr>\n",
       "</thead>\n",
       "<tbody>\n",
       "\t<tr><td>990112</td><td>KCNK13</td><td>14</td><td>90572484</td><td>14:90572484:T:C</td><td>14</td><td>90572484</td><td>T</td><td>C</td><td>-0.119812</td><td>⋯</td><td>0</td><td>ENSG00000152315</td><td>5327</td><td>0.3343653</td><td>0.6368283</td><td>0.980785</td><td>705</td><td>625</td><td>150</td><td>C</td></tr>\n",
       "</tbody>\n",
       "</table>\n"
      ],
      "text/latex": [
       "A data.table: 1 × 23\n",
       "\\begin{tabular}{lllllllllllllllllllll}\n",
       " probe\\_id & hgnc & chrom & snp\\_pos & snp\\_id & Chr & hg19SNP\\_pos & origREF & origALT & beta & ⋯ & indep\\_signal\\_i & ensembl\\_gid & n\\_samples & maf & hwe\\_pvalue & imputation\\_score & counts\\_homREF & counts\\_HET & counts\\_homALT & minor\\_allele\\_Vosa\\\\\n",
       " <int> & <chr> & <int> & <int> & <chr> & <chr> & <chr> & <chr> & <chr> & <dbl> & ⋯ & <int> & <chr> & <int> & <dbl> & <dbl> & <dbl> & <chr> & <chr> & <chr> & <chr>\\\\\n",
       "\\hline\n",
       "\t 990112 & KCNK13 & 14 & 90572484 & 14:90572484:T:C & 14 & 90572484 & T & C & -0.119812 & ⋯ & 0 & ENSG00000152315 & 5327 & 0.3343653 & 0.6368283 & 0.980785 & 705 & 625 & 150 & C\\\\\n",
       "\\end{tabular}\n"
      ],
      "text/markdown": [
       "\n",
       "A data.table: 1 × 23\n",
       "\n",
       "| probe_id &lt;int&gt; | hgnc &lt;chr&gt; | chrom &lt;int&gt; | snp_pos &lt;int&gt; | snp_id &lt;chr&gt; | Chr &lt;chr&gt; | hg19SNP_pos &lt;chr&gt; | origREF &lt;chr&gt; | origALT &lt;chr&gt; | beta &lt;dbl&gt; | ⋯ ⋯ | indep_signal_i &lt;int&gt; | ensembl_gid &lt;chr&gt; | n_samples &lt;int&gt; | maf &lt;dbl&gt; | hwe_pvalue &lt;dbl&gt; | imputation_score &lt;dbl&gt; | counts_homREF &lt;chr&gt; | counts_HET &lt;chr&gt; | counts_homALT &lt;chr&gt; | minor_allele_Vosa &lt;chr&gt; |\n",
       "|---|---|---|---|---|---|---|---|---|---|---|---|---|---|---|---|---|---|---|---|---|\n",
       "| 990112 | KCNK13 | 14 | 90572484 | 14:90572484:T:C | 14 | 90572484 | T | C | -0.119812 | ⋯ | 0 | ENSG00000152315 | 5327 | 0.3343653 | 0.6368283 | 0.980785 | 705 | 625 | 150 | C |\n",
       "\n"
      ],
      "text/plain": [
       "  probe_id hgnc   chrom snp_pos  snp_id          Chr hg19SNP_pos origREF\n",
       "1 990112   KCNK13 14    90572484 14:90572484:T:C 14  90572484    T      \n",
       "  origALT beta      ⋯ indep_signal_i ensembl_gid     n_samples maf      \n",
       "1 C       -0.119812 ⋯ 0              ENSG00000152315 5327      0.3343653\n",
       "  hwe_pvalue imputation_score counts_homREF counts_HET counts_homALT\n",
       "1 0.6368283  0.980785         705           625        150          \n",
       "  minor_allele_Vosa\n",
       "1 C                "
      ]
     },
     "metadata": {},
     "output_type": "display_data"
    },
    {
     "data": {
      "text/html": [
       "<table class=\"dataframe\">\n",
       "<caption>A data.table: 3 × 3</caption>\n",
       "<thead>\n",
       "\t<tr><th scope=col>snp_pos</th><th scope=col>beta</th><th scope=col>p_value</th></tr>\n",
       "\t<tr><th scope=col>&lt;int&gt;</th><th scope=col>&lt;dbl&gt;</th><th scope=col>&lt;dbl&gt;</th></tr>\n",
       "</thead>\n",
       "<tbody>\n",
       "\t<tr><td>1070395</td><td>-0.09085917</td><td>2.930902e-16</td></tr>\n",
       "\t<tr><td>1170458</td><td>-0.17255314</td><td>5.301339e-10</td></tr>\n",
       "\t<tr><td>1212211</td><td> 0.05767463</td><td>1.872238e-11</td></tr>\n",
       "</tbody>\n",
       "</table>\n"
      ],
      "text/latex": [
       "A data.table: 3 × 3\n",
       "\\begin{tabular}{lll}\n",
       " snp\\_pos & beta & p\\_value\\\\\n",
       " <int> & <dbl> & <dbl>\\\\\n",
       "\\hline\n",
       "\t 1070395 & -0.09085917 & 2.930902e-16\\\\\n",
       "\t 1170458 & -0.17255314 & 5.301339e-10\\\\\n",
       "\t 1212211 &  0.05767463 & 1.872238e-11\\\\\n",
       "\\end{tabular}\n"
      ],
      "text/markdown": [
       "\n",
       "A data.table: 3 × 3\n",
       "\n",
       "| snp_pos &lt;int&gt; | beta &lt;dbl&gt; | p_value &lt;dbl&gt; |\n",
       "|---|---|---|\n",
       "| 1070395 | -0.09085917 | 2.930902e-16 |\n",
       "| 1170458 | -0.17255314 | 5.301339e-10 |\n",
       "| 1212211 |  0.05767463 | 1.872238e-11 |\n",
       "\n"
      ],
      "text/plain": [
       "  snp_pos beta        p_value     \n",
       "1 1070395 -0.09085917 2.930902e-16\n",
       "2 1170458 -0.17255314 5.301339e-10\n",
       "3 1212211  0.05767463 1.872238e-11"
      ]
     },
     "metadata": {},
     "output_type": "display_data"
    },
    {
     "data": {
      "text/html": [
       "<table class=\"dataframe\">\n",
       "<caption>A data.table: 1 × 3</caption>\n",
       "<thead>\n",
       "\t<tr><th scope=col>snp_pos</th><th scope=col>beta</th><th scope=col>p_value</th></tr>\n",
       "\t<tr><th scope=col>&lt;int&gt;</th><th scope=col>&lt;dbl&gt;</th><th scope=col>&lt;dbl&gt;</th></tr>\n",
       "</thead>\n",
       "<tbody>\n",
       "\t<tr><td>1212211</td><td>0.05767463</td><td>1.872238e-11</td></tr>\n",
       "</tbody>\n",
       "</table>\n"
      ],
      "text/latex": [
       "A data.table: 1 × 3\n",
       "\\begin{tabular}{lll}\n",
       " snp\\_pos & beta & p\\_value\\\\\n",
       " <int> & <dbl> & <dbl>\\\\\n",
       "\\hline\n",
       "\t 1212211 & 0.05767463 & 1.872238e-11\\\\\n",
       "\\end{tabular}\n"
      ],
      "text/markdown": [
       "\n",
       "A data.table: 1 × 3\n",
       "\n",
       "| snp_pos &lt;int&gt; | beta &lt;dbl&gt; | p_value &lt;dbl&gt; |\n",
       "|---|---|---|\n",
       "| 1212211 | 0.05767463 | 1.872238e-11 |\n",
       "\n"
      ],
      "text/plain": [
       "  snp_pos beta       p_value     \n",
       "1 1212211 0.05767463 1.872238e-11"
      ]
     },
     "metadata": {},
     "output_type": "display_data"
    }
   ],
   "source": [
    "### Start to integrate gene expression and the Blueprint data. \n",
    "### Taking code from \"~/HRJ_monocytes/BaseQTL/scripts/explore_results_34reps.Rmd\"\n",
    "\n",
    "### First, I was checking genotypes. Just putting code here for keeping.\n",
    "### Also checking direction in Vosa versus our own Matrix QTL. We had 85% in same direction (See bottom of this chunk)\n",
    "res <- fread(\"./BaseQTL_CHiC_Filt_on_Dpn_Distal_Rhat_AI.txt\")\n",
    "# Zero means homozygous REF. 1 means heterozygous. And 2 means homozygous ALT.\n",
    "# Ref and Alt are presumably the same as in the genotypes file, which is the same as in the HRC. What I need to do is connect the eQTL results with this. Check our eQTL analysis.\n",
    "orig <- fread(\"~/eCHiC/design/source/CD14_eqtls_Mikhail.txt\", sep = \"\\t\")\n",
    "orig <- separate(orig, snp_id, into = c(\"Chr\", \"hg19SNP_pos\", \"origREF\", \"origALT\"), sep = \":\", remove = FALSE)\n",
    "orig$freqs <- gsub(\"\\\\[|\\\\]\", \"\", orig$`allele counts`) # remove weird square brackets\n",
    "orig$freqs2 <- str_squish(orig$freqs) # remove extra spaces\n",
    "orig <- separate(orig, freqs2, into = c(\"counts_homREF\", \"counts_HET\", \"counts_homALT\"), sep = \" \")\n",
    "orig[, c(\"allele counts\", \"freqs\") := NULL]\n",
    "orig[counts_homREF < counts_homALT, minor_allele_Vosa := origREF]\n",
    "orig[counts_homALT < counts_homREF, minor_allele_Vosa := origALT]\n",
    "orig[hgnc == \"KCNK13\"]\n",
    "orig[hgnc == \"C7orf50\", .(snp_pos, beta, p_value)]\n",
    "orig[snp_pos == \"1212211\", .(snp_pos, beta, p_value)]\n"
   ]
  },
  {
   "cell_type": "code",
   "execution_count": 39,
   "metadata": {},
   "outputs": [
    {
     "ename": "ERROR",
     "evalue": "Error in eval(expr, envir, enclos): object 'orig' not found\n",
     "output_type": "error",
     "traceback": [
      "Error in eval(expr, envir, enclos): object 'orig' not found\nTraceback:\n"
     ]
    }
   ],
   "source": [
    "####### Now we can assign the ALT allele to the beta\n",
    "### Go back to using the original dataset.\n",
    "orig[, c(\"counts_homREF\", \"counts_HET\", \"counts_homALT\", \"minor_allele_Vosa\"):= NULL]\n",
    "setnames(orig, \"beta\", \"eQTL_beta_wrt_alt\", skip_absent=TRUE )\n",
    "\n",
    "### Compare with our eQTL data - copying over some code from the matrixeQTL analysis.\n",
    "### UPDATE: use Alex's matrixQTL results instead\n",
    "#our_eqtls <- fread(\"/rds/general/project/lms-spivakov-analysis/live/HRJ_monocytes/eqtls/eQTL_analysis/results/Matrix_eQTL_mono_cis.txt\")\n",
    "our_eqtls <- as.data.table(resAlex)\n",
    "## The IDs for our eQTL analysis are in hg19 (double checked).\n",
    "## In this analysis, 0 means homALT, 1 means HET and 2 means REF. The analysis beta is based off the increasing no. ie REF.\n",
    "# in Alex's, the beta is based off increasing ALT, not REF.\n",
    "hg38 <- fread(\"/rds/general/project/lms-spivakov-analysis/live/HRJ_monocytes/eqtls/eQTL_analysis/exploration/original_mono_eQTLs_hg38pos_Mikhail.txt\")\n",
    "\n",
    "### Checking again the condordance between oriignal snp beta and ours. \n",
    "# prev code.\n",
    "#names(our_eqtls)[2] = \"ensembl_gid\"\n",
    "#names(our_eqtls)[3] = \"new_eQTL_beta_wrt_REF\" \n",
    "#names(our_eqtls)[4] = \"new_eQTL_t-stat\"\n",
    "#names(our_eqtls)[5] = \"new_eQTL_p-value\"\n",
    "\n",
    "our_eqtls[, ensembl_gid := tstrsplit(gene, split = \"_\", keep = 1)]\n",
    "\n",
    "setkey(our_eqtls, SNP, ensembl_gid)\n",
    "joi <- orig[our_eqtls, on = c(snp_id = \"SNP\", ensembl_gid = \"ensembl_gid\"), nomatch = NULL]\n",
    "samedir <- joi[(eQTL_beta_wrt_alt > 0 & beta > 0) | (eQTL_beta_wrt_alt < 0 & beta < 0) ] # there was actually an error here before as well.\n",
    "length(unique(joi$snp_id))\n",
    "length(unique(samedir$snp_id))\n",
    "# 4836/6161 = 78% of those that we could match, based on SNP and gene ID, are in the same direction. \n",
    "\n",
    "sig_eqtl <- joi[i.FDR < 0.01]\n",
    "sig_samedir <- sig_eqtl[(eQTL_beta_wrt_alt > 0 & beta > 0) | (eQTL_beta_wrt_alt < 0 & beta < 0)]\n",
    "length(unique(sig_eqtl$snp_id))\n",
    "length(unique(sig_samedir$snp_id))\n",
    "# 98% at high confidence\n",
    "# 375/383\n"
   ]
  },
  {
   "cell_type": "code",
   "execution_count": 42,
   "metadata": {},
   "outputs": [
    {
     "data": {
      "text/html": [
       "0.97911227154047"
      ],
      "text/latex": [
       "0.97911227154047"
      ],
      "text/markdown": [
       "0.97911227154047"
      ],
      "text/plain": [
       "[1] 0.9791123"
      ]
     },
     "metadata": {},
     "output_type": "display_data"
    },
    {
     "name": "stdout",
     "output_type": "stream",
     "text": [
      "Classes ‘data.table’ and 'data.frame':\t19224815 obs. of  6 variables:\n",
      " $ SNP    : chr  \"4:141910489:T:A\" \"4:141912170:A:G\" \"4:141915484:G:C\" \"4:141915795:C:T\" ...\n",
      " $ gene   : chr  \"ENSG00000170153_RNF150\" \"ENSG00000170153_RNF150\" \"ENSG00000170153_RNF150\" \"ENSG00000170153_RNF150\" ...\n",
      " $ t.stat : num  39.7 39.7 39.7 39.7 39.7 ...\n",
      " $ p.value: num  7.78e-27 7.78e-27 7.78e-27 7.78e-27 7.78e-27 ...\n",
      " $ FDR    : num  1.03e-21 1.03e-21 1.03e-21 1.03e-21 1.03e-21 ...\n",
      " $ beta   : num  1.9 1.9 1.9 1.9 1.9 ...\n",
      " - attr(*, \".internal.selfref\")=<externalptr> \n"
     ]
    }
   ],
   "source": [
    "375/383\n",
    "\n",
    "resAlex <- as.data.table(readRDS(\"~/HRJ_monocytes/eqtls/eQTL_analysis/results/from_alex/RNA_cis_MatrixEQTLout.rds\"))\n",
    "str(resAlex)"
   ]
  },
  {
   "cell_type": "code",
   "execution_count": 45,
   "metadata": {},
   "outputs": [
    {
     "data": {
      "text/html": [
       "<table class=\"dataframe\">\n",
       "<caption>A data.table: 1 × 6</caption>\n",
       "<thead>\n",
       "\t<tr><th scope=col>SNP</th><th scope=col>gene</th><th scope=col>t.stat</th><th scope=col>p.value</th><th scope=col>FDR</th><th scope=col>beta</th></tr>\n",
       "\t<tr><th scope=col>&lt;chr&gt;</th><th scope=col>&lt;chr&gt;</th><th scope=col>&lt;dbl&gt;</th><th scope=col>&lt;dbl&gt;</th><th scope=col>&lt;dbl&gt;</th><th scope=col>&lt;dbl&gt;</th></tr>\n",
       "</thead>\n",
       "<tbody>\n",
       "\t<tr><td>7:1210755:C:T</td><td>ENSG00000146540_C7orf50</td><td>-1.281004</td><td>0.2103421</td><td>0.9052542</td><td>-0.03350691</td></tr>\n",
       "</tbody>\n",
       "</table>\n"
      ],
      "text/latex": [
       "A data.table: 1 × 6\n",
       "\\begin{tabular}{llllll}\n",
       " SNP & gene & t.stat & p.value & FDR & beta\\\\\n",
       " <chr> & <chr> & <dbl> & <dbl> & <dbl> & <dbl>\\\\\n",
       "\\hline\n",
       "\t 7:1210755:C:T & ENSG00000146540\\_C7orf50 & -1.281004 & 0.2103421 & 0.9052542 & -0.03350691\\\\\n",
       "\\end{tabular}\n"
      ],
      "text/markdown": [
       "\n",
       "A data.table: 1 × 6\n",
       "\n",
       "| SNP &lt;chr&gt; | gene &lt;chr&gt; | t.stat &lt;dbl&gt; | p.value &lt;dbl&gt; | FDR &lt;dbl&gt; | beta &lt;dbl&gt; |\n",
       "|---|---|---|---|---|---|\n",
       "| 7:1210755:C:T | ENSG00000146540_C7orf50 | -1.281004 | 0.2103421 | 0.9052542 | -0.03350691 |\n",
       "\n"
      ],
      "text/plain": [
       "  SNP           gene                    t.stat    p.value   FDR      \n",
       "1 7:1210755:C:T ENSG00000146540_C7orf50 -1.281004 0.2103421 0.9052542\n",
       "  beta       \n",
       "1 -0.03350691"
      ]
     },
     "metadata": {},
     "output_type": "display_data"
    },
    {
     "data": {
      "text/html": [
       "<table class=\"dataframe\">\n",
       "<caption>A data.table: 1 × 6</caption>\n",
       "<thead>\n",
       "\t<tr><th scope=col>SNP</th><th scope=col>gene</th><th scope=col>t.stat</th><th scope=col>p.value</th><th scope=col>FDR</th><th scope=col>beta</th></tr>\n",
       "\t<tr><th scope=col>&lt;chr&gt;</th><th scope=col>&lt;chr&gt;</th><th scope=col>&lt;dbl&gt;</th><th scope=col>&lt;dbl&gt;</th><th scope=col>&lt;dbl&gt;</th><th scope=col>&lt;dbl&gt;</th></tr>\n",
       "</thead>\n",
       "<tbody>\n",
       "\t<tr><td>7:1210898:G:A</td><td>ENSG00000146540_C7orf50</td><td>-1.544069</td><td>0.1334151</td><td>0.8639835</td><td>-0.04078862</td></tr>\n",
       "</tbody>\n",
       "</table>\n"
      ],
      "text/latex": [
       "A data.table: 1 × 6\n",
       "\\begin{tabular}{llllll}\n",
       " SNP & gene & t.stat & p.value & FDR & beta\\\\\n",
       " <chr> & <chr> & <dbl> & <dbl> & <dbl> & <dbl>\\\\\n",
       "\\hline\n",
       "\t 7:1210898:G:A & ENSG00000146540\\_C7orf50 & -1.544069 & 0.1334151 & 0.8639835 & -0.04078862\\\\\n",
       "\\end{tabular}\n"
      ],
      "text/markdown": [
       "\n",
       "A data.table: 1 × 6\n",
       "\n",
       "| SNP &lt;chr&gt; | gene &lt;chr&gt; | t.stat &lt;dbl&gt; | p.value &lt;dbl&gt; | FDR &lt;dbl&gt; | beta &lt;dbl&gt; |\n",
       "|---|---|---|---|---|---|\n",
       "| 7:1210898:G:A | ENSG00000146540_C7orf50 | -1.544069 | 0.1334151 | 0.8639835 | -0.04078862 |\n",
       "\n"
      ],
      "text/plain": [
       "  SNP           gene                    t.stat    p.value   FDR      \n",
       "1 7:1210898:G:A ENSG00000146540_C7orf50 -1.544069 0.1334151 0.8639835\n",
       "  beta       \n",
       "1 -0.04078862"
      ]
     },
     "metadata": {},
     "output_type": "display_data"
    },
    {
     "data": {
      "text/html": [
       "<table class=\"dataframe\">\n",
       "<caption>A data.table: 1 × 6</caption>\n",
       "<thead>\n",
       "\t<tr><th scope=col>SNP</th><th scope=col>gene</th><th scope=col>t.stat</th><th scope=col>p.value</th><th scope=col>FDR</th><th scope=col>beta</th></tr>\n",
       "\t<tr><th scope=col>&lt;chr&gt;</th><th scope=col>&lt;chr&gt;</th><th scope=col>&lt;dbl&gt;</th><th scope=col>&lt;dbl&gt;</th><th scope=col>&lt;dbl&gt;</th><th scope=col>&lt;dbl&gt;</th></tr>\n",
       "</thead>\n",
       "<tbody>\n",
       "\t<tr><td>7:1210987:G:A</td><td>ENSG00000146540_C7orf50</td><td>-1.281004</td><td>0.2103421</td><td>0.9052542</td><td>-0.03350691</td></tr>\n",
       "</tbody>\n",
       "</table>\n"
      ],
      "text/latex": [
       "A data.table: 1 × 6\n",
       "\\begin{tabular}{llllll}\n",
       " SNP & gene & t.stat & p.value & FDR & beta\\\\\n",
       " <chr> & <chr> & <dbl> & <dbl> & <dbl> & <dbl>\\\\\n",
       "\\hline\n",
       "\t 7:1210987:G:A & ENSG00000146540\\_C7orf50 & -1.281004 & 0.2103421 & 0.9052542 & -0.03350691\\\\\n",
       "\\end{tabular}\n"
      ],
      "text/markdown": [
       "\n",
       "A data.table: 1 × 6\n",
       "\n",
       "| SNP &lt;chr&gt; | gene &lt;chr&gt; | t.stat &lt;dbl&gt; | p.value &lt;dbl&gt; | FDR &lt;dbl&gt; | beta &lt;dbl&gt; |\n",
       "|---|---|---|---|---|---|\n",
       "| 7:1210987:G:A | ENSG00000146540_C7orf50 | -1.281004 | 0.2103421 | 0.9052542 | -0.03350691 |\n",
       "\n"
      ],
      "text/plain": [
       "  SNP           gene                    t.stat    p.value   FDR      \n",
       "1 7:1210987:G:A ENSG00000146540_C7orf50 -1.281004 0.2103421 0.9052542\n",
       "  beta       \n",
       "1 -0.03350691"
      ]
     },
     "metadata": {},
     "output_type": "display_data"
    },
    {
     "data": {
      "text/html": [
       "<table class=\"dataframe\">\n",
       "<caption>A data.table: 1 × 6</caption>\n",
       "<thead>\n",
       "\t<tr><th scope=col>SNP</th><th scope=col>gene</th><th scope=col>t.stat</th><th scope=col>p.value</th><th scope=col>FDR</th><th scope=col>beta</th></tr>\n",
       "\t<tr><th scope=col>&lt;chr&gt;</th><th scope=col>&lt;chr&gt;</th><th scope=col>&lt;dbl&gt;</th><th scope=col>&lt;dbl&gt;</th><th scope=col>&lt;dbl&gt;</th><th scope=col>&lt;dbl&gt;</th></tr>\n",
       "</thead>\n",
       "<tbody>\n",
       "\t<tr><td>7:1211978:C:G</td><td>ENSG00000146540_C7orf50</td><td>-1.281004</td><td>0.2103421</td><td>0.9052542</td><td>-0.03350691</td></tr>\n",
       "</tbody>\n",
       "</table>\n"
      ],
      "text/latex": [
       "A data.table: 1 × 6\n",
       "\\begin{tabular}{llllll}\n",
       " SNP & gene & t.stat & p.value & FDR & beta\\\\\n",
       " <chr> & <chr> & <dbl> & <dbl> & <dbl> & <dbl>\\\\\n",
       "\\hline\n",
       "\t 7:1211978:C:G & ENSG00000146540\\_C7orf50 & -1.281004 & 0.2103421 & 0.9052542 & -0.03350691\\\\\n",
       "\\end{tabular}\n"
      ],
      "text/markdown": [
       "\n",
       "A data.table: 1 × 6\n",
       "\n",
       "| SNP &lt;chr&gt; | gene &lt;chr&gt; | t.stat &lt;dbl&gt; | p.value &lt;dbl&gt; | FDR &lt;dbl&gt; | beta &lt;dbl&gt; |\n",
       "|---|---|---|---|---|---|\n",
       "| 7:1211978:C:G | ENSG00000146540_C7orf50 | -1.281004 | 0.2103421 | 0.9052542 | -0.03350691 |\n",
       "\n"
      ],
      "text/plain": [
       "  SNP           gene                    t.stat    p.value   FDR      \n",
       "1 7:1211978:C:G ENSG00000146540_C7orf50 -1.281004 0.2103421 0.9052542\n",
       "  beta       \n",
       "1 -0.03350691"
      ]
     },
     "metadata": {},
     "output_type": "display_data"
    },
    {
     "data": {
      "text/html": [
       "<table class=\"dataframe\">\n",
       "<caption>A data.table: 1 × 6</caption>\n",
       "<thead>\n",
       "\t<tr><th scope=col>SNP</th><th scope=col>gene</th><th scope=col>t.stat</th><th scope=col>p.value</th><th scope=col>FDR</th><th scope=col>beta</th></tr>\n",
       "\t<tr><th scope=col>&lt;chr&gt;</th><th scope=col>&lt;chr&gt;</th><th scope=col>&lt;dbl&gt;</th><th scope=col>&lt;dbl&gt;</th><th scope=col>&lt;dbl&gt;</th><th scope=col>&lt;dbl&gt;</th></tr>\n",
       "</thead>\n",
       "<tbody>\n",
       "\t<tr><td>7:1212211:C:A</td><td>ENSG00000146540_C7orf50</td><td>-1.544069</td><td>0.1334151</td><td>0.8639835</td><td>-0.04078862</td></tr>\n",
       "</tbody>\n",
       "</table>\n"
      ],
      "text/latex": [
       "A data.table: 1 × 6\n",
       "\\begin{tabular}{llllll}\n",
       " SNP & gene & t.stat & p.value & FDR & beta\\\\\n",
       " <chr> & <chr> & <dbl> & <dbl> & <dbl> & <dbl>\\\\\n",
       "\\hline\n",
       "\t 7:1212211:C:A & ENSG00000146540\\_C7orf50 & -1.544069 & 0.1334151 & 0.8639835 & -0.04078862\\\\\n",
       "\\end{tabular}\n"
      ],
      "text/markdown": [
       "\n",
       "A data.table: 1 × 6\n",
       "\n",
       "| SNP &lt;chr&gt; | gene &lt;chr&gt; | t.stat &lt;dbl&gt; | p.value &lt;dbl&gt; | FDR &lt;dbl&gt; | beta &lt;dbl&gt; |\n",
       "|---|---|---|---|---|---|\n",
       "| 7:1212211:C:A | ENSG00000146540_C7orf50 | -1.544069 | 0.1334151 | 0.8639835 | -0.04078862 |\n",
       "\n"
      ],
      "text/plain": [
       "  SNP           gene                    t.stat    p.value   FDR      \n",
       "1 7:1212211:C:A ENSG00000146540_C7orf50 -1.544069 0.1334151 0.8639835\n",
       "  beta       \n",
       "1 -0.04078862"
      ]
     },
     "metadata": {},
     "output_type": "display_data"
    },
    {
     "data": {
      "text/html": [
       "<table class=\"dataframe\">\n",
       "<caption>A data.table: 45524 × 6</caption>\n",
       "<thead>\n",
       "\t<tr><th scope=col>SNP</th><th scope=col>gene</th><th scope=col>t.stat</th><th scope=col>p.value</th><th scope=col>FDR</th><th scope=col>beta</th></tr>\n",
       "\t<tr><th scope=col>&lt;chr&gt;</th><th scope=col>&lt;chr&gt;</th><th scope=col>&lt;dbl&gt;</th><th scope=col>&lt;dbl&gt;</th><th scope=col>&lt;dbl&gt;</th><th scope=col>&lt;dbl&gt;</th></tr>\n",
       "</thead>\n",
       "<tbody>\n",
       "\t<tr><td>4:141910489:T:A</td><td>ENSG00000170153_RNF150</td><td>39.71473</td><td>7.782883e-27</td><td>1.031893e-21</td><td>1.902404</td></tr>\n",
       "\t<tr><td>4:141912170:A:G</td><td>ENSG00000170153_RNF150</td><td>39.71473</td><td>7.782883e-27</td><td>1.031893e-21</td><td>1.902404</td></tr>\n",
       "\t<tr><td>4:141915484:G:C</td><td>ENSG00000170153_RNF150</td><td>39.71473</td><td>7.782883e-27</td><td>1.031893e-21</td><td>1.902404</td></tr>\n",
       "\t<tr><td>4:141915795:C:T</td><td>ENSG00000170153_RNF150</td><td>39.71473</td><td>7.782883e-27</td><td>1.031893e-21</td><td>1.902404</td></tr>\n",
       "\t<tr><td>4:141916582:T:G</td><td>ENSG00000170153_RNF150</td><td>39.71473</td><td>7.782883e-27</td><td>1.031893e-21</td><td>1.902404</td></tr>\n",
       "\t<tr><td>4:141916743:C:A</td><td>ENSG00000170153_RNF150</td><td>39.71473</td><td>7.782883e-27</td><td>1.031893e-21</td><td>1.902404</td></tr>\n",
       "\t<tr><td>4:141916891:T:C</td><td>ENSG00000170153_RNF150</td><td>39.71473</td><td>7.782883e-27</td><td>1.031893e-21</td><td>1.902404</td></tr>\n",
       "\t<tr><td>4:141916900:A:G</td><td>ENSG00000170153_RNF150</td><td>39.71473</td><td>7.782883e-27</td><td>1.031893e-21</td><td>1.902404</td></tr>\n",
       "\t<tr><td>4:141917068:T:C</td><td>ENSG00000170153_RNF150</td><td>39.71473</td><td>7.782883e-27</td><td>1.031893e-21</td><td>1.902404</td></tr>\n",
       "\t<tr><td>4:141917069:G:A</td><td>ENSG00000170153_RNF150</td><td>39.71473</td><td>7.782883e-27</td><td>1.031893e-21</td><td>1.902404</td></tr>\n",
       "\t<tr><td>4:141917200:C:A</td><td>ENSG00000170153_RNF150</td><td>39.71473</td><td>7.782883e-27</td><td>1.031893e-21</td><td>1.902404</td></tr>\n",
       "\t<tr><td>4:141917250:A:T</td><td>ENSG00000170153_RNF150</td><td>39.71473</td><td>7.782883e-27</td><td>1.031893e-21</td><td>1.902404</td></tr>\n",
       "\t<tr><td>4:141917365:G:A</td><td>ENSG00000170153_RNF150</td><td>39.71473</td><td>7.782883e-27</td><td>1.031893e-21</td><td>1.902404</td></tr>\n",
       "\t<tr><td>4:141917405:A:G</td><td>ENSG00000170153_RNF150</td><td>39.71473</td><td>7.782883e-27</td><td>1.031893e-21</td><td>1.902404</td></tr>\n",
       "\t<tr><td>4:141917551:T:C</td><td>ENSG00000170153_RNF150</td><td>39.71473</td><td>7.782883e-27</td><td>1.031893e-21</td><td>1.902404</td></tr>\n",
       "\t<tr><td>4:141917629:G:C</td><td>ENSG00000170153_RNF150</td><td>39.71473</td><td>7.782883e-27</td><td>1.031893e-21</td><td>1.902404</td></tr>\n",
       "\t<tr><td>4:141917667:C:T</td><td>ENSG00000170153_RNF150</td><td>39.71473</td><td>7.782883e-27</td><td>1.031893e-21</td><td>1.902404</td></tr>\n",
       "\t<tr><td>4:141917741:C:T</td><td>ENSG00000170153_RNF150</td><td>39.71473</td><td>7.782883e-27</td><td>1.031893e-21</td><td>1.902404</td></tr>\n",
       "\t<tr><td>4:141917800:T:C</td><td>ENSG00000170153_RNF150</td><td>39.71473</td><td>7.782883e-27</td><td>1.031893e-21</td><td>1.902404</td></tr>\n",
       "\t<tr><td>4:141917849:A:C</td><td>ENSG00000170153_RNF150</td><td>39.71473</td><td>7.782883e-27</td><td>1.031893e-21</td><td>1.902404</td></tr>\n",
       "\t<tr><td>4:141917921:G:A</td><td>ENSG00000170153_RNF150</td><td>39.71473</td><td>7.782883e-27</td><td>1.031893e-21</td><td>1.902404</td></tr>\n",
       "\t<tr><td>4:141918174:T:C</td><td>ENSG00000170153_RNF150</td><td>39.71473</td><td>7.782883e-27</td><td>1.031893e-21</td><td>1.902404</td></tr>\n",
       "\t<tr><td>4:141918341:T:C</td><td>ENSG00000170153_RNF150</td><td>39.71473</td><td>7.782883e-27</td><td>1.031893e-21</td><td>1.902404</td></tr>\n",
       "\t<tr><td>4:141918396:T:G</td><td>ENSG00000170153_RNF150</td><td>39.71473</td><td>7.782883e-27</td><td>1.031893e-21</td><td>1.902404</td></tr>\n",
       "\t<tr><td>4:141918445:C:A</td><td>ENSG00000170153_RNF150</td><td>39.71473</td><td>7.782883e-27</td><td>1.031893e-21</td><td>1.902404</td></tr>\n",
       "\t<tr><td>4:141918446:T:A</td><td>ENSG00000170153_RNF150</td><td>39.71473</td><td>7.782883e-27</td><td>1.031893e-21</td><td>1.902404</td></tr>\n",
       "\t<tr><td>4:141918646:T:C</td><td>ENSG00000170153_RNF150</td><td>39.71473</td><td>7.782883e-27</td><td>1.031893e-21</td><td>1.902404</td></tr>\n",
       "\t<tr><td>4:141918648:T:C</td><td>ENSG00000170153_RNF150</td><td>39.71473</td><td>7.782883e-27</td><td>1.031893e-21</td><td>1.902404</td></tr>\n",
       "\t<tr><td>4:141918657:C:A</td><td>ENSG00000170153_RNF150</td><td>39.71473</td><td>7.782883e-27</td><td>1.031893e-21</td><td>1.902404</td></tr>\n",
       "\t<tr><td>4:141918680:A:G</td><td>ENSG00000170153_RNF150</td><td>39.71473</td><td>7.782883e-27</td><td>1.031893e-21</td><td>1.902404</td></tr>\n",
       "\t<tr><td>⋮</td><td>⋮</td><td>⋮</td><td>⋮</td><td>⋮</td><td>⋮</td></tr>\n",
       "\t<tr><td>19:9564763:C:A </td><td>ENSG00000174652_ZNF266</td><td> 4.444894</td><td>0.0001182249</td><td>0.04993523</td><td> 0.21872239</td></tr>\n",
       "\t<tr><td>19:9565050:G:C </td><td>ENSG00000174652_ZNF266</td><td> 4.444894</td><td>0.0001182249</td><td>0.04993523</td><td> 0.21872239</td></tr>\n",
       "\t<tr><td>19:9565415:G:A </td><td>ENSG00000174652_ZNF266</td><td> 4.444894</td><td>0.0001182249</td><td>0.04993523</td><td> 0.21872239</td></tr>\n",
       "\t<tr><td>19:9565696:A:G </td><td>ENSG00000174652_ZNF266</td><td> 4.444894</td><td>0.0001182249</td><td>0.04993523</td><td> 0.21872239</td></tr>\n",
       "\t<tr><td>19:9565729:A:C </td><td>ENSG00000174652_ZNF266</td><td> 4.444894</td><td>0.0001182249</td><td>0.04993523</td><td> 0.21872239</td></tr>\n",
       "\t<tr><td>19:9566116:C:T </td><td>ENSG00000174652_ZNF266</td><td> 4.444894</td><td>0.0001182249</td><td>0.04993523</td><td> 0.21872239</td></tr>\n",
       "\t<tr><td>19:9566740:G:A </td><td>ENSG00000174652_ZNF266</td><td> 4.444894</td><td>0.0001182249</td><td>0.04993523</td><td> 0.21872239</td></tr>\n",
       "\t<tr><td>19:9567033:C:T </td><td>ENSG00000174652_ZNF266</td><td> 4.444894</td><td>0.0001182249</td><td>0.04993523</td><td> 0.21872239</td></tr>\n",
       "\t<tr><td>19:9567236:A:T </td><td>ENSG00000174652_ZNF266</td><td> 4.444894</td><td>0.0001182249</td><td>0.04993523</td><td> 0.21872239</td></tr>\n",
       "\t<tr><td>19:9567247:C:G </td><td>ENSG00000174652_ZNF266</td><td> 4.444894</td><td>0.0001182249</td><td>0.04993523</td><td> 0.21872239</td></tr>\n",
       "\t<tr><td>19:9568277:G:A </td><td>ENSG00000174652_ZNF266</td><td> 4.444894</td><td>0.0001182249</td><td>0.04993523</td><td> 0.21872239</td></tr>\n",
       "\t<tr><td>19:9568318:C:T </td><td>ENSG00000174652_ZNF266</td><td> 4.444894</td><td>0.0001182249</td><td>0.04993523</td><td> 0.21872239</td></tr>\n",
       "\t<tr><td>19:9568377:A:G </td><td>ENSG00000174652_ZNF266</td><td> 4.444894</td><td>0.0001182249</td><td>0.04993523</td><td> 0.21872239</td></tr>\n",
       "\t<tr><td>19:9569811:C:T </td><td>ENSG00000174652_ZNF266</td><td> 4.444894</td><td>0.0001182249</td><td>0.04993523</td><td> 0.21872239</td></tr>\n",
       "\t<tr><td>19:9573154:G:A </td><td>ENSG00000174652_ZNF266</td><td> 4.444894</td><td>0.0001182249</td><td>0.04993523</td><td> 0.21872239</td></tr>\n",
       "\t<tr><td>19:9575839:G:A </td><td>ENSG00000174652_ZNF266</td><td> 4.444894</td><td>0.0001182249</td><td>0.04993523</td><td> 0.21872239</td></tr>\n",
       "\t<tr><td>19:9580866:C:T </td><td>ENSG00000174652_ZNF266</td><td> 4.444894</td><td>0.0001182249</td><td>0.04993523</td><td> 0.21872239</td></tr>\n",
       "\t<tr><td>19:9583269:C:T </td><td>ENSG00000174652_ZNF266</td><td> 4.444894</td><td>0.0001182249</td><td>0.04993523</td><td> 0.21872239</td></tr>\n",
       "\t<tr><td>19:9588621:C:T </td><td>ENSG00000174652_ZNF266</td><td> 4.444894</td><td>0.0001182249</td><td>0.04993523</td><td> 0.21872239</td></tr>\n",
       "\t<tr><td>19:9601362:G:C </td><td>ENSG00000174652_ZNF266</td><td> 4.444894</td><td>0.0001182249</td><td>0.04993523</td><td> 0.21872239</td></tr>\n",
       "\t<tr><td>19:9606461:C:T </td><td>ENSG00000174652_ZNF266</td><td> 4.444894</td><td>0.0001182249</td><td>0.04993523</td><td> 0.21872239</td></tr>\n",
       "\t<tr><td>19:9611224:G:A </td><td>ENSG00000174652_ZNF266</td><td> 4.444894</td><td>0.0001182249</td><td>0.04993523</td><td> 0.21872239</td></tr>\n",
       "\t<tr><td>19:5786011:G:A </td><td>ENSG00000141994_DUS3L </td><td>-4.444857</td><td>0.0001182371</td><td>0.04993930</td><td>-0.12583917</td></tr>\n",
       "\t<tr><td>16:89743219:G:A</td><td>ENSG00000185324_CDK10 </td><td> 4.444804</td><td>0.0001182543</td><td>0.04994324</td><td> 0.11166456</td></tr>\n",
       "\t<tr><td>16:89746277:T:G</td><td>ENSG00000185324_CDK10 </td><td> 4.444804</td><td>0.0001182543</td><td>0.04994324</td><td> 0.11166456</td></tr>\n",
       "\t<tr><td>16:89746435:A:G</td><td>ENSG00000185324_CDK10 </td><td> 4.444804</td><td>0.0001182543</td><td>0.04994324</td><td> 0.11166456</td></tr>\n",
       "\t<tr><td>19:35692403:C:T</td><td>ENSG00000089327_FXYD5 </td><td> 4.444579</td><td>0.0001183280</td><td>0.04997218</td><td> 0.06661569</td></tr>\n",
       "\t<tr><td>19:35693120:T:C</td><td>ENSG00000089327_FXYD5 </td><td> 4.444579</td><td>0.0001183280</td><td>0.04997218</td><td> 0.06661569</td></tr>\n",
       "\t<tr><td>14:95662391:C:T</td><td>ENSG00000165959_CLMN  </td><td> 4.444548</td><td>0.0001183378</td><td>0.04997525</td><td> 0.20160505</td></tr>\n",
       "\t<tr><td>11:18342081:T:C</td><td>ENSG00000110768_GTF2H1</td><td> 4.444470</td><td>0.0001183635</td><td>0.04998498</td><td> 0.11806056</td></tr>\n",
       "</tbody>\n",
       "</table>\n"
      ],
      "text/latex": [
       "A data.table: 45524 × 6\n",
       "\\begin{tabular}{llllll}\n",
       " SNP & gene & t.stat & p.value & FDR & beta\\\\\n",
       " <chr> & <chr> & <dbl> & <dbl> & <dbl> & <dbl>\\\\\n",
       "\\hline\n",
       "\t 4:141910489:T:A & ENSG00000170153\\_RNF150 & 39.71473 & 7.782883e-27 & 1.031893e-21 & 1.902404\\\\\n",
       "\t 4:141912170:A:G & ENSG00000170153\\_RNF150 & 39.71473 & 7.782883e-27 & 1.031893e-21 & 1.902404\\\\\n",
       "\t 4:141915484:G:C & ENSG00000170153\\_RNF150 & 39.71473 & 7.782883e-27 & 1.031893e-21 & 1.902404\\\\\n",
       "\t 4:141915795:C:T & ENSG00000170153\\_RNF150 & 39.71473 & 7.782883e-27 & 1.031893e-21 & 1.902404\\\\\n",
       "\t 4:141916582:T:G & ENSG00000170153\\_RNF150 & 39.71473 & 7.782883e-27 & 1.031893e-21 & 1.902404\\\\\n",
       "\t 4:141916743:C:A & ENSG00000170153\\_RNF150 & 39.71473 & 7.782883e-27 & 1.031893e-21 & 1.902404\\\\\n",
       "\t 4:141916891:T:C & ENSG00000170153\\_RNF150 & 39.71473 & 7.782883e-27 & 1.031893e-21 & 1.902404\\\\\n",
       "\t 4:141916900:A:G & ENSG00000170153\\_RNF150 & 39.71473 & 7.782883e-27 & 1.031893e-21 & 1.902404\\\\\n",
       "\t 4:141917068:T:C & ENSG00000170153\\_RNF150 & 39.71473 & 7.782883e-27 & 1.031893e-21 & 1.902404\\\\\n",
       "\t 4:141917069:G:A & ENSG00000170153\\_RNF150 & 39.71473 & 7.782883e-27 & 1.031893e-21 & 1.902404\\\\\n",
       "\t 4:141917200:C:A & ENSG00000170153\\_RNF150 & 39.71473 & 7.782883e-27 & 1.031893e-21 & 1.902404\\\\\n",
       "\t 4:141917250:A:T & ENSG00000170153\\_RNF150 & 39.71473 & 7.782883e-27 & 1.031893e-21 & 1.902404\\\\\n",
       "\t 4:141917365:G:A & ENSG00000170153\\_RNF150 & 39.71473 & 7.782883e-27 & 1.031893e-21 & 1.902404\\\\\n",
       "\t 4:141917405:A:G & ENSG00000170153\\_RNF150 & 39.71473 & 7.782883e-27 & 1.031893e-21 & 1.902404\\\\\n",
       "\t 4:141917551:T:C & ENSG00000170153\\_RNF150 & 39.71473 & 7.782883e-27 & 1.031893e-21 & 1.902404\\\\\n",
       "\t 4:141917629:G:C & ENSG00000170153\\_RNF150 & 39.71473 & 7.782883e-27 & 1.031893e-21 & 1.902404\\\\\n",
       "\t 4:141917667:C:T & ENSG00000170153\\_RNF150 & 39.71473 & 7.782883e-27 & 1.031893e-21 & 1.902404\\\\\n",
       "\t 4:141917741:C:T & ENSG00000170153\\_RNF150 & 39.71473 & 7.782883e-27 & 1.031893e-21 & 1.902404\\\\\n",
       "\t 4:141917800:T:C & ENSG00000170153\\_RNF150 & 39.71473 & 7.782883e-27 & 1.031893e-21 & 1.902404\\\\\n",
       "\t 4:141917849:A:C & ENSG00000170153\\_RNF150 & 39.71473 & 7.782883e-27 & 1.031893e-21 & 1.902404\\\\\n",
       "\t 4:141917921:G:A & ENSG00000170153\\_RNF150 & 39.71473 & 7.782883e-27 & 1.031893e-21 & 1.902404\\\\\n",
       "\t 4:141918174:T:C & ENSG00000170153\\_RNF150 & 39.71473 & 7.782883e-27 & 1.031893e-21 & 1.902404\\\\\n",
       "\t 4:141918341:T:C & ENSG00000170153\\_RNF150 & 39.71473 & 7.782883e-27 & 1.031893e-21 & 1.902404\\\\\n",
       "\t 4:141918396:T:G & ENSG00000170153\\_RNF150 & 39.71473 & 7.782883e-27 & 1.031893e-21 & 1.902404\\\\\n",
       "\t 4:141918445:C:A & ENSG00000170153\\_RNF150 & 39.71473 & 7.782883e-27 & 1.031893e-21 & 1.902404\\\\\n",
       "\t 4:141918446:T:A & ENSG00000170153\\_RNF150 & 39.71473 & 7.782883e-27 & 1.031893e-21 & 1.902404\\\\\n",
       "\t 4:141918646:T:C & ENSG00000170153\\_RNF150 & 39.71473 & 7.782883e-27 & 1.031893e-21 & 1.902404\\\\\n",
       "\t 4:141918648:T:C & ENSG00000170153\\_RNF150 & 39.71473 & 7.782883e-27 & 1.031893e-21 & 1.902404\\\\\n",
       "\t 4:141918657:C:A & ENSG00000170153\\_RNF150 & 39.71473 & 7.782883e-27 & 1.031893e-21 & 1.902404\\\\\n",
       "\t 4:141918680:A:G & ENSG00000170153\\_RNF150 & 39.71473 & 7.782883e-27 & 1.031893e-21 & 1.902404\\\\\n",
       "\t ⋮ & ⋮ & ⋮ & ⋮ & ⋮ & ⋮\\\\\n",
       "\t 19:9564763:C:A  & ENSG00000174652\\_ZNF266 &  4.444894 & 0.0001182249 & 0.04993523 &  0.21872239\\\\\n",
       "\t 19:9565050:G:C  & ENSG00000174652\\_ZNF266 &  4.444894 & 0.0001182249 & 0.04993523 &  0.21872239\\\\\n",
       "\t 19:9565415:G:A  & ENSG00000174652\\_ZNF266 &  4.444894 & 0.0001182249 & 0.04993523 &  0.21872239\\\\\n",
       "\t 19:9565696:A:G  & ENSG00000174652\\_ZNF266 &  4.444894 & 0.0001182249 & 0.04993523 &  0.21872239\\\\\n",
       "\t 19:9565729:A:C  & ENSG00000174652\\_ZNF266 &  4.444894 & 0.0001182249 & 0.04993523 &  0.21872239\\\\\n",
       "\t 19:9566116:C:T  & ENSG00000174652\\_ZNF266 &  4.444894 & 0.0001182249 & 0.04993523 &  0.21872239\\\\\n",
       "\t 19:9566740:G:A  & ENSG00000174652\\_ZNF266 &  4.444894 & 0.0001182249 & 0.04993523 &  0.21872239\\\\\n",
       "\t 19:9567033:C:T  & ENSG00000174652\\_ZNF266 &  4.444894 & 0.0001182249 & 0.04993523 &  0.21872239\\\\\n",
       "\t 19:9567236:A:T  & ENSG00000174652\\_ZNF266 &  4.444894 & 0.0001182249 & 0.04993523 &  0.21872239\\\\\n",
       "\t 19:9567247:C:G  & ENSG00000174652\\_ZNF266 &  4.444894 & 0.0001182249 & 0.04993523 &  0.21872239\\\\\n",
       "\t 19:9568277:G:A  & ENSG00000174652\\_ZNF266 &  4.444894 & 0.0001182249 & 0.04993523 &  0.21872239\\\\\n",
       "\t 19:9568318:C:T  & ENSG00000174652\\_ZNF266 &  4.444894 & 0.0001182249 & 0.04993523 &  0.21872239\\\\\n",
       "\t 19:9568377:A:G  & ENSG00000174652\\_ZNF266 &  4.444894 & 0.0001182249 & 0.04993523 &  0.21872239\\\\\n",
       "\t 19:9569811:C:T  & ENSG00000174652\\_ZNF266 &  4.444894 & 0.0001182249 & 0.04993523 &  0.21872239\\\\\n",
       "\t 19:9573154:G:A  & ENSG00000174652\\_ZNF266 &  4.444894 & 0.0001182249 & 0.04993523 &  0.21872239\\\\\n",
       "\t 19:9575839:G:A  & ENSG00000174652\\_ZNF266 &  4.444894 & 0.0001182249 & 0.04993523 &  0.21872239\\\\\n",
       "\t 19:9580866:C:T  & ENSG00000174652\\_ZNF266 &  4.444894 & 0.0001182249 & 0.04993523 &  0.21872239\\\\\n",
       "\t 19:9583269:C:T  & ENSG00000174652\\_ZNF266 &  4.444894 & 0.0001182249 & 0.04993523 &  0.21872239\\\\\n",
       "\t 19:9588621:C:T  & ENSG00000174652\\_ZNF266 &  4.444894 & 0.0001182249 & 0.04993523 &  0.21872239\\\\\n",
       "\t 19:9601362:G:C  & ENSG00000174652\\_ZNF266 &  4.444894 & 0.0001182249 & 0.04993523 &  0.21872239\\\\\n",
       "\t 19:9606461:C:T  & ENSG00000174652\\_ZNF266 &  4.444894 & 0.0001182249 & 0.04993523 &  0.21872239\\\\\n",
       "\t 19:9611224:G:A  & ENSG00000174652\\_ZNF266 &  4.444894 & 0.0001182249 & 0.04993523 &  0.21872239\\\\\n",
       "\t 19:5786011:G:A  & ENSG00000141994\\_DUS3L  & -4.444857 & 0.0001182371 & 0.04993930 & -0.12583917\\\\\n",
       "\t 16:89743219:G:A & ENSG00000185324\\_CDK10  &  4.444804 & 0.0001182543 & 0.04994324 &  0.11166456\\\\\n",
       "\t 16:89746277:T:G & ENSG00000185324\\_CDK10  &  4.444804 & 0.0001182543 & 0.04994324 &  0.11166456\\\\\n",
       "\t 16:89746435:A:G & ENSG00000185324\\_CDK10  &  4.444804 & 0.0001182543 & 0.04994324 &  0.11166456\\\\\n",
       "\t 19:35692403:C:T & ENSG00000089327\\_FXYD5  &  4.444579 & 0.0001183280 & 0.04997218 &  0.06661569\\\\\n",
       "\t 19:35693120:T:C & ENSG00000089327\\_FXYD5  &  4.444579 & 0.0001183280 & 0.04997218 &  0.06661569\\\\\n",
       "\t 14:95662391:C:T & ENSG00000165959\\_CLMN   &  4.444548 & 0.0001183378 & 0.04997525 &  0.20160505\\\\\n",
       "\t 11:18342081:T:C & ENSG00000110768\\_GTF2H1 &  4.444470 & 0.0001183635 & 0.04998498 &  0.11806056\\\\\n",
       "\\end{tabular}\n"
      ],
      "text/markdown": [
       "\n",
       "A data.table: 45524 × 6\n",
       "\n",
       "| SNP &lt;chr&gt; | gene &lt;chr&gt; | t.stat &lt;dbl&gt; | p.value &lt;dbl&gt; | FDR &lt;dbl&gt; | beta &lt;dbl&gt; |\n",
       "|---|---|---|---|---|---|\n",
       "| 4:141910489:T:A | ENSG00000170153_RNF150 | 39.71473 | 7.782883e-27 | 1.031893e-21 | 1.902404 |\n",
       "| 4:141912170:A:G | ENSG00000170153_RNF150 | 39.71473 | 7.782883e-27 | 1.031893e-21 | 1.902404 |\n",
       "| 4:141915484:G:C | ENSG00000170153_RNF150 | 39.71473 | 7.782883e-27 | 1.031893e-21 | 1.902404 |\n",
       "| 4:141915795:C:T | ENSG00000170153_RNF150 | 39.71473 | 7.782883e-27 | 1.031893e-21 | 1.902404 |\n",
       "| 4:141916582:T:G | ENSG00000170153_RNF150 | 39.71473 | 7.782883e-27 | 1.031893e-21 | 1.902404 |\n",
       "| 4:141916743:C:A | ENSG00000170153_RNF150 | 39.71473 | 7.782883e-27 | 1.031893e-21 | 1.902404 |\n",
       "| 4:141916891:T:C | ENSG00000170153_RNF150 | 39.71473 | 7.782883e-27 | 1.031893e-21 | 1.902404 |\n",
       "| 4:141916900:A:G | ENSG00000170153_RNF150 | 39.71473 | 7.782883e-27 | 1.031893e-21 | 1.902404 |\n",
       "| 4:141917068:T:C | ENSG00000170153_RNF150 | 39.71473 | 7.782883e-27 | 1.031893e-21 | 1.902404 |\n",
       "| 4:141917069:G:A | ENSG00000170153_RNF150 | 39.71473 | 7.782883e-27 | 1.031893e-21 | 1.902404 |\n",
       "| 4:141917200:C:A | ENSG00000170153_RNF150 | 39.71473 | 7.782883e-27 | 1.031893e-21 | 1.902404 |\n",
       "| 4:141917250:A:T | ENSG00000170153_RNF150 | 39.71473 | 7.782883e-27 | 1.031893e-21 | 1.902404 |\n",
       "| 4:141917365:G:A | ENSG00000170153_RNF150 | 39.71473 | 7.782883e-27 | 1.031893e-21 | 1.902404 |\n",
       "| 4:141917405:A:G | ENSG00000170153_RNF150 | 39.71473 | 7.782883e-27 | 1.031893e-21 | 1.902404 |\n",
       "| 4:141917551:T:C | ENSG00000170153_RNF150 | 39.71473 | 7.782883e-27 | 1.031893e-21 | 1.902404 |\n",
       "| 4:141917629:G:C | ENSG00000170153_RNF150 | 39.71473 | 7.782883e-27 | 1.031893e-21 | 1.902404 |\n",
       "| 4:141917667:C:T | ENSG00000170153_RNF150 | 39.71473 | 7.782883e-27 | 1.031893e-21 | 1.902404 |\n",
       "| 4:141917741:C:T | ENSG00000170153_RNF150 | 39.71473 | 7.782883e-27 | 1.031893e-21 | 1.902404 |\n",
       "| 4:141917800:T:C | ENSG00000170153_RNF150 | 39.71473 | 7.782883e-27 | 1.031893e-21 | 1.902404 |\n",
       "| 4:141917849:A:C | ENSG00000170153_RNF150 | 39.71473 | 7.782883e-27 | 1.031893e-21 | 1.902404 |\n",
       "| 4:141917921:G:A | ENSG00000170153_RNF150 | 39.71473 | 7.782883e-27 | 1.031893e-21 | 1.902404 |\n",
       "| 4:141918174:T:C | ENSG00000170153_RNF150 | 39.71473 | 7.782883e-27 | 1.031893e-21 | 1.902404 |\n",
       "| 4:141918341:T:C | ENSG00000170153_RNF150 | 39.71473 | 7.782883e-27 | 1.031893e-21 | 1.902404 |\n",
       "| 4:141918396:T:G | ENSG00000170153_RNF150 | 39.71473 | 7.782883e-27 | 1.031893e-21 | 1.902404 |\n",
       "| 4:141918445:C:A | ENSG00000170153_RNF150 | 39.71473 | 7.782883e-27 | 1.031893e-21 | 1.902404 |\n",
       "| 4:141918446:T:A | ENSG00000170153_RNF150 | 39.71473 | 7.782883e-27 | 1.031893e-21 | 1.902404 |\n",
       "| 4:141918646:T:C | ENSG00000170153_RNF150 | 39.71473 | 7.782883e-27 | 1.031893e-21 | 1.902404 |\n",
       "| 4:141918648:T:C | ENSG00000170153_RNF150 | 39.71473 | 7.782883e-27 | 1.031893e-21 | 1.902404 |\n",
       "| 4:141918657:C:A | ENSG00000170153_RNF150 | 39.71473 | 7.782883e-27 | 1.031893e-21 | 1.902404 |\n",
       "| 4:141918680:A:G | ENSG00000170153_RNF150 | 39.71473 | 7.782883e-27 | 1.031893e-21 | 1.902404 |\n",
       "| ⋮ | ⋮ | ⋮ | ⋮ | ⋮ | ⋮ |\n",
       "| 19:9564763:C:A  | ENSG00000174652_ZNF266 |  4.444894 | 0.0001182249 | 0.04993523 |  0.21872239 |\n",
       "| 19:9565050:G:C  | ENSG00000174652_ZNF266 |  4.444894 | 0.0001182249 | 0.04993523 |  0.21872239 |\n",
       "| 19:9565415:G:A  | ENSG00000174652_ZNF266 |  4.444894 | 0.0001182249 | 0.04993523 |  0.21872239 |\n",
       "| 19:9565696:A:G  | ENSG00000174652_ZNF266 |  4.444894 | 0.0001182249 | 0.04993523 |  0.21872239 |\n",
       "| 19:9565729:A:C  | ENSG00000174652_ZNF266 |  4.444894 | 0.0001182249 | 0.04993523 |  0.21872239 |\n",
       "| 19:9566116:C:T  | ENSG00000174652_ZNF266 |  4.444894 | 0.0001182249 | 0.04993523 |  0.21872239 |\n",
       "| 19:9566740:G:A  | ENSG00000174652_ZNF266 |  4.444894 | 0.0001182249 | 0.04993523 |  0.21872239 |\n",
       "| 19:9567033:C:T  | ENSG00000174652_ZNF266 |  4.444894 | 0.0001182249 | 0.04993523 |  0.21872239 |\n",
       "| 19:9567236:A:T  | ENSG00000174652_ZNF266 |  4.444894 | 0.0001182249 | 0.04993523 |  0.21872239 |\n",
       "| 19:9567247:C:G  | ENSG00000174652_ZNF266 |  4.444894 | 0.0001182249 | 0.04993523 |  0.21872239 |\n",
       "| 19:9568277:G:A  | ENSG00000174652_ZNF266 |  4.444894 | 0.0001182249 | 0.04993523 |  0.21872239 |\n",
       "| 19:9568318:C:T  | ENSG00000174652_ZNF266 |  4.444894 | 0.0001182249 | 0.04993523 |  0.21872239 |\n",
       "| 19:9568377:A:G  | ENSG00000174652_ZNF266 |  4.444894 | 0.0001182249 | 0.04993523 |  0.21872239 |\n",
       "| 19:9569811:C:T  | ENSG00000174652_ZNF266 |  4.444894 | 0.0001182249 | 0.04993523 |  0.21872239 |\n",
       "| 19:9573154:G:A  | ENSG00000174652_ZNF266 |  4.444894 | 0.0001182249 | 0.04993523 |  0.21872239 |\n",
       "| 19:9575839:G:A  | ENSG00000174652_ZNF266 |  4.444894 | 0.0001182249 | 0.04993523 |  0.21872239 |\n",
       "| 19:9580866:C:T  | ENSG00000174652_ZNF266 |  4.444894 | 0.0001182249 | 0.04993523 |  0.21872239 |\n",
       "| 19:9583269:C:T  | ENSG00000174652_ZNF266 |  4.444894 | 0.0001182249 | 0.04993523 |  0.21872239 |\n",
       "| 19:9588621:C:T  | ENSG00000174652_ZNF266 |  4.444894 | 0.0001182249 | 0.04993523 |  0.21872239 |\n",
       "| 19:9601362:G:C  | ENSG00000174652_ZNF266 |  4.444894 | 0.0001182249 | 0.04993523 |  0.21872239 |\n",
       "| 19:9606461:C:T  | ENSG00000174652_ZNF266 |  4.444894 | 0.0001182249 | 0.04993523 |  0.21872239 |\n",
       "| 19:9611224:G:A  | ENSG00000174652_ZNF266 |  4.444894 | 0.0001182249 | 0.04993523 |  0.21872239 |\n",
       "| 19:5786011:G:A  | ENSG00000141994_DUS3L  | -4.444857 | 0.0001182371 | 0.04993930 | -0.12583917 |\n",
       "| 16:89743219:G:A | ENSG00000185324_CDK10  |  4.444804 | 0.0001182543 | 0.04994324 |  0.11166456 |\n",
       "| 16:89746277:T:G | ENSG00000185324_CDK10  |  4.444804 | 0.0001182543 | 0.04994324 |  0.11166456 |\n",
       "| 16:89746435:A:G | ENSG00000185324_CDK10  |  4.444804 | 0.0001182543 | 0.04994324 |  0.11166456 |\n",
       "| 19:35692403:C:T | ENSG00000089327_FXYD5  |  4.444579 | 0.0001183280 | 0.04997218 |  0.06661569 |\n",
       "| 19:35693120:T:C | ENSG00000089327_FXYD5  |  4.444579 | 0.0001183280 | 0.04997218 |  0.06661569 |\n",
       "| 14:95662391:C:T | ENSG00000165959_CLMN   |  4.444548 | 0.0001183378 | 0.04997525 |  0.20160505 |\n",
       "| 11:18342081:T:C | ENSG00000110768_GTF2H1 |  4.444470 | 0.0001183635 | 0.04998498 |  0.11806056 |\n",
       "\n"
      ],
      "text/plain": [
       "      SNP             gene                   t.stat    p.value     \n",
       "1     4:141910489:T:A ENSG00000170153_RNF150 39.71473  7.782883e-27\n",
       "2     4:141912170:A:G ENSG00000170153_RNF150 39.71473  7.782883e-27\n",
       "3     4:141915484:G:C ENSG00000170153_RNF150 39.71473  7.782883e-27\n",
       "4     4:141915795:C:T ENSG00000170153_RNF150 39.71473  7.782883e-27\n",
       "5     4:141916582:T:G ENSG00000170153_RNF150 39.71473  7.782883e-27\n",
       "6     4:141916743:C:A ENSG00000170153_RNF150 39.71473  7.782883e-27\n",
       "7     4:141916891:T:C ENSG00000170153_RNF150 39.71473  7.782883e-27\n",
       "8     4:141916900:A:G ENSG00000170153_RNF150 39.71473  7.782883e-27\n",
       "9     4:141917068:T:C ENSG00000170153_RNF150 39.71473  7.782883e-27\n",
       "10    4:141917069:G:A ENSG00000170153_RNF150 39.71473  7.782883e-27\n",
       "11    4:141917200:C:A ENSG00000170153_RNF150 39.71473  7.782883e-27\n",
       "12    4:141917250:A:T ENSG00000170153_RNF150 39.71473  7.782883e-27\n",
       "13    4:141917365:G:A ENSG00000170153_RNF150 39.71473  7.782883e-27\n",
       "14    4:141917405:A:G ENSG00000170153_RNF150 39.71473  7.782883e-27\n",
       "15    4:141917551:T:C ENSG00000170153_RNF150 39.71473  7.782883e-27\n",
       "16    4:141917629:G:C ENSG00000170153_RNF150 39.71473  7.782883e-27\n",
       "17    4:141917667:C:T ENSG00000170153_RNF150 39.71473  7.782883e-27\n",
       "18    4:141917741:C:T ENSG00000170153_RNF150 39.71473  7.782883e-27\n",
       "19    4:141917800:T:C ENSG00000170153_RNF150 39.71473  7.782883e-27\n",
       "20    4:141917849:A:C ENSG00000170153_RNF150 39.71473  7.782883e-27\n",
       "21    4:141917921:G:A ENSG00000170153_RNF150 39.71473  7.782883e-27\n",
       "22    4:141918174:T:C ENSG00000170153_RNF150 39.71473  7.782883e-27\n",
       "23    4:141918341:T:C ENSG00000170153_RNF150 39.71473  7.782883e-27\n",
       "24    4:141918396:T:G ENSG00000170153_RNF150 39.71473  7.782883e-27\n",
       "25    4:141918445:C:A ENSG00000170153_RNF150 39.71473  7.782883e-27\n",
       "26    4:141918446:T:A ENSG00000170153_RNF150 39.71473  7.782883e-27\n",
       "27    4:141918646:T:C ENSG00000170153_RNF150 39.71473  7.782883e-27\n",
       "28    4:141918648:T:C ENSG00000170153_RNF150 39.71473  7.782883e-27\n",
       "29    4:141918657:C:A ENSG00000170153_RNF150 39.71473  7.782883e-27\n",
       "30    4:141918680:A:G ENSG00000170153_RNF150 39.71473  7.782883e-27\n",
       "⋮     ⋮               ⋮                      ⋮         ⋮           \n",
       "45495 19:9564763:C:A  ENSG00000174652_ZNF266  4.444894 0.0001182249\n",
       "45496 19:9565050:G:C  ENSG00000174652_ZNF266  4.444894 0.0001182249\n",
       "45497 19:9565415:G:A  ENSG00000174652_ZNF266  4.444894 0.0001182249\n",
       "45498 19:9565696:A:G  ENSG00000174652_ZNF266  4.444894 0.0001182249\n",
       "45499 19:9565729:A:C  ENSG00000174652_ZNF266  4.444894 0.0001182249\n",
       "45500 19:9566116:C:T  ENSG00000174652_ZNF266  4.444894 0.0001182249\n",
       "45501 19:9566740:G:A  ENSG00000174652_ZNF266  4.444894 0.0001182249\n",
       "45502 19:9567033:C:T  ENSG00000174652_ZNF266  4.444894 0.0001182249\n",
       "45503 19:9567236:A:T  ENSG00000174652_ZNF266  4.444894 0.0001182249\n",
       "45504 19:9567247:C:G  ENSG00000174652_ZNF266  4.444894 0.0001182249\n",
       "45505 19:9568277:G:A  ENSG00000174652_ZNF266  4.444894 0.0001182249\n",
       "45506 19:9568318:C:T  ENSG00000174652_ZNF266  4.444894 0.0001182249\n",
       "45507 19:9568377:A:G  ENSG00000174652_ZNF266  4.444894 0.0001182249\n",
       "45508 19:9569811:C:T  ENSG00000174652_ZNF266  4.444894 0.0001182249\n",
       "45509 19:9573154:G:A  ENSG00000174652_ZNF266  4.444894 0.0001182249\n",
       "45510 19:9575839:G:A  ENSG00000174652_ZNF266  4.444894 0.0001182249\n",
       "45511 19:9580866:C:T  ENSG00000174652_ZNF266  4.444894 0.0001182249\n",
       "45512 19:9583269:C:T  ENSG00000174652_ZNF266  4.444894 0.0001182249\n",
       "45513 19:9588621:C:T  ENSG00000174652_ZNF266  4.444894 0.0001182249\n",
       "45514 19:9601362:G:C  ENSG00000174652_ZNF266  4.444894 0.0001182249\n",
       "45515 19:9606461:C:T  ENSG00000174652_ZNF266  4.444894 0.0001182249\n",
       "45516 19:9611224:G:A  ENSG00000174652_ZNF266  4.444894 0.0001182249\n",
       "45517 19:5786011:G:A  ENSG00000141994_DUS3L  -4.444857 0.0001182371\n",
       "45518 16:89743219:G:A ENSG00000185324_CDK10   4.444804 0.0001182543\n",
       "45519 16:89746277:T:G ENSG00000185324_CDK10   4.444804 0.0001182543\n",
       "45520 16:89746435:A:G ENSG00000185324_CDK10   4.444804 0.0001182543\n",
       "45521 19:35692403:C:T ENSG00000089327_FXYD5   4.444579 0.0001183280\n",
       "45522 19:35693120:T:C ENSG00000089327_FXYD5   4.444579 0.0001183280\n",
       "45523 14:95662391:C:T ENSG00000165959_CLMN    4.444548 0.0001183378\n",
       "45524 11:18342081:T:C ENSG00000110768_GTF2H1  4.444470 0.0001183635\n",
       "      FDR          beta       \n",
       "1     1.031893e-21 1.902404   \n",
       "2     1.031893e-21 1.902404   \n",
       "3     1.031893e-21 1.902404   \n",
       "4     1.031893e-21 1.902404   \n",
       "5     1.031893e-21 1.902404   \n",
       "6     1.031893e-21 1.902404   \n",
       "7     1.031893e-21 1.902404   \n",
       "8     1.031893e-21 1.902404   \n",
       "9     1.031893e-21 1.902404   \n",
       "10    1.031893e-21 1.902404   \n",
       "11    1.031893e-21 1.902404   \n",
       "12    1.031893e-21 1.902404   \n",
       "13    1.031893e-21 1.902404   \n",
       "14    1.031893e-21 1.902404   \n",
       "15    1.031893e-21 1.902404   \n",
       "16    1.031893e-21 1.902404   \n",
       "17    1.031893e-21 1.902404   \n",
       "18    1.031893e-21 1.902404   \n",
       "19    1.031893e-21 1.902404   \n",
       "20    1.031893e-21 1.902404   \n",
       "21    1.031893e-21 1.902404   \n",
       "22    1.031893e-21 1.902404   \n",
       "23    1.031893e-21 1.902404   \n",
       "24    1.031893e-21 1.902404   \n",
       "25    1.031893e-21 1.902404   \n",
       "26    1.031893e-21 1.902404   \n",
       "27    1.031893e-21 1.902404   \n",
       "28    1.031893e-21 1.902404   \n",
       "29    1.031893e-21 1.902404   \n",
       "30    1.031893e-21 1.902404   \n",
       "⋮     ⋮            ⋮          \n",
       "45495 0.04993523    0.21872239\n",
       "45496 0.04993523    0.21872239\n",
       "45497 0.04993523    0.21872239\n",
       "45498 0.04993523    0.21872239\n",
       "45499 0.04993523    0.21872239\n",
       "45500 0.04993523    0.21872239\n",
       "45501 0.04993523    0.21872239\n",
       "45502 0.04993523    0.21872239\n",
       "45503 0.04993523    0.21872239\n",
       "45504 0.04993523    0.21872239\n",
       "45505 0.04993523    0.21872239\n",
       "45506 0.04993523    0.21872239\n",
       "45507 0.04993523    0.21872239\n",
       "45508 0.04993523    0.21872239\n",
       "45509 0.04993523    0.21872239\n",
       "45510 0.04993523    0.21872239\n",
       "45511 0.04993523    0.21872239\n",
       "45512 0.04993523    0.21872239\n",
       "45513 0.04993523    0.21872239\n",
       "45514 0.04993523    0.21872239\n",
       "45515 0.04993523    0.21872239\n",
       "45516 0.04993523    0.21872239\n",
       "45517 0.04993930   -0.12583917\n",
       "45518 0.04994324    0.11166456\n",
       "45519 0.04994324    0.11166456\n",
       "45520 0.04994324    0.11166456\n",
       "45521 0.04997218    0.06661569\n",
       "45522 0.04997218    0.06661569\n",
       "45523 0.04997525    0.20160505\n",
       "45524 0.04998498    0.11806056"
      ]
     },
     "metadata": {},
     "output_type": "display_data"
    }
   ],
   "source": [
    "resAlex[gene %like% \"C7orf50\" & SNP == \"7:1210755:C:T\"]\n",
    "resAlex[gene %like% \"C7orf50\" & SNP == \"7:1210898:G:A\"]\n",
    "resAlex[gene %like% \"C7orf50\" & SNP == \"7:1210987:G:A\"]\n",
    "resAlex[gene %like% \"C7orf50\" & SNP == \"7:1211978:C:G\"]\n",
    "resAlex[gene %like% \"C7orf50\" & SNP == \"7:1212211:C:A\"]\n",
    "\n",
    "resAlex[FDR <= 0.05]"
   ]
  },
  {
   "cell_type": "code",
   "execution_count": 6,
   "metadata": {},
   "outputs": [
    {
     "data": {
      "image/png": "[encoded data removed]",
      "text/plain": [
       "plot without title"
      ]
     },
     "metadata": {
      "image/png": {
       "height": 420,
       "width": 420
      }
     },
     "output_type": "display_data"
    }
   ],
   "source": [
    "### Aside: check how many SNPs were in the probe each time\n",
    "# In this file, the Beta is from the original CD14 table and is wrt ALT.\n",
    "# log_mean_aFC is also wrt ALT.\n",
    "##### Checking that the probes did not have 4+ SNPS in them.\n",
    "baits <- fread(\"~/spivakov/Design/Human_eQTL_CHiC_DpnII_hg38/eCHiC_grch38.baitmap\") # Don't need this\n",
    "snps_in_probes <- fread(\"~/HRJ_monocytes/AS_CHiC/capture_efficiency_check/SNPs_in_probes.txt\")\n",
    "rmap <- fread(\"~/spivakov/Design/Human_eQTL_CHiC_DpnII_hg38/hg38_dpnII.rmap\")\n",
    "names(rmap) = c(\"chr\", \"hg38Dpn_start\", \"hg38Dpn_end\", \"DpnID\")\n",
    "resprox_dpn <- resprox[rmap, on = c(\"hg38Dpn_start\", \"hg38Dpn_end\"), nomatch = NULL] # here getting the dpn IDs\n",
    "\n",
    "sig_wSNPs_check <- snps_in_probes[resprox_dpn, on = \"DpnID\"] #### if not intersecting, there were zero\n",
    "sig_wSNPs_check[is.na(sig_wSNPs_check)] <- 0\n",
    "to_plottt <- unique(sig_wSNPs_check[, .(BaseQTL_SNP_hg19, No.snps_intersecting_probe)])\n",
    "p <- ggplot(to_plottt, aes(x = No.snps_intersecting_probe))\n",
    "p + geom_histogram(bins = 4, fill=\"black\", col=\"grey\") + ggtitle(\"No. SNPs intersecting probe for significant looping QTLs\")\n",
    "# zero to 2.\n",
    "\n",
    "#resprox"
   ]
  },
  {
   "cell_type": "code",
   "execution_count": 7,
   "metadata": {},
   "outputs": [
    {
     "data": {
      "image/png": "[encoded data removed]",
      "text/plain": [
       "plot without title"
      ]
     },
     "metadata": {
      "image/png": {
       "height": 420,
       "width": 420
      }
     },
     "output_type": "display_data"
    }
   ],
   "source": [
    "# checking betas expression versus chic\n",
    "# REF and ALT should match, because we matched based on the full hg19SNP_ID\n",
    "# In BaseQTL analysis, log_mean_aFC refers to the alt allele, as does the original Vosa table.\n",
    "\n",
    "resprox_dpn[log_mean_aFC < 0 & Beta < 0, direction_eQTLvsLooping := \"same\"] # These are same dir\n",
    "resprox_dpn[log_mean_aFC > 0 & Beta > 0, direction_eQTLvsLooping := \"same\"] # These are same dir\n",
    "resprox_dpn[log_mean_aFC < 0 & Beta > 0, direction_eQTLvsLooping := \"different\"] # These are dif dir\n",
    "resprox_dpn[log_mean_aFC > 0 & Beta < 0, direction_eQTLvsLooping := \"different\"] # These are dif dir\n",
    "\n",
    "pl <- ggplot(plott, aes(x = direction_eQTLvsLooping))\n",
    "#pl + geom_bar() # Most are same direction, but quite a few are different direction.\n",
    "\n",
    "####\n",
    "\n",
    "#### plot the betas instead. \n",
    "plott2 <- unique(resprox_dpn [, .(rsid, log_mean_aFC, Beta)])\n",
    "pl <- ggplot(plott2, aes(x = log_mean_aFC, y = Beta)) + geom_point() + geom_hline(yintercept = 0, linetype = \"dashed\") +\n",
    "  geom_vline(xintercept = 0, linetype = \"dashed\")\n",
    "pl\n",
    "##### mostly in same dir, but some in dif\n",
    "#our_eqtls"
   ]
  },
  {
   "cell_type": "code",
   "execution_count": 39,
   "metadata": {},
   "outputs": [
    {
     "data": {
      "text/html": [
       "<table class=\"dataframe\">\n",
       "<caption>A data.table: 29 × 7</caption>\n",
       "<thead>\n",
       "\t<tr><th scope=col>BaseQTL_SNP_hg19</th><th scope=col>direction_eQTLvsLooping</th><th scope=col>direction_new_eQTLvsLooping</th><th scope=col>new_beta</th><th scope=col>log_mean_aFC</th><th scope=col>FDR</th><th scope=col>is_sig_fdr</th></tr>\n",
       "\t<tr><th scope=col>&lt;chr&gt;</th><th scope=col>&lt;chr&gt;</th><th scope=col>&lt;chr&gt;</th><th scope=col>&lt;dbl&gt;</th><th scope=col>&lt;dbl&gt;</th><th scope=col>&lt;dbl&gt;</th><th scope=col>&lt;lgl&gt;</th></tr>\n",
       "</thead>\n",
       "<tbody>\n",
       "\t<tr><td>10:129882640:A:G</td><td>same     </td><td>same     </td><td>-0.04417832</td><td>-0.3429079</td><td>8.099324e-01</td><td>FALSE</td></tr>\n",
       "\t<tr><td>10:30092300:C:T </td><td>same     </td><td>same     </td><td> 0.14060289</td><td> 0.9863521</td><td>1.757574e-02</td><td> TRUE</td></tr>\n",
       "\t<tr><td>13:33699297:G:A </td><td>same     </td><td>same     </td><td> 0.02332180</td><td> 0.4943636</td><td>9.559392e-01</td><td>FALSE</td></tr>\n",
       "\t<tr><td>14:24527672:G:A </td><td>different</td><td>different</td><td> 0.06821057</td><td>-0.7227610</td><td>3.222132e-01</td><td>FALSE</td></tr>\n",
       "\t<tr><td>14:90560777:T:C </td><td>different</td><td>same     </td><td> 0.06623619</td><td> 0.5761226</td><td>8.028724e-01</td><td>FALSE</td></tr>\n",
       "\t<tr><td>15:39598133:G:A </td><td>same     </td><td>same     </td><td> 0.16984536</td><td> 0.5097691</td><td>9.202223e-01</td><td>FALSE</td></tr>\n",
       "\t<tr><td>15:39598843:A:G </td><td>same     </td><td>same     </td><td> 0.16984536</td><td> 0.7408361</td><td>9.202223e-01</td><td>FALSE</td></tr>\n",
       "\t<tr><td>15:39599017:C:T </td><td>same     </td><td>same     </td><td> 0.16984536</td><td> 0.6865741</td><td>9.202223e-01</td><td>FALSE</td></tr>\n",
       "\t<tr><td>15:39602380:A:G </td><td>same     </td><td>same     </td><td> 0.16984536</td><td> 0.7208235</td><td>9.202223e-01</td><td>FALSE</td></tr>\n",
       "\t<tr><td>15:39606026:C:T </td><td>same     </td><td>same     </td><td> 0.16984536</td><td> 0.6081494</td><td>9.202223e-01</td><td>FALSE</td></tr>\n",
       "\t<tr><td>15:39606089:A:T </td><td>same     </td><td>same     </td><td> 0.16984536</td><td> 0.4556128</td><td>9.202223e-01</td><td>FALSE</td></tr>\n",
       "\t<tr><td>15:39607442:A:G </td><td>same     </td><td>same     </td><td> 0.22104536</td><td> 0.6932399</td><td>8.713441e-01</td><td>FALSE</td></tr>\n",
       "\t<tr><td>15:39607630:A:G </td><td>same     </td><td>same     </td><td> 0.22104536</td><td> 0.7490782</td><td>8.713441e-01</td><td>FALSE</td></tr>\n",
       "\t<tr><td>15:39607665:A:G </td><td>same     </td><td>same     </td><td> 0.22104536</td><td> 0.7070719</td><td>8.713441e-01</td><td>FALSE</td></tr>\n",
       "\t<tr><td>15:39608192:T:A </td><td>same     </td><td>same     </td><td> 0.22104536</td><td> 0.5748761</td><td>8.713441e-01</td><td>FALSE</td></tr>\n",
       "\t<tr><td>19:39936017:G:A </td><td>same     </td><td>different</td><td>-0.02283010</td><td> 0.4168863</td><td>9.494180e-01</td><td>FALSE</td></tr>\n",
       "\t<tr><td>19:54551115:G:T </td><td>same     </td><td>different</td><td> 0.01267087</td><td>-0.6040825</td><td>9.783908e-01</td><td>FALSE</td></tr>\n",
       "\t<tr><td>1:160136208:G:A </td><td>same     </td><td>same     </td><td>-0.02913382</td><td>-0.2711240</td><td>9.314621e-01</td><td>FALSE</td></tr>\n",
       "\t<tr><td>1:169200111:C:T </td><td>same     </td><td>same     </td><td>-0.08713651</td><td>-0.6182007</td><td>8.826180e-01</td><td>FALSE</td></tr>\n",
       "\t<tr><td>1:223350601:C:G </td><td>same     </td><td>same     </td><td>-0.04951091</td><td>-0.2803258</td><td>8.730669e-01</td><td>FALSE</td></tr>\n",
       "\t<tr><td>4:76816143:G:A  </td><td>same     </td><td>same     </td><td> 0.17309739</td><td> 0.3708849</td><td>8.874167e-05</td><td> TRUE</td></tr>\n",
       "\t<tr><td>4:76817412:G:A  </td><td>same     </td><td>same     </td><td> 0.17285137</td><td> 0.2695567</td><td>2.778656e-04</td><td> TRUE</td></tr>\n",
       "\t<tr><td>7:1210755:C:T   </td><td>different</td><td>same     </td><td>-0.03350691</td><td>-0.3801756</td><td>9.052542e-01</td><td>FALSE</td></tr>\n",
       "\t<tr><td>7:1210898:G:A   </td><td>different</td><td>same     </td><td>-0.04078862</td><td>-0.4176084</td><td>8.639835e-01</td><td>FALSE</td></tr>\n",
       "\t<tr><td>7:1210987:G:A   </td><td>different</td><td>same     </td><td>-0.03350691</td><td>-0.4000554</td><td>9.052542e-01</td><td>FALSE</td></tr>\n",
       "\t<tr><td>7:1211978:C:G   </td><td>different</td><td>same     </td><td>-0.03350691</td><td>-0.4177879</td><td>9.052542e-01</td><td>FALSE</td></tr>\n",
       "\t<tr><td>7:1212211:C:A   </td><td>different</td><td>same     </td><td>-0.04078862</td><td>-0.4133560</td><td>8.639835e-01</td><td>FALSE</td></tr>\n",
       "\t<tr><td>7:150477639:C:T </td><td>same     </td><td>same     </td><td>-1.64689309</td><td>-0.5372609</td><td>3.206071e-10</td><td> TRUE</td></tr>\n",
       "\t<tr><td>7:26135404:C:T  </td><td>same     </td><td>same     </td><td>-0.33148816</td><td>-0.3993956</td><td>2.928654e-04</td><td> TRUE</td></tr>\n",
       "</tbody>\n",
       "</table>\n"
      ],
      "text/latex": [
       "A data.table: 29 × 7\n",
       "\\begin{tabular}{lllllll}\n",
       " BaseQTL\\_SNP\\_hg19 & direction\\_eQTLvsLooping & direction\\_new\\_eQTLvsLooping & new\\_beta & log\\_mean\\_aFC & FDR & is\\_sig\\_fdr\\\\\n",
       " <chr> & <chr> & <chr> & <dbl> & <dbl> & <dbl> & <lgl>\\\\\n",
       "\\hline\n",
       "\t 10:129882640:A:G & same      & same      & -0.04417832 & -0.3429079 & 8.099324e-01 & FALSE\\\\\n",
       "\t 10:30092300:C:T  & same      & same      &  0.14060289 &  0.9863521 & 1.757574e-02 &  TRUE\\\\\n",
       "\t 13:33699297:G:A  & same      & same      &  0.02332180 &  0.4943636 & 9.559392e-01 & FALSE\\\\\n",
       "\t 14:24527672:G:A  & different & different &  0.06821057 & -0.7227610 & 3.222132e-01 & FALSE\\\\\n",
       "\t 14:90560777:T:C  & different & same      &  0.06623619 &  0.5761226 & 8.028724e-01 & FALSE\\\\\n",
       "\t 15:39598133:G:A  & same      & same      &  0.16984536 &  0.5097691 & 9.202223e-01 & FALSE\\\\\n",
       "\t 15:39598843:A:G  & same      & same      &  0.16984536 &  0.7408361 & 9.202223e-01 & FALSE\\\\\n",
       "\t 15:39599017:C:T  & same      & same      &  0.16984536 &  0.6865741 & 9.202223e-01 & FALSE\\\\\n",
       "\t 15:39602380:A:G  & same      & same      &  0.16984536 &  0.7208235 & 9.202223e-01 & FALSE\\\\\n",
       "\t 15:39606026:C:T  & same      & same      &  0.16984536 &  0.6081494 & 9.202223e-01 & FALSE\\\\\n",
       "\t 15:39606089:A:T  & same      & same      &  0.16984536 &  0.4556128 & 9.202223e-01 & FALSE\\\\\n",
       "\t 15:39607442:A:G  & same      & same      &  0.22104536 &  0.6932399 & 8.713441e-01 & FALSE\\\\\n",
       "\t 15:39607630:A:G  & same      & same      &  0.22104536 &  0.7490782 & 8.713441e-01 & FALSE\\\\\n",
       "\t 15:39607665:A:G  & same      & same      &  0.22104536 &  0.7070719 & 8.713441e-01 & FALSE\\\\\n",
       "\t 15:39608192:T:A  & same      & same      &  0.22104536 &  0.5748761 & 8.713441e-01 & FALSE\\\\\n",
       "\t 19:39936017:G:A  & same      & different & -0.02283010 &  0.4168863 & 9.494180e-01 & FALSE\\\\\n",
       "\t 19:54551115:G:T  & same      & different &  0.01267087 & -0.6040825 & 9.783908e-01 & FALSE\\\\\n",
       "\t 1:160136208:G:A  & same      & same      & -0.02913382 & -0.2711240 & 9.314621e-01 & FALSE\\\\\n",
       "\t 1:169200111:C:T  & same      & same      & -0.08713651 & -0.6182007 & 8.826180e-01 & FALSE\\\\\n",
       "\t 1:223350601:C:G  & same      & same      & -0.04951091 & -0.2803258 & 8.730669e-01 & FALSE\\\\\n",
       "\t 4:76816143:G:A   & same      & same      &  0.17309739 &  0.3708849 & 8.874167e-05 &  TRUE\\\\\n",
       "\t 4:76817412:G:A   & same      & same      &  0.17285137 &  0.2695567 & 2.778656e-04 &  TRUE\\\\\n",
       "\t 7:1210755:C:T    & different & same      & -0.03350691 & -0.3801756 & 9.052542e-01 & FALSE\\\\\n",
       "\t 7:1210898:G:A    & different & same      & -0.04078862 & -0.4176084 & 8.639835e-01 & FALSE\\\\\n",
       "\t 7:1210987:G:A    & different & same      & -0.03350691 & -0.4000554 & 9.052542e-01 & FALSE\\\\\n",
       "\t 7:1211978:C:G    & different & same      & -0.03350691 & -0.4177879 & 9.052542e-01 & FALSE\\\\\n",
       "\t 7:1212211:C:A    & different & same      & -0.04078862 & -0.4133560 & 8.639835e-01 & FALSE\\\\\n",
       "\t 7:150477639:C:T  & same      & same      & -1.64689309 & -0.5372609 & 3.206071e-10 &  TRUE\\\\\n",
       "\t 7:26135404:C:T   & same      & same      & -0.33148816 & -0.3993956 & 2.928654e-04 &  TRUE\\\\\n",
       "\\end{tabular}\n"
      ],
      "text/markdown": [
       "\n",
       "A data.table: 29 × 7\n",
       "\n",
       "| BaseQTL_SNP_hg19 &lt;chr&gt; | direction_eQTLvsLooping &lt;chr&gt; | direction_new_eQTLvsLooping &lt;chr&gt; | new_beta &lt;dbl&gt; | log_mean_aFC &lt;dbl&gt; | FDR &lt;dbl&gt; | is_sig_fdr &lt;lgl&gt; |\n",
       "|---|---|---|---|---|---|---|\n",
       "| 10:129882640:A:G | same      | same      | -0.04417832 | -0.3429079 | 8.099324e-01 | FALSE |\n",
       "| 10:30092300:C:T  | same      | same      |  0.14060289 |  0.9863521 | 1.757574e-02 |  TRUE |\n",
       "| 13:33699297:G:A  | same      | same      |  0.02332180 |  0.4943636 | 9.559392e-01 | FALSE |\n",
       "| 14:24527672:G:A  | different | different |  0.06821057 | -0.7227610 | 3.222132e-01 | FALSE |\n",
       "| 14:90560777:T:C  | different | same      |  0.06623619 |  0.5761226 | 8.028724e-01 | FALSE |\n",
       "| 15:39598133:G:A  | same      | same      |  0.16984536 |  0.5097691 | 9.202223e-01 | FALSE |\n",
       "| 15:39598843:A:G  | same      | same      |  0.16984536 |  0.7408361 | 9.202223e-01 | FALSE |\n",
       "| 15:39599017:C:T  | same      | same      |  0.16984536 |  0.6865741 | 9.202223e-01 | FALSE |\n",
       "| 15:39602380:A:G  | same      | same      |  0.16984536 |  0.7208235 | 9.202223e-01 | FALSE |\n",
       "| 15:39606026:C:T  | same      | same      |  0.16984536 |  0.6081494 | 9.202223e-01 | FALSE |\n",
       "| 15:39606089:A:T  | same      | same      |  0.16984536 |  0.4556128 | 9.202223e-01 | FALSE |\n",
       "| 15:39607442:A:G  | same      | same      |  0.22104536 |  0.6932399 | 8.713441e-01 | FALSE |\n",
       "| 15:39607630:A:G  | same      | same      |  0.22104536 |  0.7490782 | 8.713441e-01 | FALSE |\n",
       "| 15:39607665:A:G  | same      | same      |  0.22104536 |  0.7070719 | 8.713441e-01 | FALSE |\n",
       "| 15:39608192:T:A  | same      | same      |  0.22104536 |  0.5748761 | 8.713441e-01 | FALSE |\n",
       "| 19:39936017:G:A  | same      | different | -0.02283010 |  0.4168863 | 9.494180e-01 | FALSE |\n",
       "| 19:54551115:G:T  | same      | different |  0.01267087 | -0.6040825 | 9.783908e-01 | FALSE |\n",
       "| 1:160136208:G:A  | same      | same      | -0.02913382 | -0.2711240 | 9.314621e-01 | FALSE |\n",
       "| 1:169200111:C:T  | same      | same      | -0.08713651 | -0.6182007 | 8.826180e-01 | FALSE |\n",
       "| 1:223350601:C:G  | same      | same      | -0.04951091 | -0.2803258 | 8.730669e-01 | FALSE |\n",
       "| 4:76816143:G:A   | same      | same      |  0.17309739 |  0.3708849 | 8.874167e-05 |  TRUE |\n",
       "| 4:76817412:G:A   | same      | same      |  0.17285137 |  0.2695567 | 2.778656e-04 |  TRUE |\n",
       "| 7:1210755:C:T    | different | same      | -0.03350691 | -0.3801756 | 9.052542e-01 | FALSE |\n",
       "| 7:1210898:G:A    | different | same      | -0.04078862 | -0.4176084 | 8.639835e-01 | FALSE |\n",
       "| 7:1210987:G:A    | different | same      | -0.03350691 | -0.4000554 | 9.052542e-01 | FALSE |\n",
       "| 7:1211978:C:G    | different | same      | -0.03350691 | -0.4177879 | 9.052542e-01 | FALSE |\n",
       "| 7:1212211:C:A    | different | same      | -0.04078862 | -0.4133560 | 8.639835e-01 | FALSE |\n",
       "| 7:150477639:C:T  | same      | same      | -1.64689309 | -0.5372609 | 3.206071e-10 |  TRUE |\n",
       "| 7:26135404:C:T   | same      | same      | -0.33148816 | -0.3993956 | 2.928654e-04 |  TRUE |\n",
       "\n"
      ],
      "text/plain": [
       "   BaseQTL_SNP_hg19 direction_eQTLvsLooping direction_new_eQTLvsLooping\n",
       "1  10:129882640:A:G same                    same                       \n",
       "2  10:30092300:C:T  same                    same                       \n",
       "3  13:33699297:G:A  same                    same                       \n",
       "4  14:24527672:G:A  different               different                  \n",
       "5  14:90560777:T:C  different               same                       \n",
       "6  15:39598133:G:A  same                    same                       \n",
       "7  15:39598843:A:G  same                    same                       \n",
       "8  15:39599017:C:T  same                    same                       \n",
       "9  15:39602380:A:G  same                    same                       \n",
       "10 15:39606026:C:T  same                    same                       \n",
       "11 15:39606089:A:T  same                    same                       \n",
       "12 15:39607442:A:G  same                    same                       \n",
       "13 15:39607630:A:G  same                    same                       \n",
       "14 15:39607665:A:G  same                    same                       \n",
       "15 15:39608192:T:A  same                    same                       \n",
       "16 19:39936017:G:A  same                    different                  \n",
       "17 19:54551115:G:T  same                    different                  \n",
       "18 1:160136208:G:A  same                    same                       \n",
       "19 1:169200111:C:T  same                    same                       \n",
       "20 1:223350601:C:G  same                    same                       \n",
       "21 4:76816143:G:A   same                    same                       \n",
       "22 4:76817412:G:A   same                    same                       \n",
       "23 7:1210755:C:T    different               same                       \n",
       "24 7:1210898:G:A    different               same                       \n",
       "25 7:1210987:G:A    different               same                       \n",
       "26 7:1211978:C:G    different               same                       \n",
       "27 7:1212211:C:A    different               same                       \n",
       "28 7:150477639:C:T  same                    same                       \n",
       "29 7:26135404:C:T   same                    same                       \n",
       "   new_beta    log_mean_aFC FDR          is_sig_fdr\n",
       "1  -0.04417832 -0.3429079   8.099324e-01 FALSE     \n",
       "2   0.14060289  0.9863521   1.757574e-02  TRUE     \n",
       "3   0.02332180  0.4943636   9.559392e-01 FALSE     \n",
       "4   0.06821057 -0.7227610   3.222132e-01 FALSE     \n",
       "5   0.06623619  0.5761226   8.028724e-01 FALSE     \n",
       "6   0.16984536  0.5097691   9.202223e-01 FALSE     \n",
       "7   0.16984536  0.7408361   9.202223e-01 FALSE     \n",
       "8   0.16984536  0.6865741   9.202223e-01 FALSE     \n",
       "9   0.16984536  0.7208235   9.202223e-01 FALSE     \n",
       "10  0.16984536  0.6081494   9.202223e-01 FALSE     \n",
       "11  0.16984536  0.4556128   9.202223e-01 FALSE     \n",
       "12  0.22104536  0.6932399   8.713441e-01 FALSE     \n",
       "13  0.22104536  0.7490782   8.713441e-01 FALSE     \n",
       "14  0.22104536  0.7070719   8.713441e-01 FALSE     \n",
       "15  0.22104536  0.5748761   8.713441e-01 FALSE     \n",
       "16 -0.02283010  0.4168863   9.494180e-01 FALSE     \n",
       "17  0.01267087 -0.6040825   9.783908e-01 FALSE     \n",
       "18 -0.02913382 -0.2711240   9.314621e-01 FALSE     \n",
       "19 -0.08713651 -0.6182007   8.826180e-01 FALSE     \n",
       "20 -0.04951091 -0.2803258   8.730669e-01 FALSE     \n",
       "21  0.17309739  0.3708849   8.874167e-05  TRUE     \n",
       "22  0.17285137  0.2695567   2.778656e-04  TRUE     \n",
       "23 -0.03350691 -0.3801756   9.052542e-01 FALSE     \n",
       "24 -0.04078862 -0.4176084   8.639835e-01 FALSE     \n",
       "25 -0.03350691 -0.4000554   9.052542e-01 FALSE     \n",
       "26 -0.03350691 -0.4177879   9.052542e-01 FALSE     \n",
       "27 -0.04078862 -0.4133560   8.639835e-01 FALSE     \n",
       "28 -1.64689309 -0.5372609   3.206071e-10  TRUE     \n",
       "29 -0.33148816 -0.3993956   2.928654e-04  TRUE     "
      ]
     },
     "metadata": {},
     "output_type": "display_data"
    },
    {
     "data": {
      "image/png": "[encoded data removed]",
      "text/plain": [
       "plot without title"
      ]
     },
     "metadata": {
      "image/png": {
       "height": 420,
       "width": 420
      }
     },
     "output_type": "display_data"
    }
   ],
   "source": [
    "# How are they in our \"new\" eQTL study? (has new_eQTL_beta_wrt_ALT)\n",
    "setnames(our_eqtls, \"beta\", \"new_beta\", skip_absent=TRUE)\n",
    "\n",
    "setkey(our_eqtls, SNP, ensembl_gid)\n",
    "sig_wSNPs_our_eqtls <- resprox_dpn[our_eqtls, on = c(BaseQTL_SNP_hg19 = \"SNP\", ENSG_ID = \"ensembl_gid\"), nomatch = NULL]\n",
    "sig_wSNPs_our_eqtls[log_mean_aFC < 0 & new_beta < 0, direction_new_eQTLvsLooping := \"same\"]\n",
    "sig_wSNPs_our_eqtls[log_mean_aFC > 0 & new_beta > 0, direction_new_eQTLvsLooping := \"same\"]\n",
    "sig_wSNPs_our_eqtls[log_mean_aFC < 0 & new_beta > 0, direction_new_eQTLvsLooping := \"different\"]\n",
    "sig_wSNPs_our_eqtls[log_mean_aFC > 0 & new_beta < 0, direction_new_eQTLvsLooping := \"different\"]\n",
    "simp <- unique(sig_wSNPs_our_eqtls[, .(BaseQTL_SNP_hg19, direction_eQTLvsLooping, direction_new_eQTLvsLooping, new_beta, log_mean_aFC, FDR)])\n",
    "simp[, is_sig_fdr := FDR < 0.05]\n",
    "\n",
    "simp # \n",
    "\n",
    "\n",
    "#### plot the betas instead. \n",
    "plott3 <- unique(sig_wSNPs_our_eqtls [, .(rsid, log_mean_aFC, new_beta)])\n",
    "pl <- ggplot(plott3, aes(x = log_mean_aFC, y = new_beta)) + geom_point() + geom_hline(yintercept = 0, linetype = \"dashed\") +\n",
    "  geom_vline(xintercept = 0, linetype = \"dashed\")\n",
    "pl\n",
    "\n",
    "###### "
   ]
  },
  {
   "cell_type": "code",
   "execution_count": 8,
   "metadata": {},
   "outputs": [
    {
     "name": "stderr",
     "output_type": "stream",
     "text": [
      "Warning message in min(SNP_at_dist, na.rm = T):\n",
      "“no non-missing arguments to min; returning Inf”\n",
      "Warning message in min(SNP_at_dist, na.rm = T):\n",
      "“no non-missing arguments to min; returning Inf”\n"
     ]
    }
   ],
   "source": [
    "#### To make some sense of the significant looping proxies, make a table of overlaps with other features.\n",
    "#### NOW - integrating Blueprint histone modifications.\n",
    "#### Just keep Vosa direction.\n",
    "### simplify the sig looping table, with new eQTL betas. Include all SNPs that went into the looping analysis.}\n",
    "\n",
    "#chic_at_LD_tab_small2 has DpnII IDs and the chic data already overlapped with ATAC seq.\n",
    "\n",
    "## Take only ATAC peaks within 5kb and then take the closest.\n",
    "at_chic_rna1 <- copy(chic_at_LD_tab_small2)\n",
    "# OR:\n",
    "#at_chic_rna1 <- fread(\"./AT_CHiC_with_LD_SNPs_and_MikBetas_Signif99.txt\")\n",
    "\n",
    "at_chic_rna1[, hg38Proxy_pos := tstrsplit(hrc_hg38Proxy_ID, split = \":\", keep = 2, type.convert = T)]\n",
    "at_chic_rna1[, at_featStart := as.numeric(at_featStart)]\n",
    "at_chic_rna1[, at_featEnd := as.numeric(at_featEnd)]\n",
    "at_chic_rna1[, at_mid := at_featStart+(at_featEnd-at_featStart)/2]\n",
    "at_chic_rna1[, SNP_at_dist := abs(at_mid-hg38Proxy_pos)]\n",
    "\n",
    "at_chic_rna <- as.data.table(at_chic_rna1 %>% group_by(BaseQTL_SNP_hg19) %>%\n",
    "                                      mutate(closest_atPeak = min(SNP_at_dist, na.rm = T))) # mutate, not summarize\n",
    "#unique(at_chic_rna[Gene == \"NAAA\", .(at_mid, hg38Proxy_pos, closest_atPeak)])\n",
    "\n",
    "at_chic_rna[SNP_at_dist <= 5000 & closest_atPeak == SNP_at_dist, closest_at_log_aFC := mean(at_log_mean_aFC), by = rsid] # take the mean for all SNP assopciations in LD for that peak\n",
    "#at_chic_rna[Gene == \"NAAA\"]\n",
    "#unique(at_chic_rna[Gene == \"C7orf50\", .(rsid, chic_log_mean_aFC, at_log_mean_aFC, closest_at_log_aFC)])\n",
    "#unique(at_chic_rna[Gene == \"THBS1\", .(at_featStart)])\n",
    "#str(at_chic_rna)"
   ]
  },
  {
   "cell_type": "code",
   "execution_count": 9,
   "metadata": {},
   "outputs": [],
   "source": [
    "# Continue, making ATAC and RNA beta relative to chic\n",
    "at_chic_rna[, c(\"Chr\", \"hg19Proxy_pos\") := tstrsplit(hg19Proxy_ID, split = \":\", keep = c(1,2))]\n",
    "###################################################################\n",
    "at_chic_rna[Gene == \"KCNK13\", relative_Gene_Expression_Beta := 0.41]\n",
    "###################################################################\n",
    "setnames(at_chic_rna, c(\"BaseQTL_SNP_hg19\", \"Beta\"), c(\"BaseQTL_hg19Proxy_ID\", \"Gene_Expression_Beta\"))\n",
    "at_chic_rna[, BaseQTL_feature := paste(BaseQTL_hg19Proxy_ID, ENSG_ID, Gene, sep = \"_\")]\n",
    "at_chic_rna[, abs_chic_log_mean_aFC := abs(chic_log_mean_aFC)]\n",
    "at_chic_rna[chic_log_mean_aFC > 0, relative_abs_ATAC_mean_aFC := closest_at_log_aFC]\n",
    "at_chic_rna[chic_log_mean_aFC < 0, relative_abs_ATAC_mean_aFC := 0-closest_at_log_aFC]\n",
    "at_chic_rna[chic_log_mean_aFC > 0, relative_Gene_Expression_Beta := Gene_Expression_Beta]\n",
    "at_chic_rna[chic_log_mean_aFC < 0, relative_Gene_Expression_Beta := 0-Gene_Expression_Beta]\n",
    "\n",
    "###R Check against EGA results}\n",
    "### Read in data from Blueprint WP10 Phase 2\n",
    "## EGAF00002542662 mono psiQTL\n",
    "## EGAF00002542667 mono K27ac\n",
    "## EGAF00002542671 mono eQTL\n",
    "## EGAF00002542672 mono meth\n",
    "## EGAF00002542676 mono K4me1\n",
    "# Note that the SNP positions are in hg19 assembley.\n",
    "\n",
    "# Make a function for joining with EGA files. Now joining on the SNPs in LD: based on chr:position\n",
    "join_ega <- function(loopQTLs, EGAQTLs) {\n",
    "  # get only significant QTLs and get chr/hg19pos\n",
    "  #sig_ega <- EGAQTLs[Bonferroni.p < 0.05] # Actually, just try with all top associations\n",
    "  EGAQTLs[, c(\"Chr\", \"to_sep\") := tstrsplit(chr.pos_ref_alt, split = \":\", fixed = TRUE)]\n",
    "  EGAQTLs[, c(\"hg19Proxy_pos\", \"REF\", \"ALT\") := tstrsplit(to_sep, split = \"_\", fixed = TRUE)]\n",
    "  ega_short <- EGAQTLs[, .(Chr, hg19Proxy_pos, chr.pos_ref_alt, phenotypeID, beta, Bonferroni.p)]\n",
    "  # Make a column showing the direction of effect\n",
    "  ega_short[beta < 0, ALTeffect := \"minus\"][beta > 0, ALTeffect := \"plus\"]\n",
    "    \n",
    "  #ega_short[, beta := NULL]\n",
    "  # Make the col names unique to that phenotype\n",
    "  pheno_name <- deparse(substitute(EGAQTLs))\n",
    "  new_snp_name <- paste(pheno_name, \"SNP\", sep = \"_\")\n",
    "  new_pheno_ID <- paste(pheno_name, \"phenotypeID\", sep = \"_\")\n",
    "  new_beta <- paste(pheno_name, \"beta\", sep = \"_\")\n",
    "  new_bonferroni <- paste(pheno_name, \"Bonferroni.p\", sep = \"_\")\n",
    "  new_ALTeffect <- paste(pheno_name, \"ALTeffect\", sep = \"_\")\n",
    "  setnames(ega_short, c(\"beta\", \"chr.pos_ref_alt\", \"phenotypeID\", \"ALTeffect\", \"Bonferroni.p\"), c(new_beta, new_snp_name, new_pheno_ID, new_ALTeffect, new_bonferroni))\n",
    "  \n",
    "  # Join with loopingQTLs based on Chr and hg19 pos\n",
    "  # The caveat is that the alleles may not match between cohorts. Check the \"SNP\" column for this.\n",
    "  joined <- ega_short[loopQTLs, on = c(\"Chr\", \"hg19Proxy_pos\")]\n",
    "  return(joined)\n",
    "}"
   ]
  },
  {
   "cell_type": "code",
   "execution_count": 10,
   "metadata": {},
   "outputs": [],
   "source": [
    "### H3K27ac\n",
    "h3k27ac <- fread(\"~/spivakov/EGA/EGAD00001005200/EGAF00002542667/mono_K27AC_log2rpm_31052017_bedmap_peer_10_summary.Beta_changed.SE.Eigen.pval.txt\")\n",
    "prox_27ac <- join_ega(at_chic_rna, h3k27ac) # Three significant looping loci (7 snps) are also H3K27ac SNPs!\n",
    "prox_27ac[is.na(h3k27ac_ALTeffect), h3k27ac_ALTeffect := \"none\"]\n",
    "\n",
    "###"
   ]
  },
  {
   "cell_type": "code",
   "execution_count": 12,
   "metadata": {},
   "outputs": [],
   "source": [
    "### H3K4me1\n",
    "h3k4me1 <- fread(\"~/spivakov/EGA/EGAD00001005200/EGAF00002542676/mono_K4ME1_log2rpm_31052017_bedmap_peer_10_summary.Beta_changed.SE.Eigen.pval.txt\")\n",
    "prox_27ac_me1 <- join_ega(prox_27ac, h3k4me1) # Two looping SNPs are also H3K4me1 QTLs and also are H3K27ac QTLs. mostly all plus. \n",
    "prox_27ac_me1[is.na(h3k4me1_ALTeffect), h3k4me1_ALTeffect := \"none\"]\n",
    "\n",
    "write.table(prox_27ac_me1, file = \"~/HRJ_monocytes/BaseQTL/findings_round2_dpnIICorrection/blueprint_table_27ac_me1_sig99_LD.txt\", sep = \"\\t\", quote = FALSE, row.names = FALSE, col.names = TRUE)\n",
    "\n",
    "###\n",
    "#str(prox_27ac_me1)"
   ]
  },
  {
   "cell_type": "code",
   "execution_count": 8,
   "metadata": {},
   "outputs": [
    {
     "name": "stderr",
     "output_type": "stream",
     "text": [
      "Warning message:\n",
      "“package ‘pheatmap’ was built under R version 4.1.3”\n"
     ]
    },
    {
     "data": {
      "image/png": "[encoded data removed]",
      "text/plain": [
       "plot without title"
      ]
     },
     "metadata": {
      "image/png": {
       "height": 420,
       "width": 420
      }
     },
     "output_type": "display_data"
    }
   ],
   "source": [
    "###### CAN GO FROM HERE\n",
    "### first, draw a heatmap for everything and see if there are any opposing effects within the histone modifications\n",
    "library(pheatmap)\n",
    "library(RColorBrewer)\n",
    "library(data.table)\n",
    "library(dplyr)\n",
    "\n",
    "setwd(\"~/HRJ_monocytes/BaseQTL/findings_round2_dpnIICorrection/\")\n",
    "\n",
    "prox_27ac_me1 <- fread(\"~/HRJ_monocytes/BaseQTL/findings_round2_dpnIICorrection/blueprint_table_27ac_me1_sig99_LD.txt\")\n",
    "# make DpnII fragment starts unique (there are two starts the same, on different chromosomes)\n",
    "prox_27ac_me1[, hg38Dpn_start := paste(Chr, hg38Dpn_start, sep = \"_\")]\n",
    "\n",
    "## Normalise everything to the chic beta\n",
    "prox_27ac_me1[chic_log_mean_aFC > 0, relative_h3k27ac_beta := h3k27ac_beta]\n",
    "prox_27ac_me1[chic_log_mean_aFC < 0, relative_h3k27ac_beta := 0-h3k27ac_beta]\n",
    "prox_27ac_me1[chic_log_mean_aFC > 0, relative_h3k4me1_beta := h3k4me1_beta]\n",
    "prox_27ac_me1[chic_log_mean_aFC < 0, relative_h3k4me1_beta := 0-h3k4me1_beta]\n",
    "\n",
    "matrix_prep <- copy(prox_27ac_me1)\n",
    "### Heatmap is better?\n",
    "matrix_prep[, ID := paste(rsid, Gene, sep = \"_\")]\n",
    "matrix_prep[, proxID := rownames(matrix_prep)]\n",
    "\n",
    "mat <- as.data.frame(matrix_prep[, .(proxID, abs_chic_log_mean_aFC, relative_abs_ATAC_mean_aFC, relative_Gene_Expression_Beta, relative_h3k27ac_beta, relative_h3k4me1_beta)])\n",
    "rownames(mat) <- mat[,1]\n",
    "mat2 <- mat[ -c(1) ]\n",
    "\n",
    "# make sure center is at zero\n",
    "paletteLength <- 50\n",
    "myColor <- colorRampPalette(c(\"#0072B2\", \"white\", \"orangered3\"))(paletteLength)\n",
    "# length(breaks) == length(paletteLength) + 1\n",
    "# use floor and ceiling to deal with even/odd length pallettelengths\n",
    "myBreaks <- c(seq(min(mat2, na.rm=T), 0, length.out=ceiling(paletteLength/2) + 1), \n",
    "              seq(max(mat2, na.rm=T)/paletteLength, max(mat2, na.rm=T), length.out=floor(paletteLength/2)))\n",
    "\n",
    "\n",
    "pheatmap(mat2, cluster_rows = TRUE, cluster_cols = F, color = myColor, breaks=myBreaks)"
   ]
  },
  {
   "cell_type": "code",
   "execution_count": 9,
   "metadata": {},
   "outputs": [
    {
     "name": "stderr",
     "output_type": "stream",
     "text": [
      "Warning message in min(SNP_27ac_dist, na.rm = T):\n",
      "“no non-missing arguments to min; returning Inf”\n",
      "Warning message in min(SNP_27ac_dist, na.rm = T):\n",
      "“no non-missing arguments to min; returning Inf”\n",
      "Warning message in min(SNP_me1_dist, na.rm = T):\n",
      "“no non-missing arguments to min; returning Inf”\n",
      "Warning message in min(SNP_me1_dist, na.rm = T):\n",
      "“no non-missing arguments to min; returning Inf”\n",
      "Warning message in min(SNP_me1_dist, na.rm = T):\n",
      "“no non-missing arguments to min; returning Inf”\n",
      "Warning message in min(SNP_me1_dist, na.rm = T):\n",
      "“no non-missing arguments to min; returning Inf”\n",
      "Warning message in min(SNP_me1_dist, na.rm = T):\n",
      "“no non-missing arguments to min; returning Inf”\n",
      "Warning message in min(SNP_me1_dist, na.rm = T):\n",
      "“no non-missing arguments to min; returning Inf”\n",
      "Warning message:\n",
      "“\u001b[1m\u001b[22m`summarise_each_()` was deprecated in dplyr 0.7.0.\n",
      "\u001b[36mℹ\u001b[39m Please use `across()` instead.\n",
      "\u001b[36mℹ\u001b[39m The deprecated feature was likely used in the \u001b[34mdplyr\u001b[39m package.\n",
      "  Please report the issue at \u001b[3m\u001b[34m<https://github.com/tidyverse/dplyr/issues>\u001b[39m\u001b[23m.”\n",
      "Warning message:\n",
      "“\u001b[1m\u001b[22m`funs()` was deprecated in dplyr 0.8.0.\n",
      "\u001b[36mℹ\u001b[39m Please use a list of either functions or lambdas:\n",
      "\n",
      "# Simple named list: list(mean = mean, median = median)\n",
      "\n",
      "# Auto named with `tibble::lst()`: tibble::lst(mean, median)\n",
      "\n",
      "# Using lambdas list(~ mean(., trim = .2), ~ median(., na.rm = TRUE))”\n"
     ]
    },
    {
     "data": {
      "text/html": [
       "<table class=\"dataframe\">\n",
       "<caption>A data.table: 19 × 7</caption>\n",
       "<thead>\n",
       "\t<tr><th scope=col>ID</th><th scope=col>hg38Dpn_start</th><th scope=col>abs_chic_log_mean_aFC</th><th scope=col>relative_abs_ATAC_mean_aFC</th><th scope=col>relative_Gene_Expression_Beta</th><th scope=col>closest_relative_h3k27ac_beta</th><th scope=col>closest_relative_h3k4me1_beta</th></tr>\n",
       "\t<tr><th scope=col>&lt;chr&gt;</th><th scope=col>&lt;chr&gt;</th><th scope=col>&lt;dbl&gt;</th><th scope=col>&lt;dbl&gt;</th><th scope=col>&lt;dbl&gt;</th><th scope=col>&lt;dbl&gt;</th><th scope=col>&lt;dbl&gt;</th></tr>\n",
       "</thead>\n",
       "<tbody>\n",
       "\t<tr><td>rs13150842_NAAA  </td><td>4_75894747  </td><td>1.4835395</td><td>0.0000000</td><td> 0.94969145</td><td>0.000000</td><td>2.596098</td></tr>\n",
       "\t<tr><td>rs11731367_NAAA  </td><td>4_75896038  </td><td>2.1564535</td><td>2.3941331</td><td> 1.89938289</td><td>2.706474</td><td>2.596098</td></tr>\n",
       "\t<tr><td>rs7798572_C7orf50</td><td>7_1171069   </td><td>0.7603511</td><td>0.3645636</td><td>-0.11534927</td><td>0.000000</td><td>0.000000</td></tr>\n",
       "\t<tr><td>rs7784502_C7orf50</td><td>7_1171069   </td><td>0.8352169</td><td>0.3645636</td><td>-0.11534927</td><td>0.000000</td><td>0.000000</td></tr>\n",
       "\t<tr><td>rs2960849_C7orf50</td><td>7_1171069   </td><td>0.8355758</td><td>0.3645636</td><td>-0.11534927</td><td>0.000000</td><td>0.000000</td></tr>\n",
       "\t<tr><td>rs2960848_C7orf50</td><td>7_1171069   </td><td>0.8267120</td><td>0.3645636</td><td>-0.11534927</td><td>0.000000</td><td>0.000000</td></tr>\n",
       "\t<tr><td>rs35257100_NFE2L3</td><td>7_26095447  </td><td>1.5975826</td><td>1.1094288</td><td> 2.93967167</td><td>2.936485</td><td>1.488365</td></tr>\n",
       "\t<tr><td>rs3006562_SVIL   </td><td>10_29802980 </td><td>4.9317607</td><td>4.8123701</td><td> 0.83990252</td><td>2.559730</td><td>2.646320</td></tr>\n",
       "\t<tr><td>rs4568912_PTPRE  </td><td>10_128084364</td><td>0.3429079</td><td>0.0000000</td><td> 0.04662117</td><td>0.000000</td><td>0.000000</td></tr>\n",
       "\t<tr><td>rs7146599_PCK2   </td><td>14_24058261 </td><td>1.4455221</td><td>0.0000000</td><td>-0.20749617</td><td>0.000000</td><td>0.000000</td></tr>\n",
       "\t<tr><td>rs1152443_KCNK13 </td><td>14_90094012 </td><td>2.3044905</td><td>4.9147499</td><td>-0.47924819</td><td>1.169802</td><td>2.625570</td></tr>\n",
       "\t<tr><td>rs4429266_THBS1  </td><td>15_39306545 </td><td>1.4816722</td><td>0.0000000</td><td> 2.09641536</td><td>0.000000</td><td>0.987480</td></tr>\n",
       "\t<tr><td>rs1530219_THBS1  </td><td>15_39309938 </td><td>2.1624705</td><td>0.0000000</td><td> 3.14462304</td><td>1.068072</td><td>0.987480</td></tr>\n",
       "\t<tr><td>rs998005_THBS1   </td><td>15_39313720 </td><td>2.4325974</td><td>0.5112909</td><td> 4.19283072</td><td>1.068072</td><td>0.987480</td></tr>\n",
       "\t<tr><td>rs1354596_THBS1  </td><td>15_39313720 </td><td>1.8224512</td><td>0.5112909</td><td> 4.19283072</td><td>1.068072</td><td>0.987480</td></tr>\n",
       "\t<tr><td>rs2033937_THBS1  </td><td>15_39315234 </td><td>2.7729596</td><td>0.5112909</td><td> 4.19283072</td><td>1.068072</td><td>0.987480</td></tr>\n",
       "\t<tr><td>rs894043_THBS1   </td><td>15_39315234 </td><td>2.9963128</td><td>0.5112909</td><td> 4.19283072</td><td>1.068072</td><td>0.987480</td></tr>\n",
       "\t<tr><td>rs894042_THBS1   </td><td>15_39315234 </td><td>2.8282875</td><td>0.5112909</td><td> 4.19283072</td><td>1.068072</td><td>0.987480</td></tr>\n",
       "\t<tr><td>rs10415777_TFPT  </td><td>19_54047847 </td><td>1.8122475</td><td>1.7043156</td><td> 0.19823472</td><td>1.185182</td><td>0.000000</td></tr>\n",
       "</tbody>\n",
       "</table>\n"
      ],
      "text/latex": [
       "A data.table: 19 × 7\n",
       "\\begin{tabular}{lllllll}\n",
       " ID & hg38Dpn\\_start & abs\\_chic\\_log\\_mean\\_aFC & relative\\_abs\\_ATAC\\_mean\\_aFC & relative\\_Gene\\_Expression\\_Beta & closest\\_relative\\_h3k27ac\\_beta & closest\\_relative\\_h3k4me1\\_beta\\\\\n",
       " <chr> & <chr> & <dbl> & <dbl> & <dbl> & <dbl> & <dbl>\\\\\n",
       "\\hline\n",
       "\t rs13150842\\_NAAA   & 4\\_75894747   & 1.4835395 & 0.0000000 &  0.94969145 & 0.000000 & 2.596098\\\\\n",
       "\t rs11731367\\_NAAA   & 4\\_75896038   & 2.1564535 & 2.3941331 &  1.89938289 & 2.706474 & 2.596098\\\\\n",
       "\t rs7798572\\_C7orf50 & 7\\_1171069    & 0.7603511 & 0.3645636 & -0.11534927 & 0.000000 & 0.000000\\\\\n",
       "\t rs7784502\\_C7orf50 & 7\\_1171069    & 0.8352169 & 0.3645636 & -0.11534927 & 0.000000 & 0.000000\\\\\n",
       "\t rs2960849\\_C7orf50 & 7\\_1171069    & 0.8355758 & 0.3645636 & -0.11534927 & 0.000000 & 0.000000\\\\\n",
       "\t rs2960848\\_C7orf50 & 7\\_1171069    & 0.8267120 & 0.3645636 & -0.11534927 & 0.000000 & 0.000000\\\\\n",
       "\t rs35257100\\_NFE2L3 & 7\\_26095447   & 1.5975826 & 1.1094288 &  2.93967167 & 2.936485 & 1.488365\\\\\n",
       "\t rs3006562\\_SVIL    & 10\\_29802980  & 4.9317607 & 4.8123701 &  0.83990252 & 2.559730 & 2.646320\\\\\n",
       "\t rs4568912\\_PTPRE   & 10\\_128084364 & 0.3429079 & 0.0000000 &  0.04662117 & 0.000000 & 0.000000\\\\\n",
       "\t rs7146599\\_PCK2    & 14\\_24058261  & 1.4455221 & 0.0000000 & -0.20749617 & 0.000000 & 0.000000\\\\\n",
       "\t rs1152443\\_KCNK13  & 14\\_90094012  & 2.3044905 & 4.9147499 & -0.47924819 & 1.169802 & 2.625570\\\\\n",
       "\t rs4429266\\_THBS1   & 15\\_39306545  & 1.4816722 & 0.0000000 &  2.09641536 & 0.000000 & 0.987480\\\\\n",
       "\t rs1530219\\_THBS1   & 15\\_39309938  & 2.1624705 & 0.0000000 &  3.14462304 & 1.068072 & 0.987480\\\\\n",
       "\t rs998005\\_THBS1    & 15\\_39313720  & 2.4325974 & 0.5112909 &  4.19283072 & 1.068072 & 0.987480\\\\\n",
       "\t rs1354596\\_THBS1   & 15\\_39313720  & 1.8224512 & 0.5112909 &  4.19283072 & 1.068072 & 0.987480\\\\\n",
       "\t rs2033937\\_THBS1   & 15\\_39315234  & 2.7729596 & 0.5112909 &  4.19283072 & 1.068072 & 0.987480\\\\\n",
       "\t rs894043\\_THBS1    & 15\\_39315234  & 2.9963128 & 0.5112909 &  4.19283072 & 1.068072 & 0.987480\\\\\n",
       "\t rs894042\\_THBS1    & 15\\_39315234  & 2.8282875 & 0.5112909 &  4.19283072 & 1.068072 & 0.987480\\\\\n",
       "\t rs10415777\\_TFPT   & 19\\_54047847  & 1.8122475 & 1.7043156 &  0.19823472 & 1.185182 & 0.000000\\\\\n",
       "\\end{tabular}\n"
      ],
      "text/markdown": [
       "\n",
       "A data.table: 19 × 7\n",
       "\n",
       "| ID &lt;chr&gt; | hg38Dpn_start &lt;chr&gt; | abs_chic_log_mean_aFC &lt;dbl&gt; | relative_abs_ATAC_mean_aFC &lt;dbl&gt; | relative_Gene_Expression_Beta &lt;dbl&gt; | closest_relative_h3k27ac_beta &lt;dbl&gt; | closest_relative_h3k4me1_beta &lt;dbl&gt; |\n",
       "|---|---|---|---|---|---|---|\n",
       "| rs13150842_NAAA   | 4_75894747   | 1.4835395 | 0.0000000 |  0.94969145 | 0.000000 | 2.596098 |\n",
       "| rs11731367_NAAA   | 4_75896038   | 2.1564535 | 2.3941331 |  1.89938289 | 2.706474 | 2.596098 |\n",
       "| rs7798572_C7orf50 | 7_1171069    | 0.7603511 | 0.3645636 | -0.11534927 | 0.000000 | 0.000000 |\n",
       "| rs7784502_C7orf50 | 7_1171069    | 0.8352169 | 0.3645636 | -0.11534927 | 0.000000 | 0.000000 |\n",
       "| rs2960849_C7orf50 | 7_1171069    | 0.8355758 | 0.3645636 | -0.11534927 | 0.000000 | 0.000000 |\n",
       "| rs2960848_C7orf50 | 7_1171069    | 0.8267120 | 0.3645636 | -0.11534927 | 0.000000 | 0.000000 |\n",
       "| rs35257100_NFE2L3 | 7_26095447   | 1.5975826 | 1.1094288 |  2.93967167 | 2.936485 | 1.488365 |\n",
       "| rs3006562_SVIL    | 10_29802980  | 4.9317607 | 4.8123701 |  0.83990252 | 2.559730 | 2.646320 |\n",
       "| rs4568912_PTPRE   | 10_128084364 | 0.3429079 | 0.0000000 |  0.04662117 | 0.000000 | 0.000000 |\n",
       "| rs7146599_PCK2    | 14_24058261  | 1.4455221 | 0.0000000 | -0.20749617 | 0.000000 | 0.000000 |\n",
       "| rs1152443_KCNK13  | 14_90094012  | 2.3044905 | 4.9147499 | -0.47924819 | 1.169802 | 2.625570 |\n",
       "| rs4429266_THBS1   | 15_39306545  | 1.4816722 | 0.0000000 |  2.09641536 | 0.000000 | 0.987480 |\n",
       "| rs1530219_THBS1   | 15_39309938  | 2.1624705 | 0.0000000 |  3.14462304 | 1.068072 | 0.987480 |\n",
       "| rs998005_THBS1    | 15_39313720  | 2.4325974 | 0.5112909 |  4.19283072 | 1.068072 | 0.987480 |\n",
       "| rs1354596_THBS1   | 15_39313720  | 1.8224512 | 0.5112909 |  4.19283072 | 1.068072 | 0.987480 |\n",
       "| rs2033937_THBS1   | 15_39315234  | 2.7729596 | 0.5112909 |  4.19283072 | 1.068072 | 0.987480 |\n",
       "| rs894043_THBS1    | 15_39315234  | 2.9963128 | 0.5112909 |  4.19283072 | 1.068072 | 0.987480 |\n",
       "| rs894042_THBS1    | 15_39315234  | 2.8282875 | 0.5112909 |  4.19283072 | 1.068072 | 0.987480 |\n",
       "| rs10415777_TFPT   | 19_54047847  | 1.8122475 | 1.7043156 |  0.19823472 | 1.185182 | 0.000000 |\n",
       "\n"
      ],
      "text/plain": [
       "   ID                hg38Dpn_start abs_chic_log_mean_aFC\n",
       "1  rs13150842_NAAA   4_75894747    1.4835395            \n",
       "2  rs11731367_NAAA   4_75896038    2.1564535            \n",
       "3  rs7798572_C7orf50 7_1171069     0.7603511            \n",
       "4  rs7784502_C7orf50 7_1171069     0.8352169            \n",
       "5  rs2960849_C7orf50 7_1171069     0.8355758            \n",
       "6  rs2960848_C7orf50 7_1171069     0.8267120            \n",
       "7  rs35257100_NFE2L3 7_26095447    1.5975826            \n",
       "8  rs3006562_SVIL    10_29802980   4.9317607            \n",
       "9  rs4568912_PTPRE   10_128084364  0.3429079            \n",
       "10 rs7146599_PCK2    14_24058261   1.4455221            \n",
       "11 rs1152443_KCNK13  14_90094012   2.3044905            \n",
       "12 rs4429266_THBS1   15_39306545   1.4816722            \n",
       "13 rs1530219_THBS1   15_39309938   2.1624705            \n",
       "14 rs998005_THBS1    15_39313720   2.4325974            \n",
       "15 rs1354596_THBS1   15_39313720   1.8224512            \n",
       "16 rs2033937_THBS1   15_39315234   2.7729596            \n",
       "17 rs894043_THBS1    15_39315234   2.9963128            \n",
       "18 rs894042_THBS1    15_39315234   2.8282875            \n",
       "19 rs10415777_TFPT   19_54047847   1.8122475            \n",
       "   relative_abs_ATAC_mean_aFC relative_Gene_Expression_Beta\n",
       "1  0.0000000                   0.94969145                  \n",
       "2  2.3941331                   1.89938289                  \n",
       "3  0.3645636                  -0.11534927                  \n",
       "4  0.3645636                  -0.11534927                  \n",
       "5  0.3645636                  -0.11534927                  \n",
       "6  0.3645636                  -0.11534927                  \n",
       "7  1.1094288                   2.93967167                  \n",
       "8  4.8123701                   0.83990252                  \n",
       "9  0.0000000                   0.04662117                  \n",
       "10 0.0000000                  -0.20749617                  \n",
       "11 4.9147499                  -0.47924819                  \n",
       "12 0.0000000                   2.09641536                  \n",
       "13 0.0000000                   3.14462304                  \n",
       "14 0.5112909                   4.19283072                  \n",
       "15 0.5112909                   4.19283072                  \n",
       "16 0.5112909                   4.19283072                  \n",
       "17 0.5112909                   4.19283072                  \n",
       "18 0.5112909                   4.19283072                  \n",
       "19 1.7043156                   0.19823472                  \n",
       "   closest_relative_h3k27ac_beta closest_relative_h3k4me1_beta\n",
       "1  0.000000                      2.596098                     \n",
       "2  2.706474                      2.596098                     \n",
       "3  0.000000                      0.000000                     \n",
       "4  0.000000                      0.000000                     \n",
       "5  0.000000                      0.000000                     \n",
       "6  0.000000                      0.000000                     \n",
       "7  2.936485                      1.488365                     \n",
       "8  2.559730                      2.646320                     \n",
       "9  0.000000                      0.000000                     \n",
       "10 0.000000                      0.000000                     \n",
       "11 1.169802                      2.625570                     \n",
       "12 0.000000                      0.987480                     \n",
       "13 1.068072                      0.987480                     \n",
       "14 1.068072                      0.987480                     \n",
       "15 1.068072                      0.987480                     \n",
       "16 1.068072                      0.987480                     \n",
       "17 1.068072                      0.987480                     \n",
       "18 1.068072                      0.987480                     \n",
       "19 1.185182                      0.000000                     "
      ]
     },
     "metadata": {},
     "output_type": "display_data"
    }
   ],
   "source": [
    "### Take the histone modification that is closest to the baseQTL contact QTL.\n",
    "\n",
    "matrix_prep[, BaseQTL_hg19Proxy_pos := tstrsplit(BaseQTL_hg19Proxy_ID, split = \":\", keep = 2, type.convert = T)] #because hg19Proxy_pos in this table refers to the SNP in LD\n",
    "\n",
    "matrix_prep[, c(\"h3k27ac_start\", \"h3k27ac_end\") := tstrsplit(h3k27ac_phenotypeID, split = \":\", keep = c(2,3), type.convert = T)]\n",
    "matrix_prep[, h3k27ac_mid := h3k27ac_start+(h3k27ac_end-h3k27ac_start)/2]\n",
    "matrix_prep[, SNP_27ac_dist := abs(h3k27ac_mid-BaseQTL_hg19Proxy_pos)] # these features are in hg19!\n",
    "matrix_prep[, SNP_27ac_Startdist := abs(h3k27ac_start-BaseQTL_hg19Proxy_pos)] # somtimes the peak is very large\n",
    "matrix_prep[, SNP_27ac_Enddist := abs(h3k27ac_end-BaseQTL_hg19Proxy_pos)] # sometimes the peak is very large\n",
    "\n",
    "\n",
    "matrix_prep[, c(\"h3k4me1_start\", \"h3k4me1_end\") := tstrsplit(h3k4me1_phenotypeID, split = \":\", keep = c(2,3), type.convert = T)]\n",
    "matrix_prep[, h3k4me1_mid := h3k4me1_start+(h3k4me1_end-h3k4me1_start)/2]\n",
    "matrix_prep[, SNP_me1_dist := abs(h3k4me1_mid-BaseQTL_hg19Proxy_pos)]\n",
    "matrix_prep[, SNP_me1_Startdist := abs(h3k4me1_start-BaseQTL_hg19Proxy_pos)]\n",
    "matrix_prep[, SNP_me1_Enddist := abs(h3k4me1_end-BaseQTL_hg19Proxy_pos)]\n",
    "\n",
    "\n",
    "new_matrix_prep <- unique(matrix_prep[, .(Chr, proxID, ID, hg19Proxy_ID, hg38Proxy_pos, BaseQTL_hg19Proxy_ID, rsid, BaseQTL_hg19Proxy_pos, abs_chic_log_mean_aFC, relative_abs_ATAC_mean_aFC, relative_Gene_Expression_Beta, relative_h3k27ac_beta, relative_h3k4me1_beta, \n",
    "                                  h3k27ac_mid, h3k4me1_mid, SNP_27ac_dist, SNP_27ac_Startdist, SNP_27ac_Enddist, SNP_me1_dist, SNP_me1_Startdist, SNP_me1_Enddist, hg38Dpn_start)])\n",
    "\n",
    "new_matrix_prep27ac <- as.data.table(new_matrix_prep %>% group_by(BaseQTL_hg19Proxy_pos) %>%\n",
    "                                      mutate(closest_27acPeak = min(SNP_27ac_dist, na.rm = T))) # mutate, not summarize\n",
    "new_matrix_prep27ac[SNP_27ac_dist <= 5000 & closest_27acPeak == SNP_27ac_dist | SNP_27ac_Startdist <= 5000 & closest_27acPeak == SNP_27ac_dist | \n",
    "                    SNP_27ac_Enddist <= 5000 & closest_27acPeak == SNP_27ac_dist, closest_relative_h3k27ac_beta := mean(relative_h3k27ac_beta), by = rsid] # take an average, because the association is for the same peak but with different SNPs.\n",
    "\n",
    "\n",
    "new_matrix_prepme1 <- as.data.table(new_matrix_prep27ac %>% group_by(BaseQTL_hg19Proxy_pos) %>%\n",
    "                                      mutate(closest_me1Peak = min(SNP_me1_dist, na.rm = T))) # mutate, not summarize\n",
    "new_matrix_prepme1[SNP_me1_dist <= 5000 & closest_me1Peak == SNP_me1_dist | SNP_me1_Startdist <= 5000 & closest_me1Peak == SNP_me1_dist |\n",
    "                   SNP_me1_Enddist <= 5000 & closest_me1Peak == SNP_me1_dist, closest_relative_h3k4me1_beta := mean(relative_h3k4me1_beta), by = rsid] # take an average, because the association is for the same peak but with different SNPs.\n",
    "\n",
    "\n",
    "\n",
    "# this table should then be as long as the no. of BaseQTL CHiC SNPs: \n",
    "mat_prep_final <- unique(new_matrix_prepme1[, .(Chr, ID, hg38Dpn_start, BaseQTL_hg19Proxy_pos, abs_chic_log_mean_aFC, relative_abs_ATAC_mean_aFC, relative_Gene_Expression_Beta, closest_relative_h3k27ac_beta, closest_relative_h3k4me1_beta)])\n",
    "#mat_prep_final\n",
    "\n",
    "# collapse rows\n",
    "mat_prep_final_collapsed <- as.data.table(mat_prep_final %>% group_by(ID, Chr, BaseQTL_hg19Proxy_pos, hg38Dpn_start) %>% summarise_each(funs(sum(., na.rm = TRUE)))) # https://stackoverflow.com/questions/28036294/collapsing-rows-where-some-are-all-na-others-are-disjoint-with-some-nas\n",
    "setorder(mat_prep_final_collapsed, Chr, BaseQTL_hg19Proxy_pos)\n",
    "mat_prep_final_collapsed[, c(\"Chr\", \"BaseQTL_hg19Proxy_pos\") := NULL]\n",
    "#####\\\n",
    "mat_prep_final_collapsed"
   ]
  },
  {
   "cell_type": "code",
   "execution_count": 10,
   "metadata": {},
   "outputs": [
    {
     "name": "stderr",
     "output_type": "stream",
     "text": [
      "Warning message in cbind(parts$left, chars$ellip_h, parts$right, deparse.level = 0L):\n",
      "“number of rows of result is not a multiple of vector length (arg 2)”\n",
      "Warning message in cbind(parts$left, chars$ellip_h, parts$right, deparse.level = 0L):\n",
      "“number of rows of result is not a multiple of vector length (arg 2)”\n",
      "Warning message in cbind(parts$left, chars$ellip_h, parts$right, deparse.level = 0L):\n",
      "“number of rows of result is not a multiple of vector length (arg 2)”\n",
      "Warning message in cbind(parts$left, chars$ellip_h, parts$right, deparse.level = 0L):\n",
      "“number of rows of result is not a multiple of vector length (arg 2)”\n"
     ]
    },
    {
     "data": {
      "text/html": [
       "<table class=\"dataframe\">\n",
       "<caption>A data.table: 0 × 36</caption>\n",
       "<thead>\n",
       "\t<tr><th scope=col>Chr</th><th scope=col>hg19Proxy_pos</th><th scope=col>h3k4me1_SNP</th><th scope=col>h3k4me1_phenotypeID</th><th scope=col>h3k4me1_beta</th><th scope=col>h3k4me1_Bonferroni.p</th><th scope=col>h3k4me1_ALTeffect</th><th scope=col>h3k27ac_SNP</th><th scope=col>h3k27ac_phenotypeID</th><th scope=col>h3k27ac_beta</th><th scope=col>⋯</th><th scope=col>at_chic_dir</th><th scope=col>hg38Proxy_pos</th><th scope=col>at_mid</th><th scope=col>SNP_at_dist</th><th scope=col>closest_atPeak</th><th scope=col>closest_at_log_aFC</th><th scope=col>relative_Gene_Expression_Beta</th><th scope=col>BaseQTL_feature</th><th scope=col>abs_chic_log_mean_aFC</th><th scope=col>relative_abs_ATAC_mean_aFC</th></tr>\n",
       "\t<tr><th scope=col>&lt;int&gt;</th><th scope=col>&lt;int&gt;</th><th scope=col>&lt;chr&gt;</th><th scope=col>&lt;chr&gt;</th><th scope=col>&lt;dbl&gt;</th><th scope=col>&lt;dbl&gt;</th><th scope=col>&lt;chr&gt;</th><th scope=col>&lt;chr&gt;</th><th scope=col>&lt;chr&gt;</th><th scope=col>&lt;dbl&gt;</th><th scope=col>⋯</th><th scope=col>&lt;chr&gt;</th><th scope=col>&lt;int&gt;</th><th scope=col>&lt;int&gt;</th><th scope=col>&lt;int&gt;</th><th scope=col>&lt;dbl&gt;</th><th scope=col>&lt;dbl&gt;</th><th scope=col>&lt;dbl&gt;</th><th scope=col>&lt;chr&gt;</th><th scope=col>&lt;dbl&gt;</th><th scope=col>&lt;dbl&gt;</th></tr>\n",
       "</thead>\n",
       "<tbody>\n",
       "</tbody>\n",
       "</table>\n"
      ],
      "text/latex": [
       "A data.table: 0 × 36\n",
       "\\begin{tabular}{lllllllllllllllllllll}\n",
       " Chr & hg19Proxy\\_pos & h3k4me1\\_SNP & h3k4me1\\_phenotypeID & h3k4me1\\_beta & h3k4me1\\_Bonferroni.p & h3k4me1\\_ALTeffect & h3k27ac\\_SNP & h3k27ac\\_phenotypeID & h3k27ac\\_beta & ⋯ & at\\_chic\\_dir & hg38Proxy\\_pos & at\\_mid & SNP\\_at\\_dist & closest\\_atPeak & closest\\_at\\_log\\_aFC & relative\\_Gene\\_Expression\\_Beta & BaseQTL\\_feature & abs\\_chic\\_log\\_mean\\_aFC & relative\\_abs\\_ATAC\\_mean\\_aFC\\\\\n",
       " <int> & <int> & <chr> & <chr> & <dbl> & <dbl> & <chr> & <chr> & <chr> & <dbl> & ⋯ & <chr> & <int> & <int> & <int> & <dbl> & <dbl> & <dbl> & <chr> & <dbl> & <dbl>\\\\\n",
       "\\hline\n",
       "\\end{tabular}\n"
      ],
      "text/markdown": [
       "\n",
       "A data.table: 0 × 36\n",
       "\n",
       "| Chr &lt;int&gt; | hg19Proxy_pos &lt;int&gt; | h3k4me1_SNP &lt;chr&gt; | h3k4me1_phenotypeID &lt;chr&gt; | h3k4me1_beta &lt;dbl&gt; | h3k4me1_Bonferroni.p &lt;dbl&gt; | h3k4me1_ALTeffect &lt;chr&gt; | h3k27ac_SNP &lt;chr&gt; | h3k27ac_phenotypeID &lt;chr&gt; | h3k27ac_beta &lt;dbl&gt; | ⋯ ⋯ | at_chic_dir &lt;chr&gt; | hg38Proxy_pos &lt;int&gt; | at_mid &lt;int&gt; | SNP_at_dist &lt;int&gt; | closest_atPeak &lt;dbl&gt; | closest_at_log_aFC &lt;dbl&gt; | relative_Gene_Expression_Beta &lt;dbl&gt; | BaseQTL_feature &lt;chr&gt; | abs_chic_log_mean_aFC &lt;dbl&gt; | relative_abs_ATAC_mean_aFC &lt;dbl&gt; |\n",
       "|---|---|---|---|---|---|---|---|---|---|---|---|---|---|---|---|---|---|---|---|---|\n",
       "\n"
      ],
      "text/plain": [
       "     Chr hg19Proxy_pos h3k4me1_SNP h3k4me1_phenotypeID h3k4me1_beta\n",
       "     h3k4me1_Bonferroni.p h3k4me1_ALTeffect h3k27ac_SNP h3k27ac_phenotypeID\n",
       "     h3k27ac_beta ⋯ at_chic_dir hg38Proxy_pos at_mid SNP_at_dist closest_atPeak\n",
       "     closest_at_log_aFC relative_Gene_Expression_Beta BaseQTL_feature\n",
       "     abs_chic_log_mean_aFC relative_abs_ATAC_mean_aFC"
      ]
     },
     "metadata": {},
     "output_type": "display_data"
    },
    {
     "data": {
      "text/html": [
       "<table class=\"dataframe\">\n",
       "<caption>A data.table: 4 × 36</caption>\n",
       "<thead>\n",
       "\t<tr><th scope=col>Chr</th><th scope=col>hg19Proxy_pos</th><th scope=col>h3k4me1_SNP</th><th scope=col>h3k4me1_phenotypeID</th><th scope=col>h3k4me1_beta</th><th scope=col>h3k4me1_Bonferroni.p</th><th scope=col>h3k4me1_ALTeffect</th><th scope=col>h3k27ac_SNP</th><th scope=col>h3k27ac_phenotypeID</th><th scope=col>h3k27ac_beta</th><th scope=col>⋯</th><th scope=col>at_chic_dir</th><th scope=col>hg38Proxy_pos</th><th scope=col>at_mid</th><th scope=col>SNP_at_dist</th><th scope=col>closest_atPeak</th><th scope=col>closest_at_log_aFC</th><th scope=col>relative_Gene_Expression_Beta</th><th scope=col>BaseQTL_feature</th><th scope=col>abs_chic_log_mean_aFC</th><th scope=col>relative_abs_ATAC_mean_aFC</th></tr>\n",
       "\t<tr><th scope=col>&lt;int&gt;</th><th scope=col>&lt;int&gt;</th><th scope=col>&lt;chr&gt;</th><th scope=col>&lt;chr&gt;</th><th scope=col>&lt;dbl&gt;</th><th scope=col>&lt;dbl&gt;</th><th scope=col>&lt;chr&gt;</th><th scope=col>&lt;chr&gt;</th><th scope=col>&lt;chr&gt;</th><th scope=col>&lt;dbl&gt;</th><th scope=col>⋯</th><th scope=col>&lt;chr&gt;</th><th scope=col>&lt;int&gt;</th><th scope=col>&lt;int&gt;</th><th scope=col>&lt;int&gt;</th><th scope=col>&lt;dbl&gt;</th><th scope=col>&lt;dbl&gt;</th><th scope=col>&lt;dbl&gt;</th><th scope=col>&lt;chr&gt;</th><th scope=col>&lt;dbl&gt;</th><th scope=col>&lt;dbl&gt;</th></tr>\n",
       "</thead>\n",
       "<tbody>\n",
       "\t<tr><td>7</td><td>1199804</td><td>NA</td><td>NA</td><td>NA</td><td>NA</td><td>none</td><td>7:1199804_C_T</td><td>7:2023512:2030487</td><td>0.3985703</td><td>⋯</td><td>NA</td><td>1171119</td><td>NA</td><td>NA</td><td>1209</td><td>NA</td><td>-0.05767463</td><td>7:1210755:C:T_ENSG00000146540_C7orf50</td><td>0.3801756</td><td>NA</td></tr>\n",
       "\t<tr><td>7</td><td>1199804</td><td>NA</td><td>NA</td><td>NA</td><td>NA</td><td>none</td><td>7:1199804_C_T</td><td>7:2023512:2030487</td><td>0.3985703</td><td>⋯</td><td>NA</td><td>1171262</td><td>NA</td><td>NA</td><td>1352</td><td>NA</td><td>-0.05767463</td><td>7:1210898:G:A_ENSG00000146540_C7orf50</td><td>0.4176084</td><td>NA</td></tr>\n",
       "\t<tr><td>7</td><td>1199804</td><td>NA</td><td>NA</td><td>NA</td><td>NA</td><td>none</td><td>7:1199804_C_T</td><td>7:2023512:2030487</td><td>0.3985703</td><td>⋯</td><td>NA</td><td>1172342</td><td>NA</td><td>NA</td><td>2432</td><td>NA</td><td>-0.05767463</td><td>7:1211978:C:G_ENSG00000146540_C7orf50</td><td>0.4177879</td><td>NA</td></tr>\n",
       "\t<tr><td>7</td><td>1199804</td><td>NA</td><td>NA</td><td>NA</td><td>NA</td><td>none</td><td>7:1199804_C_T</td><td>7:2023512:2030487</td><td>0.3985703</td><td>⋯</td><td>NA</td><td>1172575</td><td>NA</td><td>NA</td><td>2665</td><td>NA</td><td>-0.05767463</td><td>7:1212211:C:A_ENSG00000146540_C7orf50</td><td>0.4133560</td><td>NA</td></tr>\n",
       "</tbody>\n",
       "</table>\n"
      ],
      "text/latex": [
       "A data.table: 4 × 36\n",
       "\\begin{tabular}{lllllllllllllllllllll}\n",
       " Chr & hg19Proxy\\_pos & h3k4me1\\_SNP & h3k4me1\\_phenotypeID & h3k4me1\\_beta & h3k4me1\\_Bonferroni.p & h3k4me1\\_ALTeffect & h3k27ac\\_SNP & h3k27ac\\_phenotypeID & h3k27ac\\_beta & ⋯ & at\\_chic\\_dir & hg38Proxy\\_pos & at\\_mid & SNP\\_at\\_dist & closest\\_atPeak & closest\\_at\\_log\\_aFC & relative\\_Gene\\_Expression\\_Beta & BaseQTL\\_feature & abs\\_chic\\_log\\_mean\\_aFC & relative\\_abs\\_ATAC\\_mean\\_aFC\\\\\n",
       " <int> & <int> & <chr> & <chr> & <dbl> & <dbl> & <chr> & <chr> & <chr> & <dbl> & ⋯ & <chr> & <int> & <int> & <int> & <dbl> & <dbl> & <dbl> & <chr> & <dbl> & <dbl>\\\\\n",
       "\\hline\n",
       "\t 7 & 1199804 & NA & NA & NA & NA & none & 7:1199804\\_C\\_T & 7:2023512:2030487 & 0.3985703 & ⋯ & NA & 1171119 & NA & NA & 1209 & NA & -0.05767463 & 7:1210755:C:T\\_ENSG00000146540\\_C7orf50 & 0.3801756 & NA\\\\\n",
       "\t 7 & 1199804 & NA & NA & NA & NA & none & 7:1199804\\_C\\_T & 7:2023512:2030487 & 0.3985703 & ⋯ & NA & 1171262 & NA & NA & 1352 & NA & -0.05767463 & 7:1210898:G:A\\_ENSG00000146540\\_C7orf50 & 0.4176084 & NA\\\\\n",
       "\t 7 & 1199804 & NA & NA & NA & NA & none & 7:1199804\\_C\\_T & 7:2023512:2030487 & 0.3985703 & ⋯ & NA & 1172342 & NA & NA & 2432 & NA & -0.05767463 & 7:1211978:C:G\\_ENSG00000146540\\_C7orf50 & 0.4177879 & NA\\\\\n",
       "\t 7 & 1199804 & NA & NA & NA & NA & none & 7:1199804\\_C\\_T & 7:2023512:2030487 & 0.3985703 & ⋯ & NA & 1172575 & NA & NA & 2665 & NA & -0.05767463 & 7:1212211:C:A\\_ENSG00000146540\\_C7orf50 & 0.4133560 & NA\\\\\n",
       "\\end{tabular}\n"
      ],
      "text/markdown": [
       "\n",
       "A data.table: 4 × 36\n",
       "\n",
       "| Chr &lt;int&gt; | hg19Proxy_pos &lt;int&gt; | h3k4me1_SNP &lt;chr&gt; | h3k4me1_phenotypeID &lt;chr&gt; | h3k4me1_beta &lt;dbl&gt; | h3k4me1_Bonferroni.p &lt;dbl&gt; | h3k4me1_ALTeffect &lt;chr&gt; | h3k27ac_SNP &lt;chr&gt; | h3k27ac_phenotypeID &lt;chr&gt; | h3k27ac_beta &lt;dbl&gt; | ⋯ ⋯ | at_chic_dir &lt;chr&gt; | hg38Proxy_pos &lt;int&gt; | at_mid &lt;int&gt; | SNP_at_dist &lt;int&gt; | closest_atPeak &lt;dbl&gt; | closest_at_log_aFC &lt;dbl&gt; | relative_Gene_Expression_Beta &lt;dbl&gt; | BaseQTL_feature &lt;chr&gt; | abs_chic_log_mean_aFC &lt;dbl&gt; | relative_abs_ATAC_mean_aFC &lt;dbl&gt; |\n",
       "|---|---|---|---|---|---|---|---|---|---|---|---|---|---|---|---|---|---|---|---|---|\n",
       "| 7 | 1199804 | NA | NA | NA | NA | none | 7:1199804_C_T | 7:2023512:2030487 | 0.3985703 | ⋯ | NA | 1171119 | NA | NA | 1209 | NA | -0.05767463 | 7:1210755:C:T_ENSG00000146540_C7orf50 | 0.3801756 | NA |\n",
       "| 7 | 1199804 | NA | NA | NA | NA | none | 7:1199804_C_T | 7:2023512:2030487 | 0.3985703 | ⋯ | NA | 1171262 | NA | NA | 1352 | NA | -0.05767463 | 7:1210898:G:A_ENSG00000146540_C7orf50 | 0.4176084 | NA |\n",
       "| 7 | 1199804 | NA | NA | NA | NA | none | 7:1199804_C_T | 7:2023512:2030487 | 0.3985703 | ⋯ | NA | 1172342 | NA | NA | 2432 | NA | -0.05767463 | 7:1211978:C:G_ENSG00000146540_C7orf50 | 0.4177879 | NA |\n",
       "| 7 | 1199804 | NA | NA | NA | NA | none | 7:1199804_C_T | 7:2023512:2030487 | 0.3985703 | ⋯ | NA | 1172575 | NA | NA | 2665 | NA | -0.05767463 | 7:1212211:C:A_ENSG00000146540_C7orf50 | 0.4133560 | NA |\n",
       "\n"
      ],
      "text/plain": [
       "  Chr hg19Proxy_pos h3k4me1_SNP h3k4me1_phenotypeID h3k4me1_beta\n",
       "1 7   1199804       NA          NA                  NA          \n",
       "2 7   1199804       NA          NA                  NA          \n",
       "3 7   1199804       NA          NA                  NA          \n",
       "4 7   1199804       NA          NA                  NA          \n",
       "  h3k4me1_Bonferroni.p h3k4me1_ALTeffect h3k27ac_SNP   h3k27ac_phenotypeID\n",
       "1 NA                   none              7:1199804_C_T 7:2023512:2030487  \n",
       "2 NA                   none              7:1199804_C_T 7:2023512:2030487  \n",
       "3 NA                   none              7:1199804_C_T 7:2023512:2030487  \n",
       "4 NA                   none              7:1199804_C_T 7:2023512:2030487  \n",
       "  h3k27ac_beta ⋯ at_chic_dir hg38Proxy_pos at_mid SNP_at_dist closest_atPeak\n",
       "1 0.3985703    ⋯ NA          1171119       NA     NA          1209          \n",
       "2 0.3985703    ⋯ NA          1171262       NA     NA          1352          \n",
       "3 0.3985703    ⋯ NA          1172342       NA     NA          2432          \n",
       "4 0.3985703    ⋯ NA          1172575       NA     NA          2665          \n",
       "  closest_at_log_aFC relative_Gene_Expression_Beta\n",
       "1 NA                 -0.05767463                  \n",
       "2 NA                 -0.05767463                  \n",
       "3 NA                 -0.05767463                  \n",
       "4 NA                 -0.05767463                  \n",
       "  BaseQTL_feature                       abs_chic_log_mean_aFC\n",
       "1 7:1210755:C:T_ENSG00000146540_C7orf50 0.3801756            \n",
       "2 7:1210898:G:A_ENSG00000146540_C7orf50 0.4176084            \n",
       "3 7:1211978:C:G_ENSG00000146540_C7orf50 0.4177879            \n",
       "4 7:1212211:C:A_ENSG00000146540_C7orf50 0.4133560            \n",
       "  relative_abs_ATAC_mean_aFC\n",
       "1 NA                        \n",
       "2 NA                        \n",
       "3 NA                        \n",
       "4 NA                        "
      ]
     },
     "metadata": {},
     "output_type": "display_data"
    },
    {
     "data": {
      "text/html": [
       "<table class=\"dataframe\">\n",
       "<caption>A data.table: 4 × 11</caption>\n",
       "<thead>\n",
       "\t<tr><th scope=col>Chr</th><th scope=col>SNP_27ac_dist</th><th scope=col>SNP_27ac_Startdist</th><th scope=col>SNP_27ac_Enddist</th><th scope=col>h3k27ac_mid</th><th scope=col>h3k27ac_phenotypeID</th><th scope=col>relative_Gene_Expression_Beta</th><th scope=col>relative_abs_ATAC_mean_aFC</th><th scope=col>chic_log_mean_aFC</th><th scope=col>relative_h3k27ac_beta</th><th scope=col>relative_Gene_Expression_Beta</th></tr>\n",
       "\t<tr><th scope=col>&lt;int&gt;</th><th scope=col>&lt;dbl&gt;</th><th scope=col>&lt;int&gt;</th><th scope=col>&lt;int&gt;</th><th scope=col>&lt;dbl&gt;</th><th scope=col>&lt;chr&gt;</th><th scope=col>&lt;dbl&gt;</th><th scope=col>&lt;dbl&gt;</th><th scope=col>&lt;dbl&gt;</th><th scope=col>&lt;dbl&gt;</th><th scope=col>&lt;dbl&gt;</th></tr>\n",
       "</thead>\n",
       "<tbody>\n",
       "\t<tr><td>7</td><td>816244.5</td><td>812757</td><td>819732</td><td>2027000</td><td>7:2023512:2030487</td><td>-0.05767463</td><td>NA</td><td>-0.3801756</td><td>-0.3985703</td><td>-0.05767463</td></tr>\n",
       "\t<tr><td>7</td><td>816101.5</td><td>812614</td><td>819589</td><td>2027000</td><td>7:2023512:2030487</td><td>-0.05767463</td><td>NA</td><td>-0.4176084</td><td>-0.3985703</td><td>-0.05767463</td></tr>\n",
       "\t<tr><td>7</td><td>815021.5</td><td>811534</td><td>818509</td><td>2027000</td><td>7:2023512:2030487</td><td>-0.05767463</td><td>NA</td><td>-0.4177879</td><td>-0.3985703</td><td>-0.05767463</td></tr>\n",
       "\t<tr><td>7</td><td>814788.5</td><td>811301</td><td>818276</td><td>2027000</td><td>7:2023512:2030487</td><td>-0.05767463</td><td>NA</td><td>-0.4133560</td><td>-0.3985703</td><td>-0.05767463</td></tr>\n",
       "</tbody>\n",
       "</table>\n"
      ],
      "text/latex": [
       "A data.table: 4 × 11\n",
       "\\begin{tabular}{lllllllllll}\n",
       " Chr & SNP\\_27ac\\_dist & SNP\\_27ac\\_Startdist & SNP\\_27ac\\_Enddist & h3k27ac\\_mid & h3k27ac\\_phenotypeID & relative\\_Gene\\_Expression\\_Beta & relative\\_abs\\_ATAC\\_mean\\_aFC & chic\\_log\\_mean\\_aFC & relative\\_h3k27ac\\_beta & relative\\_Gene\\_Expression\\_Beta\\\\\n",
       " <int> & <dbl> & <int> & <int> & <dbl> & <chr> & <dbl> & <dbl> & <dbl> & <dbl> & <dbl>\\\\\n",
       "\\hline\n",
       "\t 7 & 816244.5 & 812757 & 819732 & 2027000 & 7:2023512:2030487 & -0.05767463 & NA & -0.3801756 & -0.3985703 & -0.05767463\\\\\n",
       "\t 7 & 816101.5 & 812614 & 819589 & 2027000 & 7:2023512:2030487 & -0.05767463 & NA & -0.4176084 & -0.3985703 & -0.05767463\\\\\n",
       "\t 7 & 815021.5 & 811534 & 818509 & 2027000 & 7:2023512:2030487 & -0.05767463 & NA & -0.4177879 & -0.3985703 & -0.05767463\\\\\n",
       "\t 7 & 814788.5 & 811301 & 818276 & 2027000 & 7:2023512:2030487 & -0.05767463 & NA & -0.4133560 & -0.3985703 & -0.05767463\\\\\n",
       "\\end{tabular}\n"
      ],
      "text/markdown": [
       "\n",
       "A data.table: 4 × 11\n",
       "\n",
       "| Chr &lt;int&gt; | SNP_27ac_dist &lt;dbl&gt; | SNP_27ac_Startdist &lt;int&gt; | SNP_27ac_Enddist &lt;int&gt; | h3k27ac_mid &lt;dbl&gt; | h3k27ac_phenotypeID &lt;chr&gt; | relative_Gene_Expression_Beta &lt;dbl&gt; | relative_abs_ATAC_mean_aFC &lt;dbl&gt; | chic_log_mean_aFC &lt;dbl&gt; | relative_h3k27ac_beta &lt;dbl&gt; | relative_Gene_Expression_Beta &lt;dbl&gt; |\n",
       "|---|---|---|---|---|---|---|---|---|---|---|\n",
       "| 7 | 816244.5 | 812757 | 819732 | 2027000 | 7:2023512:2030487 | -0.05767463 | NA | -0.3801756 | -0.3985703 | -0.05767463 |\n",
       "| 7 | 816101.5 | 812614 | 819589 | 2027000 | 7:2023512:2030487 | -0.05767463 | NA | -0.4176084 | -0.3985703 | -0.05767463 |\n",
       "| 7 | 815021.5 | 811534 | 818509 | 2027000 | 7:2023512:2030487 | -0.05767463 | NA | -0.4177879 | -0.3985703 | -0.05767463 |\n",
       "| 7 | 814788.5 | 811301 | 818276 | 2027000 | 7:2023512:2030487 | -0.05767463 | NA | -0.4133560 | -0.3985703 | -0.05767463 |\n",
       "\n"
      ],
      "text/plain": [
       "  Chr SNP_27ac_dist SNP_27ac_Startdist SNP_27ac_Enddist h3k27ac_mid\n",
       "1 7   816244.5      812757             819732           2027000    \n",
       "2 7   816101.5      812614             819589           2027000    \n",
       "3 7   815021.5      811534             818509           2027000    \n",
       "4 7   814788.5      811301             818276           2027000    \n",
       "  h3k27ac_phenotypeID relative_Gene_Expression_Beta relative_abs_ATAC_mean_aFC\n",
       "1 7:2023512:2030487   -0.05767463                   NA                        \n",
       "2 7:2023512:2030487   -0.05767463                   NA                        \n",
       "3 7:2023512:2030487   -0.05767463                   NA                        \n",
       "4 7:2023512:2030487   -0.05767463                   NA                        \n",
       "  chic_log_mean_aFC relative_h3k27ac_beta relative_Gene_Expression_Beta\n",
       "1 -0.3801756        -0.3985703            -0.05767463                  \n",
       "2 -0.4176084        -0.3985703            -0.05767463                  \n",
       "3 -0.4177879        -0.3985703            -0.05767463                  \n",
       "4 -0.4133560        -0.3985703            -0.05767463                  "
      ]
     },
     "metadata": {},
     "output_type": "display_data"
    },
    {
     "data": {
      "text/html": [
       "<table class=\"dataframe\">\n",
       "<caption>A data.table: 8 × 11</caption>\n",
       "<thead>\n",
       "\t<tr><th scope=col>Chr</th><th scope=col>SNP_27ac_dist</th><th scope=col>SNP_27ac_Startdist</th><th scope=col>SNP_27ac_Enddist</th><th scope=col>h3k27ac_mid</th><th scope=col>h3k27ac_phenotypeID</th><th scope=col>relative_Gene_Expression_Beta</th><th scope=col>relative_abs_ATAC_mean_aFC</th><th scope=col>chic_log_mean_aFC</th><th scope=col>relative_h3k27ac_beta</th><th scope=col>relative_Gene_Expression_Beta</th></tr>\n",
       "\t<tr><th scope=col>&lt;int&gt;</th><th scope=col>&lt;dbl&gt;</th><th scope=col>&lt;int&gt;</th><th scope=col>&lt;int&gt;</th><th scope=col>&lt;dbl&gt;</th><th scope=col>&lt;chr&gt;</th><th scope=col>&lt;dbl&gt;</th><th scope=col>&lt;dbl&gt;</th><th scope=col>&lt;dbl&gt;</th><th scope=col>&lt;dbl&gt;</th><th scope=col>&lt;dbl&gt;</th></tr>\n",
       "</thead>\n",
       "<tbody>\n",
       "\t<tr><td>7</td><td>NA</td><td>NA</td><td>NA</td><td>NA</td><td>NA</td><td>-0.05767463</td><td>0.3645636</td><td>-0.3801756</td><td>NA</td><td>-0.05767463</td></tr>\n",
       "\t<tr><td>7</td><td>NA</td><td>NA</td><td>NA</td><td>NA</td><td>NA</td><td>-0.05767463</td><td>0.3645636</td><td>-0.4176084</td><td>NA</td><td>-0.05767463</td></tr>\n",
       "\t<tr><td>7</td><td>NA</td><td>NA</td><td>NA</td><td>NA</td><td>NA</td><td>-0.05767463</td><td>0.3645636</td><td>-0.4177879</td><td>NA</td><td>-0.05767463</td></tr>\n",
       "\t<tr><td>7</td><td>NA</td><td>NA</td><td>NA</td><td>NA</td><td>NA</td><td>-0.05767463</td><td>0.3645636</td><td>-0.4133560</td><td>NA</td><td>-0.05767463</td></tr>\n",
       "\t<tr><td>7</td><td>NA</td><td>NA</td><td>NA</td><td>NA</td><td>NA</td><td>-0.05767463</td><td>0.3645636</td><td>-0.3801756</td><td>NA</td><td>-0.05767463</td></tr>\n",
       "\t<tr><td>7</td><td>NA</td><td>NA</td><td>NA</td><td>NA</td><td>NA</td><td>-0.05767463</td><td>0.3645636</td><td>-0.4176084</td><td>NA</td><td>-0.05767463</td></tr>\n",
       "\t<tr><td>7</td><td>NA</td><td>NA</td><td>NA</td><td>NA</td><td>NA</td><td>-0.05767463</td><td>0.3645636</td><td>-0.4177879</td><td>NA</td><td>-0.05767463</td></tr>\n",
       "\t<tr><td>7</td><td>NA</td><td>NA</td><td>NA</td><td>NA</td><td>NA</td><td>-0.05767463</td><td>0.3645636</td><td>-0.4133560</td><td>NA</td><td>-0.05767463</td></tr>\n",
       "</tbody>\n",
       "</table>\n"
      ],
      "text/latex": [
       "A data.table: 8 × 11\n",
       "\\begin{tabular}{lllllllllll}\n",
       " Chr & SNP\\_27ac\\_dist & SNP\\_27ac\\_Startdist & SNP\\_27ac\\_Enddist & h3k27ac\\_mid & h3k27ac\\_phenotypeID & relative\\_Gene\\_Expression\\_Beta & relative\\_abs\\_ATAC\\_mean\\_aFC & chic\\_log\\_mean\\_aFC & relative\\_h3k27ac\\_beta & relative\\_Gene\\_Expression\\_Beta\\\\\n",
       " <int> & <dbl> & <int> & <int> & <dbl> & <chr> & <dbl> & <dbl> & <dbl> & <dbl> & <dbl>\\\\\n",
       "\\hline\n",
       "\t 7 & NA & NA & NA & NA & NA & -0.05767463 & 0.3645636 & -0.3801756 & NA & -0.05767463\\\\\n",
       "\t 7 & NA & NA & NA & NA & NA & -0.05767463 & 0.3645636 & -0.4176084 & NA & -0.05767463\\\\\n",
       "\t 7 & NA & NA & NA & NA & NA & -0.05767463 & 0.3645636 & -0.4177879 & NA & -0.05767463\\\\\n",
       "\t 7 & NA & NA & NA & NA & NA & -0.05767463 & 0.3645636 & -0.4133560 & NA & -0.05767463\\\\\n",
       "\t 7 & NA & NA & NA & NA & NA & -0.05767463 & 0.3645636 & -0.3801756 & NA & -0.05767463\\\\\n",
       "\t 7 & NA & NA & NA & NA & NA & -0.05767463 & 0.3645636 & -0.4176084 & NA & -0.05767463\\\\\n",
       "\t 7 & NA & NA & NA & NA & NA & -0.05767463 & 0.3645636 & -0.4177879 & NA & -0.05767463\\\\\n",
       "\t 7 & NA & NA & NA & NA & NA & -0.05767463 & 0.3645636 & -0.4133560 & NA & -0.05767463\\\\\n",
       "\\end{tabular}\n"
      ],
      "text/markdown": [
       "\n",
       "A data.table: 8 × 11\n",
       "\n",
       "| Chr &lt;int&gt; | SNP_27ac_dist &lt;dbl&gt; | SNP_27ac_Startdist &lt;int&gt; | SNP_27ac_Enddist &lt;int&gt; | h3k27ac_mid &lt;dbl&gt; | h3k27ac_phenotypeID &lt;chr&gt; | relative_Gene_Expression_Beta &lt;dbl&gt; | relative_abs_ATAC_mean_aFC &lt;dbl&gt; | chic_log_mean_aFC &lt;dbl&gt; | relative_h3k27ac_beta &lt;dbl&gt; | relative_Gene_Expression_Beta &lt;dbl&gt; |\n",
       "|---|---|---|---|---|---|---|---|---|---|---|\n",
       "| 7 | NA | NA | NA | NA | NA | -0.05767463 | 0.3645636 | -0.3801756 | NA | -0.05767463 |\n",
       "| 7 | NA | NA | NA | NA | NA | -0.05767463 | 0.3645636 | -0.4176084 | NA | -0.05767463 |\n",
       "| 7 | NA | NA | NA | NA | NA | -0.05767463 | 0.3645636 | -0.4177879 | NA | -0.05767463 |\n",
       "| 7 | NA | NA | NA | NA | NA | -0.05767463 | 0.3645636 | -0.4133560 | NA | -0.05767463 |\n",
       "| 7 | NA | NA | NA | NA | NA | -0.05767463 | 0.3645636 | -0.3801756 | NA | -0.05767463 |\n",
       "| 7 | NA | NA | NA | NA | NA | -0.05767463 | 0.3645636 | -0.4176084 | NA | -0.05767463 |\n",
       "| 7 | NA | NA | NA | NA | NA | -0.05767463 | 0.3645636 | -0.4177879 | NA | -0.05767463 |\n",
       "| 7 | NA | NA | NA | NA | NA | -0.05767463 | 0.3645636 | -0.4133560 | NA | -0.05767463 |\n",
       "\n"
      ],
      "text/plain": [
       "  Chr SNP_27ac_dist SNP_27ac_Startdist SNP_27ac_Enddist h3k27ac_mid\n",
       "1 7   NA            NA                 NA               NA         \n",
       "2 7   NA            NA                 NA               NA         \n",
       "3 7   NA            NA                 NA               NA         \n",
       "4 7   NA            NA                 NA               NA         \n",
       "5 7   NA            NA                 NA               NA         \n",
       "6 7   NA            NA                 NA               NA         \n",
       "7 7   NA            NA                 NA               NA         \n",
       "8 7   NA            NA                 NA               NA         \n",
       "  h3k27ac_phenotypeID relative_Gene_Expression_Beta relative_abs_ATAC_mean_aFC\n",
       "1 NA                  -0.05767463                   0.3645636                 \n",
       "2 NA                  -0.05767463                   0.3645636                 \n",
       "3 NA                  -0.05767463                   0.3645636                 \n",
       "4 NA                  -0.05767463                   0.3645636                 \n",
       "5 NA                  -0.05767463                   0.3645636                 \n",
       "6 NA                  -0.05767463                   0.3645636                 \n",
       "7 NA                  -0.05767463                   0.3645636                 \n",
       "8 NA                  -0.05767463                   0.3645636                 \n",
       "  chic_log_mean_aFC relative_h3k27ac_beta relative_Gene_Expression_Beta\n",
       "1 -0.3801756        NA                    -0.05767463                  \n",
       "2 -0.4176084        NA                    -0.05767463                  \n",
       "3 -0.4177879        NA                    -0.05767463                  \n",
       "4 -0.4133560        NA                    -0.05767463                  \n",
       "5 -0.3801756        NA                    -0.05767463                  \n",
       "6 -0.4176084        NA                    -0.05767463                  \n",
       "7 -0.4177879        NA                    -0.05767463                  \n",
       "8 -0.4133560        NA                    -0.05767463                  "
      ]
     },
     "metadata": {},
     "output_type": "display_data"
    }
   ],
   "source": [
    "###### check C7orf50. were there further effects on histones?\n",
    "\n",
    "setwd(\"~/HRJ_monocytes/BaseQTL/findings_round2_dpnIICorrection/\")\n",
    "\n",
    "prox_27ac_me1 <- fread(\"~/HRJ_monocytes/BaseQTL/findings_round2_dpnIICorrection/blueprint_table_27ac_me1_sig99_LD.txt\")\n",
    "# mak\n",
    "\n",
    "prox_27ac_me1[BaseQTL_feature %like% \"C7orf50\" & !is.na(h3k4me1_beta)]\n",
    "prox_27ac_me1[BaseQTL_feature %like% \"C7orf50\" & !is.na(h3k27ac_beta)]\n",
    "\n",
    "### there was an effect on 27ac\n",
    "\n",
    "# make DpnII fragment starts unique (there are two starts the same, on different chromosomes)\n",
    "prox_27ac_me1[, hg38Dpn_start := paste(Chr, hg38Dpn_start, sep = \"_\")]\n",
    "\n",
    "## Normalise everything to the chic beta\n",
    "prox_27ac_me1[chic_log_mean_aFC > 0, relative_h3k27ac_beta := h3k27ac_beta]\n",
    "prox_27ac_me1[chic_log_mean_aFC < 0, relative_h3k27ac_beta := 0-h3k27ac_beta]\n",
    "prox_27ac_me1[chic_log_mean_aFC > 0, relative_h3k4me1_beta := h3k4me1_beta]\n",
    "prox_27ac_me1[chic_log_mean_aFC < 0, relative_h3k4me1_beta := 0-h3k4me1_beta]\n",
    "\n",
    "prox_27ac_me1[, BaseQTL_hg19Proxy_pos := tstrsplit(BaseQTL_hg19Proxy_ID, split = \":\", keep = 2, type.convert = T)] #because hg19Proxy_pos in this table refers to the SNP in LD\n",
    "\n",
    "prox_27ac_me1[, c(\"h3k27ac_start\", \"h3k27ac_end\") := tstrsplit(h3k27ac_phenotypeID, split = \":\", keep = c(2,3), type.convert = T)]\n",
    "prox_27ac_me1[, h3k27ac_mid := h3k27ac_start+(h3k27ac_end-h3k27ac_start)/2]\n",
    "prox_27ac_me1[, SNP_27ac_dist := abs(h3k27ac_mid-BaseQTL_hg19Proxy_pos)] # these features are in hg19!\n",
    "prox_27ac_me1[, SNP_27ac_Startdist := abs(h3k27ac_start-BaseQTL_hg19Proxy_pos)] # somtimes the peak is very large\n",
    "prox_27ac_me1[, SNP_27ac_Enddist := abs(h3k27ac_end-BaseQTL_hg19Proxy_pos)] # sometimes the peak is very large\n",
    "\n",
    "### how far was the peak?\n",
    "\n",
    "peak_check <- prox_27ac_me1[BaseQTL_feature %like% \"C7orf50\" & !is.na(h3k27ac_beta)]\n",
    "peak_check[, .(Chr, SNP_27ac_dist, SNP_27ac_Startdist, SNP_27ac_Enddist, h3k27ac_mid, h3k27ac_phenotypeID, relative_Gene_Expression_Beta, relative_abs_ATAC_mean_aFC, chic_log_mean_aFC, relative_h3k27ac_beta, relative_Gene_Expression_Beta)]\n",
    "peak_check2 <- prox_27ac_me1[BaseQTL_feature %like% \"C7orf50\"]\n",
    "peak_check2[!is.na(relative_abs_ATAC_mean_aFC), .(Chr, SNP_27ac_dist, SNP_27ac_Startdist, SNP_27ac_Enddist, h3k27ac_mid, h3k27ac_phenotypeID, relative_Gene_Expression_Beta, relative_abs_ATAC_mean_aFC, chic_log_mean_aFC, relative_h3k27ac_beta, relative_Gene_Expression_Beta)]\n",
    "\n",
    "\n",
    "#str(prox_27ac_me1)"
   ]
  },
  {
   "cell_type": "code",
   "execution_count": 11,
   "metadata": {},
   "outputs": [
    {
     "data": {
      "text/html": [
       "<strong>png:</strong> 2"
      ],
      "text/latex": [
       "\\textbf{png:} 2"
      ],
      "text/markdown": [
       "**png:** 2"
      ],
      "text/plain": [
       "png \n",
       "  2 "
      ]
     },
     "metadata": {},
     "output_type": "display_data"
    },
    {
     "data": {
      "image/png": "[encoded data removed]",
      "text/plain": [
       "plot without title"
      ]
     },
     "metadata": {
      "image/png": {
       "height": 420,
       "width": 420
      }
     },
     "output_type": "display_data"
    }
   ],
   "source": [
    "matrix_prep4 <- copy(mat_prep_final_collapsed)\n",
    "###################################################################\n",
    "matrix_prep4[ID == \"rs1152443_KCNK13\", relative_Gene_Expression_Beta := 0.41]\n",
    "#matrix_prep4[ID == \"rs1152443_KCNK13\", ID := \"rs1152443_KCNK13*\"]\n",
    "###################################################################\n",
    "setnames(matrix_prep4, c(\"abs_chic_log_mean_aFC\", \"relative_Gene_Expression_Beta\", \"relative_abs_ATAC_mean_aFC\", \"closest_relative_h3k27ac_beta\", \"closest_relative_h3k4me1_beta\"), \n",
    "        c(\"CHi-C log mean aFC\", \"eGene beta\", \"ATAC log mean aFC\", \"H3K27ac beta\", \"H3K4me1 beta\"))\n",
    "\n",
    "# Set zero to NA\n",
    "matrix_prep4[`ATAC log mean aFC` == 0, `ATAC log mean aFC` := NA]\n",
    "matrix_prep4[`H3K27ac beta` == 0, `H3K27ac beta` := NA]\n",
    "matrix_prep4[`H3K4me1 beta` == 0, `H3K4me1 beta` := NA]\n",
    "\n",
    "mat <- as.data.frame(matrix_prep4[, .(ID, `CHi-C log mean aFC`, `ATAC log mean aFC`, `eGene beta`, `H3K27ac beta`, `H3K4me1 beta`)])\n",
    "rownames(mat) <- mat[,1]\n",
    "mat2 <- mat[ -c(1) ]\n",
    "\n",
    "# make sure center is at zero\n",
    "paletteLength <- 50\n",
    "myColor <- colorRampPalette(c(\"#0072B2\", \"white\", \"orangered3\"))(paletteLength)\n",
    "# length(breaks) == length(paletteLength) + 1\n",
    "# use floor and ceiling to deal with even/odd length pallettelengths\n",
    "myBreaks <- c(seq(min(mat2, na.rm=T), 0, length.out=ceiling(paletteLength/2) + 1), \n",
    "              seq(max(mat2, na.rm=T)/paletteLength, max(mat2, na.rm=T), length.out=floor(paletteLength/2)))\n",
    "\n",
    "####### TO CHECK: C7ORF50 27AC AND THBS1 ME1 \n",
    "\n",
    "save_pheatmap_pdf <- function(x, filename, width=6, height=6) {\n",
    "    stopifnot(!missing(x))\n",
    "    stopifnot(!missing(filename))\n",
    "    pdf(filename, width=width, height=height)\n",
    "    grid::grid.newpage()\n",
    "    grid::grid.draw(x$gtable)\n",
    "    dev.off()\n",
    "}\n",
    "\n",
    "p <- pheatmap(mat2, cluster_rows = F, cluster_cols = F, color = myColor, breaks=myBreaks)\n",
    "save_pheatmap_pdf(p, \"~/HRJ_monocytes/paper/Signif.99_plusBlueprint_heatmap_noMethyl_LD.pdf\")\n"
   ]
  },
  {
   "cell_type": "code",
   "execution_count": 15,
   "metadata": {},
   "outputs": [
    {
     "data": {
      "text/html": [
       "<table class=\"dataframe\">\n",
       "<caption>A data.frame: 19 × 5</caption>\n",
       "<thead>\n",
       "\t<tr><th></th><th scope=col>CHi-C</th><th scope=col>ATAC</th><th scope=col>eGene</th><th scope=col>H3K27ac</th><th scope=col>H3K4me1</th></tr>\n",
       "\t<tr><th></th><th scope=col>&lt;dbl&gt;</th><th scope=col>&lt;dbl&gt;</th><th scope=col>&lt;dbl&gt;</th><th scope=col>&lt;dbl&gt;</th><th scope=col>&lt;dbl&gt;</th></tr>\n",
       "</thead>\n",
       "<tbody>\n",
       "\t<tr><th scope=row>rs13150842_NAAA</th><td>1</td><td>NA</td><td> 1</td><td>NA</td><td> 1</td></tr>\n",
       "\t<tr><th scope=row>rs11731367_NAAA</th><td>1</td><td> 1</td><td> 1</td><td> 1</td><td> 1</td></tr>\n",
       "\t<tr><th scope=row>rs7798572_C7orf50</th><td>1</td><td> 1</td><td>-1</td><td>NA</td><td>NA</td></tr>\n",
       "\t<tr><th scope=row>rs7784502_C7orf50</th><td>1</td><td> 1</td><td>-1</td><td>NA</td><td>NA</td></tr>\n",
       "\t<tr><th scope=row>rs2960849_C7orf50</th><td>1</td><td> 1</td><td>-1</td><td>NA</td><td>NA</td></tr>\n",
       "\t<tr><th scope=row>rs2960848_C7orf50</th><td>1</td><td> 1</td><td>-1</td><td>NA</td><td>NA</td></tr>\n",
       "\t<tr><th scope=row>rs35257100_NFE2L3</th><td>1</td><td> 1</td><td> 1</td><td> 1</td><td> 1</td></tr>\n",
       "\t<tr><th scope=row>rs3006562_SVIL</th><td>1</td><td> 1</td><td> 1</td><td> 1</td><td> 1</td></tr>\n",
       "\t<tr><th scope=row>rs4568912_PTPRE</th><td>1</td><td>NA</td><td> 1</td><td>NA</td><td>NA</td></tr>\n",
       "\t<tr><th scope=row>rs7146599_PCK2</th><td>1</td><td>NA</td><td>-1</td><td>NA</td><td>NA</td></tr>\n",
       "\t<tr><th scope=row>rs1152443_KCNK13</th><td>1</td><td> 1</td><td> 1</td><td> 1</td><td> 1</td></tr>\n",
       "\t<tr><th scope=row>rs4429266_THBS1</th><td>1</td><td>NA</td><td> 1</td><td>NA</td><td> 1</td></tr>\n",
       "\t<tr><th scope=row>rs1530219_THBS1</th><td>1</td><td>NA</td><td> 1</td><td> 1</td><td> 1</td></tr>\n",
       "\t<tr><th scope=row>rs998005_THBS1</th><td>1</td><td> 1</td><td> 1</td><td> 1</td><td> 1</td></tr>\n",
       "\t<tr><th scope=row>rs1354596_THBS1</th><td>1</td><td> 1</td><td> 1</td><td> 1</td><td> 1</td></tr>\n",
       "\t<tr><th scope=row>rs2033937_THBS1</th><td>1</td><td> 1</td><td> 1</td><td> 1</td><td> 1</td></tr>\n",
       "\t<tr><th scope=row>rs894043_THBS1</th><td>1</td><td> 1</td><td> 1</td><td> 1</td><td> 1</td></tr>\n",
       "\t<tr><th scope=row>rs894042_THBS1</th><td>1</td><td> 1</td><td> 1</td><td> 1</td><td> 1</td></tr>\n",
       "\t<tr><th scope=row>rs10415777_TFPT</th><td>1</td><td> 1</td><td> 1</td><td> 1</td><td>NA</td></tr>\n",
       "</tbody>\n",
       "</table>\n"
      ],
      "text/latex": [
       "A data.frame: 19 × 5\n",
       "\\begin{tabular}{r|lllll}\n",
       "  & CHi-C & ATAC & eGene & H3K27ac & H3K4me1\\\\\n",
       "  & <dbl> & <dbl> & <dbl> & <dbl> & <dbl>\\\\\n",
       "\\hline\n",
       "\trs13150842\\_NAAA & 1 & NA &  1 & NA &  1\\\\\n",
       "\trs11731367\\_NAAA & 1 &  1 &  1 &  1 &  1\\\\\n",
       "\trs7798572\\_C7orf50 & 1 &  1 & -1 & NA & NA\\\\\n",
       "\trs7784502\\_C7orf50 & 1 &  1 & -1 & NA & NA\\\\\n",
       "\trs2960849\\_C7orf50 & 1 &  1 & -1 & NA & NA\\\\\n",
       "\trs2960848\\_C7orf50 & 1 &  1 & -1 & NA & NA\\\\\n",
       "\trs35257100\\_NFE2L3 & 1 &  1 &  1 &  1 &  1\\\\\n",
       "\trs3006562\\_SVIL & 1 &  1 &  1 &  1 &  1\\\\\n",
       "\trs4568912\\_PTPRE & 1 & NA &  1 & NA & NA\\\\\n",
       "\trs7146599\\_PCK2 & 1 & NA & -1 & NA & NA\\\\\n",
       "\trs1152443\\_KCNK13 & 1 &  1 &  1 &  1 &  1\\\\\n",
       "\trs4429266\\_THBS1 & 1 & NA &  1 & NA &  1\\\\\n",
       "\trs1530219\\_THBS1 & 1 & NA &  1 &  1 &  1\\\\\n",
       "\trs998005\\_THBS1 & 1 &  1 &  1 &  1 &  1\\\\\n",
       "\trs1354596\\_THBS1 & 1 &  1 &  1 &  1 &  1\\\\\n",
       "\trs2033937\\_THBS1 & 1 &  1 &  1 &  1 &  1\\\\\n",
       "\trs894043\\_THBS1 & 1 &  1 &  1 &  1 &  1\\\\\n",
       "\trs894042\\_THBS1 & 1 &  1 &  1 &  1 &  1\\\\\n",
       "\trs10415777\\_TFPT & 1 &  1 &  1 &  1 & NA\\\\\n",
       "\\end{tabular}\n"
      ],
      "text/markdown": [
       "\n",
       "A data.frame: 19 × 5\n",
       "\n",
       "| <!--/--> | CHi-C &lt;dbl&gt; | ATAC &lt;dbl&gt; | eGene &lt;dbl&gt; | H3K27ac &lt;dbl&gt; | H3K4me1 &lt;dbl&gt; |\n",
       "|---|---|---|---|---|---|\n",
       "| rs13150842_NAAA | 1 | NA |  1 | NA |  1 |\n",
       "| rs11731367_NAAA | 1 |  1 |  1 |  1 |  1 |\n",
       "| rs7798572_C7orf50 | 1 |  1 | -1 | NA | NA |\n",
       "| rs7784502_C7orf50 | 1 |  1 | -1 | NA | NA |\n",
       "| rs2960849_C7orf50 | 1 |  1 | -1 | NA | NA |\n",
       "| rs2960848_C7orf50 | 1 |  1 | -1 | NA | NA |\n",
       "| rs35257100_NFE2L3 | 1 |  1 |  1 |  1 |  1 |\n",
       "| rs3006562_SVIL | 1 |  1 |  1 |  1 |  1 |\n",
       "| rs4568912_PTPRE | 1 | NA |  1 | NA | NA |\n",
       "| rs7146599_PCK2 | 1 | NA | -1 | NA | NA |\n",
       "| rs1152443_KCNK13 | 1 |  1 |  1 |  1 |  1 |\n",
       "| rs4429266_THBS1 | 1 | NA |  1 | NA |  1 |\n",
       "| rs1530219_THBS1 | 1 | NA |  1 |  1 |  1 |\n",
       "| rs998005_THBS1 | 1 |  1 |  1 |  1 |  1 |\n",
       "| rs1354596_THBS1 | 1 |  1 |  1 |  1 |  1 |\n",
       "| rs2033937_THBS1 | 1 |  1 |  1 |  1 |  1 |\n",
       "| rs894043_THBS1 | 1 |  1 |  1 |  1 |  1 |\n",
       "| rs894042_THBS1 | 1 |  1 |  1 |  1 |  1 |\n",
       "| rs10415777_TFPT | 1 |  1 |  1 |  1 | NA |\n",
       "\n"
      ],
      "text/plain": [
       "                  CHi-C ATAC eGene H3K27ac H3K4me1\n",
       "rs13150842_NAAA   1     NA    1    NA       1     \n",
       "rs11731367_NAAA   1      1    1     1       1     \n",
       "rs7798572_C7orf50 1      1   -1    NA      NA     \n",
       "rs7784502_C7orf50 1      1   -1    NA      NA     \n",
       "rs2960849_C7orf50 1      1   -1    NA      NA     \n",
       "rs2960848_C7orf50 1      1   -1    NA      NA     \n",
       "rs35257100_NFE2L3 1      1    1     1       1     \n",
       "rs3006562_SVIL    1      1    1     1       1     \n",
       "rs4568912_PTPRE   1     NA    1    NA      NA     \n",
       "rs7146599_PCK2    1     NA   -1    NA      NA     \n",
       "rs1152443_KCNK13  1      1    1     1       1     \n",
       "rs4429266_THBS1   1     NA    1    NA       1     \n",
       "rs1530219_THBS1   1     NA    1     1       1     \n",
       "rs998005_THBS1    1      1    1     1       1     \n",
       "rs1354596_THBS1   1      1    1     1       1     \n",
       "rs2033937_THBS1   1      1    1     1       1     \n",
       "rs894043_THBS1    1      1    1     1       1     \n",
       "rs894042_THBS1    1      1    1     1       1     \n",
       "rs10415777_TFPT   1      1    1     1      NA     "
      ]
     },
     "metadata": {},
     "output_type": "display_data"
    },
    {
     "data": {
      "image/png": "[encoded data removed]",
      "text/plain": [
       "plot without title"
      ]
     },
     "metadata": {
      "image/png": {
       "height": 420,
       "width": 420
      }
     },
     "output_type": "display_data"
    }
   ],
   "source": [
    "#### Make a binary heatmap.\n",
    "#### Include DpnII fragments as an annotation column.\n",
    "\n",
    "my_dpnII_frags <- unique(matrix_prep4[, .(ID, hg38Dpn_start)])\n",
    "my_dpnII_frags[, ID := NULL]\n",
    "my_dpnII_frags[, hg38Dpn_start := as.factor(hg38Dpn_start)]\n",
    "\n",
    "matrix_prep5 <- matrix_prep4[, .(ID, `CHi-C log mean aFC`, `ATAC log mean aFC`, `eGene beta`, `H3K27ac beta`, `H3K4me1 beta`)]\n",
    "\n",
    "matrix_prep5[`CHi-C log mean aFC` > 0, `CHi-C` := 1]\n",
    "matrix_prep5[`ATAC log mean aFC` > 0, `ATAC` := 1]\n",
    "matrix_prep5[`eGene beta` > 0, `eGene` := 1]\n",
    "matrix_prep5[`eGene beta` < 0, `eGene` := -1]\n",
    "matrix_prep5[`H3K27ac beta` > 0, `H3K27ac` := 1]\n",
    "matrix_prep5[`H3K4me1 beta` > 0, `H3K4me1` := 1]\n",
    "\n",
    "matrix_prep6 <- matrix_prep5[, .(ID, `CHi-C`, ATAC, eGene, H3K27ac, H3K4me1)]\n",
    "\n",
    "mat <- as.data.frame(matrix_prep6)\n",
    "rownames(mat) <- mat[,1]\n",
    "mat2 <- mat[ -c(1) ]\n",
    "\n",
    "# Make rows of DpnII frags the colnames of matrix\n",
    "my_dpnII_frags_annot <- as.data.frame(my_dpnII_frags)\n",
    "rownames(my_dpnII_frags_annot) <- rownames(mat2)\n",
    "\n",
    "# draw the heatmap with row and column annotations\n",
    "\n",
    "# make sure center is at zero\n",
    "paletteLength <- 50\n",
    "myColor <- colorRampPalette(c(\"#0072B2\", \"white\", \"orangered3\"))(paletteLength)\n",
    "# length(breaks) == length(paletteLength) + 1\n",
    "# use floor and ceiling to deal with even/odd length pallettelengths\n",
    "myBreaks <- c(seq(min(mat2, na.rm=T), 0, length.out=ceiling(paletteLength/2) + 1), \n",
    "              seq(max(mat2, na.rm=T)/paletteLength, max(mat2, na.rm=T), length.out=floor(paletteLength/2)))\n",
    "\n",
    "save_pheatmap_pdf <- function(x, filename, width=6, height=6) {\n",
    "    stopifnot(!missing(x))\n",
    "    stopifnot(!missing(filename))\n",
    "    pdf(filename, width=width, height=height)\n",
    "    grid::grid.newpage()\n",
    "    grid::grid.draw(x$gtable)\n",
    "    dev.off()\n",
    "}\n",
    "\n",
    "paletteLength <- 10\n",
    "myColor <- colorRampPalette(c(\"deepskyblue3\", \"white\", \"coral2\"))(paletteLength)\n",
    "#annotColor <- brewer.pal(n = 7, name = \"Paired\")))(paletteLength) need to make nicer\n",
    "# code for changing color pallete:\n",
    "newCols <- colorRampPalette(grDevices::hcl.colors(length(unique(my_dpnII_frags_annot$hg38Dpn_start)), \n",
    "                                                 palette = \"Set2\"))\n",
    "mycolors <- newCols(length(unique(my_dpnII_frags_annot$hg38Dpn_start)))\n",
    "shuf_mycolors <- sample(mycolors)\n",
    "names(shuf_mycolors) <- unique(my_dpnII_frags_annot$hg38Dpn_start)\n",
    "shuf_mycolors <- list(hg38Dpn_start = shuf_mycolors)\n",
    "\n",
    "p <- pheatmap(mat2, cluster_rows = T, cluster_cols = F, annotation_row = my_dpnII_frags_annot, annotation_names_row = F, annotation_legend = T, \n",
    "              color = myColor, annotation_colors = shuf_mycolors) # to add: annotation_colors = annotColor, \n",
    "#save_pheatmap_pdf(p, \"~/HRJ_monocytes/paper/Signif.99_plusBlueprint_heatmap_noMethyl_LD.pdf\")\n",
    "\n",
    "mat2\n",
    "\n",
    "# Save matrix_prep5 for source data, which has the beta values as well as plus/minus.\n",
    "fwrite(matrix_prep5, file = \"~/HRJ_monocytes/paper/source_data/Fig3C_matrix.txt\", \n",
    "      sep = \"\\t\", quote = F, row.names = F, col.names = T)\n"
   ]
  },
  {
   "cell_type": "code",
   "execution_count": 10,
   "metadata": {},
   "outputs": [
    {
     "data": {
      "text/html": [
       "<table class=\"dataframe\">\n",
       "<caption>A data.frame: 19 × 1</caption>\n",
       "<thead>\n",
       "\t<tr><th></th><th scope=col>hg38Dpn_start</th></tr>\n",
       "\t<tr><th></th><th scope=col>&lt;fct&gt;</th></tr>\n",
       "</thead>\n",
       "<tbody>\n",
       "\t<tr><th scope=row>rs13150842_NAAA</th><td>4_75894747  </td></tr>\n",
       "\t<tr><th scope=row>rs11731367_NAAA</th><td>4_75896038  </td></tr>\n",
       "\t<tr><th scope=row>rs7798572_C7orf50</th><td>7_1171069   </td></tr>\n",
       "\t<tr><th scope=row>rs7784502_C7orf50</th><td>7_1171069   </td></tr>\n",
       "\t<tr><th scope=row>rs2960849_C7orf50</th><td>7_1171069   </td></tr>\n",
       "\t<tr><th scope=row>rs2960848_C7orf50</th><td>7_1171069   </td></tr>\n",
       "\t<tr><th scope=row>rs35257100_NFE2L3</th><td>7_26095447  </td></tr>\n",
       "\t<tr><th scope=row>rs3006562_SVIL</th><td>10_29802980 </td></tr>\n",
       "\t<tr><th scope=row>rs4568912_PTPRE</th><td>10_128084364</td></tr>\n",
       "\t<tr><th scope=row>rs7146599_PCK2</th><td>14_24058261 </td></tr>\n",
       "\t<tr><th scope=row>rs1152443_KCNK13</th><td>14_90094012 </td></tr>\n",
       "\t<tr><th scope=row>rs4429266_THBS1</th><td>15_39306545 </td></tr>\n",
       "\t<tr><th scope=row>rs1530219_THBS1</th><td>15_39309938 </td></tr>\n",
       "\t<tr><th scope=row>rs998005_THBS1</th><td>15_39313720 </td></tr>\n",
       "\t<tr><th scope=row>rs1354596_THBS1</th><td>15_39313720 </td></tr>\n",
       "\t<tr><th scope=row>rs2033937_THBS1</th><td>15_39315234 </td></tr>\n",
       "\t<tr><th scope=row>rs894043_THBS1</th><td>15_39315234 </td></tr>\n",
       "\t<tr><th scope=row>rs894042_THBS1</th><td>15_39315234 </td></tr>\n",
       "\t<tr><th scope=row>rs10415777_TFPT</th><td>19_54047847 </td></tr>\n",
       "</tbody>\n",
       "</table>\n"
      ],
      "text/latex": [
       "A data.frame: 19 × 1\n",
       "\\begin{tabular}{r|l}\n",
       "  & hg38Dpn\\_start\\\\\n",
       "  & <fct>\\\\\n",
       "\\hline\n",
       "\trs13150842\\_NAAA & 4\\_75894747  \\\\\n",
       "\trs11731367\\_NAAA & 4\\_75896038  \\\\\n",
       "\trs7798572\\_C7orf50 & 7\\_1171069   \\\\\n",
       "\trs7784502\\_C7orf50 & 7\\_1171069   \\\\\n",
       "\trs2960849\\_C7orf50 & 7\\_1171069   \\\\\n",
       "\trs2960848\\_C7orf50 & 7\\_1171069   \\\\\n",
       "\trs35257100\\_NFE2L3 & 7\\_26095447  \\\\\n",
       "\trs3006562\\_SVIL & 10\\_29802980 \\\\\n",
       "\trs4568912\\_PTPRE & 10\\_128084364\\\\\n",
       "\trs7146599\\_PCK2 & 14\\_24058261 \\\\\n",
       "\trs1152443\\_KCNK13 & 14\\_90094012 \\\\\n",
       "\trs4429266\\_THBS1 & 15\\_39306545 \\\\\n",
       "\trs1530219\\_THBS1 & 15\\_39309938 \\\\\n",
       "\trs998005\\_THBS1 & 15\\_39313720 \\\\\n",
       "\trs1354596\\_THBS1 & 15\\_39313720 \\\\\n",
       "\trs2033937\\_THBS1 & 15\\_39315234 \\\\\n",
       "\trs894043\\_THBS1 & 15\\_39315234 \\\\\n",
       "\trs894042\\_THBS1 & 15\\_39315234 \\\\\n",
       "\trs10415777\\_TFPT & 19\\_54047847 \\\\\n",
       "\\end{tabular}\n"
      ],
      "text/markdown": [
       "\n",
       "A data.frame: 19 × 1\n",
       "\n",
       "| <!--/--> | hg38Dpn_start &lt;fct&gt; |\n",
       "|---|---|\n",
       "| rs13150842_NAAA | 4_75894747   |\n",
       "| rs11731367_NAAA | 4_75896038   |\n",
       "| rs7798572_C7orf50 | 7_1171069    |\n",
       "| rs7784502_C7orf50 | 7_1171069    |\n",
       "| rs2960849_C7orf50 | 7_1171069    |\n",
       "| rs2960848_C7orf50 | 7_1171069    |\n",
       "| rs35257100_NFE2L3 | 7_26095447   |\n",
       "| rs3006562_SVIL | 10_29802980  |\n",
       "| rs4568912_PTPRE | 10_128084364 |\n",
       "| rs7146599_PCK2 | 14_24058261  |\n",
       "| rs1152443_KCNK13 | 14_90094012  |\n",
       "| rs4429266_THBS1 | 15_39306545  |\n",
       "| rs1530219_THBS1 | 15_39309938  |\n",
       "| rs998005_THBS1 | 15_39313720  |\n",
       "| rs1354596_THBS1 | 15_39313720  |\n",
       "| rs2033937_THBS1 | 15_39315234  |\n",
       "| rs894043_THBS1 | 15_39315234  |\n",
       "| rs894042_THBS1 | 15_39315234  |\n",
       "| rs10415777_TFPT | 19_54047847  |\n",
       "\n"
      ],
      "text/plain": [
       "                  hg38Dpn_start\n",
       "rs13150842_NAAA   4_75894747   \n",
       "rs11731367_NAAA   4_75896038   \n",
       "rs7798572_C7orf50 7_1171069    \n",
       "rs7784502_C7orf50 7_1171069    \n",
       "rs2960849_C7orf50 7_1171069    \n",
       "rs2960848_C7orf50 7_1171069    \n",
       "rs35257100_NFE2L3 7_26095447   \n",
       "rs3006562_SVIL    10_29802980  \n",
       "rs4568912_PTPRE   10_128084364 \n",
       "rs7146599_PCK2    14_24058261  \n",
       "rs1152443_KCNK13  14_90094012  \n",
       "rs4429266_THBS1   15_39306545  \n",
       "rs1530219_THBS1   15_39309938  \n",
       "rs998005_THBS1    15_39313720  \n",
       "rs1354596_THBS1   15_39313720  \n",
       "rs2033937_THBS1   15_39315234  \n",
       "rs894043_THBS1    15_39315234  \n",
       "rs894042_THBS1    15_39315234  \n",
       "rs10415777_TFPT   19_54047847  "
      ]
     },
     "metadata": {},
     "output_type": "display_data"
    }
   ],
   "source": [
    "my_dpnII_frags_annot"
   ]
  }
 ],
 "metadata": {
  "kernelspec": {
   "display_name": "R [conda env:DT_DPLYR]",
   "language": "R",
   "name": "conda-env-DT_DPLYR-r"
  },
  "language_info": {
   "codemirror_mode": "r",
   "file_extension": ".r",
   "mimetype": "text/x-r-source",
   "name": "R",
   "pygments_lexer": "r",
   "version": "4.1.2"
  }
 },
 "nbformat": 4,
 "nbformat_minor": 2
}
